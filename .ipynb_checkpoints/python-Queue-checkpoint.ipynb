{
 "cells": [
  {
   "cell_type": "code",
   "execution_count": 1,
   "metadata": {},
   "outputs": [
    {
     "name": "stdout",
     "output_type": "stream",
     "text": [
      "0\n",
      "1\n",
      "2\n"
     ]
    }
   ],
   "source": [
    "\"\"\"Python的Queue模块提供一种适用于多线程编程的FIFO实现。它可用于在生产者(producer)和消费者(consumer)之间线程安全(thread-safe)地传递消息或其它数据，因此多个线程可以共用同一个Queue实例。Queue的大小（元素的个数）可用来限制内存的使用。\n",
    "\n",
    "+\n",
    "Basic FIFO Queue\n",
    "Queue类实现了一个基本的先进先出(FIFO)容器，使用put()将元素添加到序列尾端，get()从队列尾部移除元素。\n",
    "\n",
    "+\n",
    "--------------------- \n",
    "作者：GeekLeee \n",
    "来源：CSDN \n",
    "原文：https://blog.csdn.net/GeekLeee/article/details/77883252 \n",
    "版权声明：本文为博主原创文章，转载请附上博文链接！\"\"\"\n",
    "from queue import Queue\n",
    "q = Queue()\n",
    "for i in range(3):\n",
    "    q.put(i)\n",
    "while not q.empty():\n",
    "    print(q.get())"
   ]
  },
  {
   "cell_type": "code",
   "execution_count": 2,
   "metadata": {},
   "outputs": [
    {
     "name": "stdout",
     "output_type": "stream",
     "text": [
      "2\n",
      "1\n",
      "0\n"
     ]
    }
   ],
   "source": [
    "\"\"\"LIFO Queue\n",
    "与标准FIFO实现Queue不同的是，LifoQueue使用后进先出序（会关联一个栈数据结构）。\"\"\"\n",
    "from queue import LifoQueue\n",
    "q = LifoQueue()\n",
    "for i in range(3):\n",
    "    q.put(i)\n",
    "while not q.empty():\n",
    "    print(q.get())"
   ]
  },
  {
   "cell_type": "code",
   "execution_count": 3,
   "metadata": {},
   "outputs": [
    {
     "name": "stdout",
     "output_type": "stream",
     "text": [
      "New job: Mid-level job\n",
      "New job: Low-level job\n",
      "New job: Important job\n",
      "Processing job Important job\n",
      "Processing job Mid-level job\n",
      "Processing job Low-level job\n"
     ]
    }
   ],
   "source": [
    "\"\"\"Priority Queue（优先队列）\n",
    "除了按元素入列顺序外，有时需要根据队列中元素的特性来决定元素的处理顺序。例如，财务部门的打印任务可能比码农的代码打印任务优先级更高。PriorityQueue依据队列中内容的排序顺序(sort order)来决定那个元素将被检索。\"\"\"\n",
    "from queue import PriorityQueue\n",
    "class Job(object):\n",
    "    def __init__(self, priority, description):\n",
    "        self.priority = priority\n",
    "        self.description = description\n",
    "        print('New job:', description)\n",
    "        \n",
    "    def __lt__(self, other):\n",
    "        return self.priority < other.priority\n",
    "    \n",
    "q = PriorityQueue()\n",
    "q.put(Job(5, 'Mid-level job'))\n",
    "q.put(Job(10, 'Low-level job'))\n",
    "q.put(Job(1, 'Important job'))\n",
    "\n",
    "while not q.empty():\n",
    "    next_job = q.get()\n",
    "    print('Processing job', next_job.description)"
   ]
  },
  {
   "cell_type": "code",
   "execution_count": null,
   "metadata": {},
   "outputs": [],
   "source": [
    "\"\"\"Using Queues with Threads\n",
    "下例通过创建一个简单的播客客户端来展示如何将Queue类和多线程结合使用。这个客户端会从一个或多个RSS源读取内容，先创建一个用于存放下载内容的队列，然后使用多线程并行地处理多个下载任务。\"\"\"\n",
    "import time\n",
    "from queue import Queue\n",
    "from threading import Thread\n",
    "\n"
   ]
  }
 ],
 "metadata": {
  "kernelspec": {
   "display_name": "Python 3",
   "language": "python",
   "name": "python3"
  },
  "language_info": {
   "codemirror_mode": {
    "name": "ipython",
    "version": 3
   },
   "file_extension": ".py",
   "mimetype": "text/x-python",
   "name": "python",
   "nbconvert_exporter": "python",
   "pygments_lexer": "ipython3",
   "version": "3.6.4"
  }
 },
 "nbformat": 4,
 "nbformat_minor": 2
}
