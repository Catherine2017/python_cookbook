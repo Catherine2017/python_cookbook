{
 "cells": [
  {
   "cell_type": "code",
   "execution_count": 8,
   "metadata": {},
   "outputs": [
    {
     "name": "stdout",
     "output_type": "stream",
     "text": [
      "<Person: piglei(24)>\n"
     ]
    }
   ],
   "source": [
    "# 详解Python中的__init__和__new__\n",
    "## 一、__init__ 方法是什么？\n",
    "\"\"\"使用Python写过面向对象的代码的同学，可能对 __init__ 方法已经非常熟悉了，__init__ 方法通常用在初始化一个类实例的时候。例如：\"\"\"\n",
    "class Person(object):\n",
    "    def __init__(self, name, age):\n",
    "        self.name = name\n",
    "        self.age = age\n",
    "        \n",
    "    def __str__(self):\n",
    "        return '<Person: %s(%s)>' % (self.name, self.age)\n",
    "piglei = Person('piglei', 24)\n",
    "print(piglei)"
   ]
  },
  {
   "cell_type": "code",
   "execution_count": 18,
   "metadata": {},
   "outputs": [
    {
     "name": "stdout",
     "output_type": "stream",
     "text": [
      "__new__ called.\n",
      "__init__ called.\n",
      "<Person: piglei(24)>\n"
     ]
    }
   ],
   "source": [
    "\"\"\"这样便是__init__最普通的用法了。但__init__其实不是实例化一个类的时候第一个被调用 的方法。当使用 Persion(name, age) 这样的表达式来实例化一个类时，最先被调用的方法 其实是 __new__ 方法。\"\"\"\n",
    "## 二、__new__ 方法是什么？\n",
    "\"\"\"__new__方法接受的参数虽然也是和__init__一样，但__init__是在类实例创建之后调用，而 __new__方法正是创建这个类实例的方法。\"\"\"\n",
    "\"\"\"In Python 3.3 and later, if you're overriding both __new__ and __init__, you need to avoid passing any extra arguments to the object methods you're overriding. If you only override one of those methods, it's allowed to pass extra arguments to the other one (since that usually happens without your help).\n",
    "\n",
    "So, to fix your class, change the __new__ method like so:\n",
    "\n",
    "def __new__(cls, nom, prenom):\n",
    "    print(\"Appel de la méthode __new__ de la classe {}\".format(cls))\n",
    "    return object.__new__(cls) # don't pass extra arguments here!\"\"\"\n",
    "class Person(object):\n",
    "    \"\"\"Silly Person\"\"\"\n",
    " \n",
    "    def __new__(cls, name, age):\n",
    "        print('__new__ called.')\n",
    "        return super(Person, cls).__new__(cls)\n",
    " \n",
    "    def __init__(self, name, age):\n",
    "        print('__init__ called.')\n",
    "        self.name = name\n",
    "        self.age = age\n",
    " \n",
    "    def __str__(self):\n",
    "        return '<Person: %s(%s)>' % (self.name, self.age)\n",
    "piglei = Person('piglei', 24)\n",
    "print(piglei)"
   ]
  },
  {
   "cell_type": "code",
   "execution_count": 43,
   "metadata": {},
   "outputs": [
    {
     "name": "stdout",
     "output_type": "stream",
     "text": [
      "None\n"
     ]
    }
   ],
   "source": [
    "\"\"\"通过运行这段代码，我们可以看到，__new__方法的调用是发生在__init__之前的。其实当 你实例化一个类的时候，具体的执行逻辑是这样的：\n",
    "\n",
    "1.p = Person(name, age)\n",
    "2.首先执行使用name和age参数来执行Person类的__new__方法，这个__new__方法会 返回Person类的一个实例（通常情况下是使用 super(Persion, cls).__new__(cls, … …) 这样的方式），\n",
    "3.然后利用这个实例来调用类的__init__方法，上一步里面__new__产生的实例也就是 __init__里面的的 self\n",
    "所以，__init__ 和 __new__ 最主要的区别在于：\n",
    "1.__init__ 通常用于初始化一个新实例，控制这个初始化的过程，比如添加一些属性， 做一些额外的操作，发生在类实例被创建完以后。它是实例级别的方法。\n",
    "2.__new__ 通常用于控制生成一个新实例的过程。它是类级别的方法。\n",
    "但是说了这么多，__new__最通常的用法是什么呢，我们什么时候需要__new__？\"\"\"\n",
    "## 三、__new__ 的作用\n",
    "\"\"\"依照Python官方文档的说法，__new__方法主要是当你继承一些不可变的class时(比如int, str, tuple)， 提供给你一个自定义这些类的实例化过程的途径。还有就是实现自定义的metaclass。\n",
    "首先我们来看一下第一个功能，具体我们可以用int来作为一个例子：\n",
    "假如我们需要一个永远都是正数的整数类型，通过集成int，我们可能会写出这样的代码。\"\"\"\n",
    "class PositiveInteger(int):\n",
    "    def __init__(self, value):\n",
    "        return super(PositiveInteger, self).__init__(self, abs(value))\n",
    "        \n",
    "    def __new__(cls, *args, **kwargs):\n",
    "        super().__new__(cls)\n",
    "    \n",
    "i = PositiveInteger(-3)\n",
    "print(i)"
   ]
  },
  {
   "cell_type": "code",
   "execution_count": 44,
   "metadata": {},
   "outputs": [
    {
     "name": "stdout",
     "output_type": "stream",
     "text": [
      "3\n"
     ]
    }
   ],
   "source": [
    "class PositiveInteger(int):\n",
    "    def __new__(cls, value):\n",
    "        return super().__new__(cls, abs(value))\n",
    "\n",
    "i = PositiveInteger(-3)\n",
    "print(i)"
   ]
  },
  {
   "cell_type": "code",
   "execution_count": 27,
   "metadata": {},
   "outputs": [
    {
     "data": {
      "text/plain": [
       "3"
      ]
     },
     "execution_count": 27,
     "metadata": {},
     "output_type": "execute_result"
    }
   ],
   "source": [
    "abs(-3)"
   ]
  },
  {
   "cell_type": "code",
   "execution_count": 41,
   "metadata": {},
   "outputs": [
    {
     "name": "stdout",
     "output_type": "stream",
     "text": [
      "value1 value1\n"
     ]
    }
   ],
   "source": [
    "\"\"\"通过重载__new__方法，我们实现了需要的功能。\n",
    "另外一个作用，关于自定义metaclass。其实我最早接触__new__的时候，就是因为需要自定义 metaclass，但鉴于篇幅原因，我们下次再来讲python中的metaclass和__new__的关系。\"\"\"\n",
    "## 四、用__new__来实现单例\n",
    "\"\"\"事实上，当我们理解了__new__方法后，我们还可以利用它来做一些其他有趣的事情，比如实现 设计模式中的 单例模式(singleton) 。\n",
    "因为类每一次实例化后产生的过程都是通过__new__来控制的，所以通过重载__new__方法，我们 可以很简单的实现单例模式。\"\"\"\n",
    "class Singleton(object):\n",
    "    def __new__(cls):\n",
    "        if not hasattr(cls, 'instance'):\n",
    "            cls.instance =  super().__new__(cls)\n",
    "        return cls.instance\n",
    "obj1 = Singleton()\n",
    "obj2 = Singleton()\n",
    "obj1.attr1 = 'value1'\n",
    "print(obj1.attr1, obj2.attr1)"
   ]
  },
  {
   "cell_type": "code",
   "execution_count": 42,
   "metadata": {},
   "outputs": [
    {
     "name": "stdout",
     "output_type": "stream",
     "text": [
      "True\n"
     ]
    }
   ],
   "source": [
    "print(obj1 is obj2)"
   ]
  },
  {
   "cell_type": "code",
   "execution_count": null,
   "metadata": {},
   "outputs": [],
   "source": []
  }
 ],
 "metadata": {
  "kernelspec": {
   "display_name": "Python 3",
   "language": "python",
   "name": "python3"
  },
  "language_info": {
   "codemirror_mode": {
    "name": "ipython",
    "version": 3
   },
   "file_extension": ".py",
   "mimetype": "text/x-python",
   "name": "python",
   "nbconvert_exporter": "python",
   "pygments_lexer": "ipython3",
   "version": "3.6.4"
  }
 },
 "nbformat": 4,
 "nbformat_minor": 2
}
