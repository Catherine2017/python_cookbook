{
 "cells": [
  {
   "cell_type": "code",
   "execution_count": 1,
   "metadata": {},
   "outputs": [
    {
     "name": "stdout",
     "output_type": "stream",
     "text": [
      "  8           0 SETUP_LOOP              30 (to 32)\n",
      "        >>    2 LOAD_FAST                0 (n)\n",
      "              4 LOAD_CONST               1 (0)\n",
      "              6 COMPARE_OP               4 (>)\n",
      "              8 POP_JUMP_IF_FALSE       30\n",
      "\n",
      "  9          10 LOAD_GLOBAL              0 (print)\n",
      "             12 LOAD_CONST               2 ('T-minus')\n",
      "             14 LOAD_FAST                0 (n)\n",
      "             16 CALL_FUNCTION            2\n",
      "             18 POP_TOP\n",
      "\n",
      " 10          20 LOAD_FAST                0 (n)\n",
      "             22 LOAD_CONST               3 (1)\n",
      "             24 INPLACE_SUBTRACT\n",
      "             26 STORE_FAST               0 (n)\n",
      "             28 JUMP_ABSOLUTE            2\n",
      "        >>   30 POP_BLOCK\n",
      "\n",
      " 11     >>   32 LOAD_GLOBAL              0 (print)\n",
      "             34 LOAD_CONST               4 ('Blastoff!')\n",
      "             36 CALL_FUNCTION            1\n",
      "             38 POP_TOP\n",
      "             40 LOAD_CONST               0 (None)\n",
      "             42 RETURN_VALUE\n"
     ]
    }
   ],
   "source": [
    "# 9.25 拆解Python字节码\n",
    "\"\"\"问题\n",
    "你想通过将你的代码反编译成低级的字节码来查看它底层的工作机制。\n",
    "\n",
    "解决方案\n",
    "dis 模块可以被用来输出任何Python函数的反编译结果。例如：\"\"\"\n",
    "def countdown(n):\n",
    "    while n > 0:\n",
    "        print('T-minus', n)\n",
    "        n -= 1\n",
    "    print('Blastoff!')\n",
    "import dis\n",
    "dis.dis(countdown)"
   ]
  },
  {
   "cell_type": "code",
   "execution_count": 2,
   "metadata": {},
   "outputs": [
    {
     "data": {
      "text/plain": [
       "b'x\\x1e|\\x00d\\x01k\\x04r\\x1et\\x00d\\x02|\\x00\\x83\\x02\\x01\\x00|\\x00d\\x038\\x00}\\x00q\\x02W\\x00t\\x00d\\x04\\x83\\x01\\x01\\x00d\\x00S\\x00'"
      ]
     },
     "execution_count": 2,
     "metadata": {},
     "output_type": "execute_result"
    }
   ],
   "source": [
    "\"\"\"讨论\n",
    "当你想要知道你的程序底层的运行机制的时候，dis 模块是很有用的。比如如果你想试着理解性能特征。 被 dis() 函数解析的原始字节码如下所示：\"\"\"\n",
    "countdown.__code__.co_code"
   ]
  },
  {
   "cell_type": "code",
   "execution_count": 3,
   "metadata": {},
   "outputs": [
    {
     "data": {
      "text/plain": [
       "'SETUP_LOOP'"
      ]
     },
     "execution_count": 3,
     "metadata": {},
     "output_type": "execute_result"
    }
   ],
   "source": [
    "\"\"\"如果你想自己解释这段代码，你需要使用一些在 opcode 模块中定义的常量。例如：\"\"\"\n",
    "c= countdown.__code__.co_code\n",
    "import opcode\n",
    "opcode.opname[c[0]]\n"
   ]
  },
  {
   "cell_type": "code",
   "execution_count": 4,
   "metadata": {},
   "outputs": [
    {
     "data": {
      "text/plain": [
       "'<0>'"
      ]
     },
     "execution_count": 4,
     "metadata": {},
     "output_type": "execute_result"
    }
   ],
   "source": [
    "opcode.opname[c[3]]"
   ]
  },
  {
   "cell_type": "code",
   "execution_count": 5,
   "metadata": {},
   "outputs": [],
   "source": [
    "\"\"\"奇怪的是，在 dis 模块中并没有函数让你以编程方式很容易的来处理字节码。 不过，下面的生成器函数可以将原始字节码序列转换成 opcodes 和参数。\"\"\"\n",
    "import opcode\n",
    "def generate_opcodes(codebytes):\n",
    "    extended_arg = 0\n",
    "    i = 0\n",
    "    n = len(codebytes)\n",
    "    while i < n:\n",
    "        op = codebytes[i]\n",
    "        if op >= opcode.HAVE_ARGUMENT:\n",
    "            oparg = codebytes[i] + codebytes[i+1]*256+extended_arg\n",
    "            extended_arg = 0\n",
    "            i += 2\n",
    "            if op == opcode.EXTENDED_ARG:\n",
    "                extended_arg = oparg*65536\n",
    "                continue\n",
    "        else:\n",
    "            oparg = None\n",
    "    yield(op, oparg)"
   ]
  },
  {
   "cell_type": "code",
   "execution_count": null,
   "metadata": {},
   "outputs": [],
   "source": [
    "\"\"\"使用方法如下：\"\"\"\n",
    "for op, oparg in generate_opcodes(countdown.__code__.co_code):\n",
    "    print(op, opcode.opname[op], oparg)"
   ]
  },
  {
   "cell_type": "code",
   "execution_count": null,
   "metadata": {},
   "outputs": [],
   "source": [
    "\"\"\"这种方式很少有人知道，你可以利用它替换任何你想要替换的函数的原始字节码。 下面我们用一个示例来演示整个过程：\"\"\"\n",
    "def add(x, y):\n",
    "    return x+y\n",
    "c = add.__code__\n",
    "c"
   ]
  },
  {
   "cell_type": "code",
   "execution_count": null,
   "metadata": {},
   "outputs": [],
   "source": [
    "c.co_code"
   ]
  },
  {
   "cell_type": "code",
   "execution_count": null,
   "metadata": {},
   "outputs": [],
   "source": [
    "\"\"\"你可以像这样耍大招让解释器奔溃。但是，对于编写更高级优化和元编程工具的程序员来讲， 他们可能真的需要重写字节码。本节最后的部分演示了这个是怎样做到的。你还可以参考另外一个类似的例子： this code on ActiveState\"\"\""
   ]
  }
 ],
 "metadata": {
  "kernelspec": {
   "display_name": "Python 3",
   "language": "python",
   "name": "python3"
  },
  "language_info": {
   "codemirror_mode": {
    "name": "ipython",
    "version": 3
   },
   "file_extension": ".py",
   "mimetype": "text/x-python",
   "name": "python",
   "nbconvert_exporter": "python",
   "pygments_lexer": "ipython3",
   "version": "3.6.5"
  }
 },
 "nbformat": 4,
 "nbformat_minor": 2
}
