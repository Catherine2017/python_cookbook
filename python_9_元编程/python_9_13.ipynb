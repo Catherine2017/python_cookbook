{
 "cells": [
  {
   "cell_type": "code",
   "execution_count": 1,
   "metadata": {},
   "outputs": [],
   "source": [
    "# 9.13 使用元类控制实例的创建\n",
    "\"\"\"问题\n",
    "你想通过改变实例创建方式来实现单例、缓存或其他类似的特性。\n",
    "\n",
    "解决方案\n",
    "Python程序员都知道，如果你定义了一个类，就能像函数一样的调用它来创建实例，例如：\"\"\"\n",
    "class Spam:\n",
    "    def __init__(self, name):\n",
    "        self.name = name\n",
    "\n",
    "a = Spam('Guido')\n",
    "b = Spam('Diana')"
   ]
  },
  {
   "cell_type": "code",
   "execution_count": 2,
   "metadata": {},
   "outputs": [],
   "source": [
    "\"\"\"如果你想自定义这个步骤，你可以定义一个元类并自己实现 __call__() 方法。\n",
    "\n",
    "为了演示，假设你不想任何人创建这个类的实例：\"\"\"\n",
    "class NoInstances(type):\n",
    "    def __call__(self, *args, **kwargs):\n",
    "        raise TypeError(\"Can not instantiate directly\")\n",
    "        \n",
    "class Spam(metaclass=NoInstances):\n",
    "    @staticmethod\n",
    "    def grok(x):\n",
    "        print('Spam.grok')"
   ]
  },
  {
   "cell_type": "code",
   "execution_count": 3,
   "metadata": {},
   "outputs": [
    {
     "name": "stdout",
     "output_type": "stream",
     "text": [
      "Spam.grok\n"
     ]
    }
   ],
   "source": [
    "\"\"\"这样的话，用户只能调用这个类的静态方法，而不能使用通常的方法来创建它的实例。例如：\"\"\"\n",
    "Spam.grok(42)"
   ]
  },
  {
   "cell_type": "code",
   "execution_count": 4,
   "metadata": {},
   "outputs": [
    {
     "ename": "TypeError",
     "evalue": "Can not instantiate directly",
     "output_type": "error",
     "traceback": [
      "\u001b[1;31m---------------------------------------------------------------------------\u001b[0m",
      "\u001b[1;31mTypeError\u001b[0m                                 Traceback (most recent call last)",
      "\u001b[1;32m<ipython-input-4-ee1b074714bf>\u001b[0m in \u001b[0;36m<module>\u001b[1;34m()\u001b[0m\n\u001b[1;32m----> 1\u001b[1;33m \u001b[0ms\u001b[0m \u001b[1;33m=\u001b[0m \u001b[0mSpam\u001b[0m\u001b[1;33m(\u001b[0m\u001b[1;33m)\u001b[0m\u001b[1;33m\u001b[0m\u001b[0m\n\u001b[0m",
      "\u001b[1;32m<ipython-input-2-89c5201381b9>\u001b[0m in \u001b[0;36m__call__\u001b[1;34m(self, *args, **kwargs)\u001b[0m\n\u001b[0;32m      4\u001b[0m \u001b[1;32mclass\u001b[0m \u001b[0mNoInstances\u001b[0m\u001b[1;33m(\u001b[0m\u001b[0mtype\u001b[0m\u001b[1;33m)\u001b[0m\u001b[1;33m:\u001b[0m\u001b[1;33m\u001b[0m\u001b[0m\n\u001b[0;32m      5\u001b[0m     \u001b[1;32mdef\u001b[0m \u001b[0m__call__\u001b[0m\u001b[1;33m(\u001b[0m\u001b[0mself\u001b[0m\u001b[1;33m,\u001b[0m \u001b[1;33m*\u001b[0m\u001b[0margs\u001b[0m\u001b[1;33m,\u001b[0m \u001b[1;33m**\u001b[0m\u001b[0mkwargs\u001b[0m\u001b[1;33m)\u001b[0m\u001b[1;33m:\u001b[0m\u001b[1;33m\u001b[0m\u001b[0m\n\u001b[1;32m----> 6\u001b[1;33m         \u001b[1;32mraise\u001b[0m \u001b[0mTypeError\u001b[0m\u001b[1;33m(\u001b[0m\u001b[1;34m\"Can not instantiate directly\"\u001b[0m\u001b[1;33m)\u001b[0m\u001b[1;33m\u001b[0m\u001b[0m\n\u001b[0m\u001b[0;32m      7\u001b[0m \u001b[1;33m\u001b[0m\u001b[0m\n\u001b[0;32m      8\u001b[0m \u001b[1;32mclass\u001b[0m \u001b[0mSpam\u001b[0m\u001b[1;33m(\u001b[0m\u001b[0mmetaclass\u001b[0m\u001b[1;33m=\u001b[0m\u001b[0mNoInstances\u001b[0m\u001b[1;33m)\u001b[0m\u001b[1;33m:\u001b[0m\u001b[1;33m\u001b[0m\u001b[0m\n",
      "\u001b[1;31mTypeError\u001b[0m: Can not instantiate directly"
     ]
    }
   ],
   "source": [
    "s = Spam()"
   ]
  },
  {
   "cell_type": "code",
   "execution_count": 5,
   "metadata": {},
   "outputs": [],
   "source": [
    "\"\"\"现在，假如你想实现单例模式（只能创建唯一实例的类），实现起来也很简单：\"\"\"\n",
    "class Singleton(type):\n",
    "    def __init__(self, *args, **kwargs):\n",
    "        self._instance = None\n",
    "        super().__init__(*args, **kwargs)\n",
    "        \n",
    "    def __call__(self, *args, **kwargs):\n",
    "        if self._instance is None:\n",
    "            self._instance = super().__call__(*args, **kwargs)\n",
    "            return self._instance\n",
    "        else:\n",
    "            return self._instance\n",
    "        \n",
    "class Spam(metaclass=Singleton):\n",
    "    def __init__(self):\n",
    "        print('Creating Spam')"
   ]
  },
  {
   "cell_type": "code",
   "execution_count": 6,
   "metadata": {},
   "outputs": [
    {
     "name": "stdout",
     "output_type": "stream",
     "text": [
      "Creating Spam\n"
     ]
    }
   ],
   "source": [
    "\"\"\"那么Spam类就只能创建唯一的实例了，演示如下：\"\"\"\n",
    "a = Spam()\n"
   ]
  },
  {
   "cell_type": "code",
   "execution_count": 7,
   "metadata": {},
   "outputs": [],
   "source": [
    "b = Spam()"
   ]
  },
  {
   "cell_type": "code",
   "execution_count": 8,
   "metadata": {},
   "outputs": [
    {
     "data": {
      "text/plain": [
       "True"
      ]
     },
     "execution_count": 8,
     "metadata": {},
     "output_type": "execute_result"
    }
   ],
   "source": [
    "a is b"
   ]
  },
  {
   "cell_type": "code",
   "execution_count": 15,
   "metadata": {},
   "outputs": [],
   "source": [
    "\"\"\"最后，假设你想创建8.25小节中那样的缓存实例。下面我们可以通过元类来实现：\"\"\"\n",
    "import weakref\n",
    "\n",
    "class Cached(type):\n",
    "    def __init__(self, *args, **kwargs):\n",
    "        super().__init__(*args, **kwargs)\n",
    "        self.__cache = weakref.WeakValueDictionary()\n",
    "\n",
    "    def __call__(self, *args):\n",
    "        if args in self.__cache:\n",
    "            return self.__cache[args]\n",
    "        else:\n",
    "            obj = super().__call__(*args)\n",
    "            self.__cache[args] = obj\n",
    "            return obj\n",
    "\n",
    "# Example\n",
    "class Spam(metaclass=Cached):\n",
    "    def __init__(self, name):\n",
    "        print('Creating Spam({!r})'.format(name))\n",
    "        self.name = name"
   ]
  },
  {
   "cell_type": "code",
   "execution_count": 16,
   "metadata": {},
   "outputs": [
    {
     "name": "stdout",
     "output_type": "stream",
     "text": [
      "Creating Spam('Guido')\n"
     ]
    }
   ],
   "source": [
    "\"\"\"然后我也来测试一下：\"\"\"\n",
    "a = Spam('Guido')\n"
   ]
  },
  {
   "cell_type": "code",
   "execution_count": 17,
   "metadata": {},
   "outputs": [
    {
     "name": "stdout",
     "output_type": "stream",
     "text": [
      "Creating Spam('Diana')\n"
     ]
    }
   ],
   "source": [
    "b = Spam('Diana')"
   ]
  },
  {
   "cell_type": "code",
   "execution_count": 18,
   "metadata": {},
   "outputs": [],
   "source": [
    "c = Spam('Guido')"
   ]
  },
  {
   "cell_type": "code",
   "execution_count": 19,
   "metadata": {},
   "outputs": [
    {
     "data": {
      "text/plain": [
       "False"
      ]
     },
     "execution_count": 19,
     "metadata": {},
     "output_type": "execute_result"
    }
   ],
   "source": [
    "a is b"
   ]
  },
  {
   "cell_type": "code",
   "execution_count": 20,
   "metadata": {},
   "outputs": [
    {
     "data": {
      "text/plain": [
       "True"
      ]
     },
     "execution_count": 20,
     "metadata": {},
     "output_type": "execute_result"
    }
   ],
   "source": [
    "a is c "
   ]
  },
  {
   "cell_type": "code",
   "execution_count": 21,
   "metadata": {},
   "outputs": [],
   "source": [
    "\"\"\"讨论\n",
    "利用元类实现多种实例创建模式通常要比不使用元类的方式优雅得多。\n",
    "\n",
    "假设你不使用元类，你可能需要将类隐藏在某些工厂函数后面。 比如为了实现一个单例，你你可能会像下面这样写：\"\"\"\n",
    "class _Spam:\n",
    "    def __init__(self):\n",
    "        print('Creating Spam')\n",
    "\n",
    "_spam_instance = None\n",
    "\n",
    "def Spam():\n",
    "    global _spam_instance\n",
    "\n",
    "    if _spam_instance is not None:\n",
    "        return _spam_instance\n",
    "    else:\n",
    "        _spam_instance = _Spam()\n",
    "        return _spam_instance"
   ]
  },
  {
   "cell_type": "code",
   "execution_count": null,
   "metadata": {},
   "outputs": [],
   "source": []
  }
 ],
 "metadata": {
  "kernelspec": {
   "display_name": "Python 3",
   "language": "python",
   "name": "python3"
  },
  "language_info": {
   "codemirror_mode": {
    "name": "ipython",
    "version": 3
   },
   "file_extension": ".py",
   "mimetype": "text/x-python",
   "name": "python",
   "nbconvert_exporter": "python",
   "pygments_lexer": "ipython3",
   "version": "3.6.4"
  }
 },
 "nbformat": 4,
 "nbformat_minor": 2
}
