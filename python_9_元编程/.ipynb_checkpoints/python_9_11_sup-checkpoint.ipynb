{
 "cells": [
  {
   "cell_type": "code",
   "execution_count": 1,
   "metadata": {},
   "outputs": [],
   "source": [
    "# Python标准库inspect\n",
    "\"\"\"nspect模块用于收集python对象的信息，可以获取类或函数的参数的信息，源码，解析堆栈，对对象进行类型检查等等，有几个好用的方法：\n",
    "\n",
    "getargspec(func)\n",
    "\n",
    "返回一个命名元组ArgSpect(args, varargs, keywords, defaults)，args是函数位置参数名列表，varargs是*参数名，keywords是**参数名，defaults是默认参数值的元组。\n",
    "\n",
    "在用__init__参数自动初始化实例属性的实践中，是用字节码对象的co_varnames属性来获取函数的位置参数名的：\"\"\"\n",
    "def attr_from_locals(locals_dict):\n",
    "    self = locals_dict.pop('self')\n",
    "    code = self.__init__.__func__.__code__\n",
    "    args = code.co_varnames[1:code.co_argcount]\n",
    "    for k in args:\n",
    "        setattr(self, k, locals_dict[k])\n",
    "        \n",
    "class Foo(object):\n",
    "    def __init__(self, name, color, num=1):\n",
    "        x = 1\n",
    "        attr_from_locals(locals())\n",
    "\"\"\"而当__init__方法使用**特殊参数接收任意数量的关键字参数时，上述代码是不适用的。可行的办法是使用字节码的co_flags属性来判断**参数是否存在。\n",
    "\n",
    "函数使用*args语法来接受任意数量的位置参数时，co_flags置位0x04，使用**kwargs语法时，置位0x08，函数为一个生成器时，置位0x2000，其它位保留：\"\"\"\n",
    "def foo(x, *args, **kwargs):\n",
    "    pass"
   ]
  },
  {
   "cell_type": "code",
   "execution_count": 2,
   "metadata": {},
   "outputs": [
    {
     "data": {
      "text/plain": [
       "('x', 'args', 'kwargs')"
      ]
     },
     "execution_count": 2,
     "metadata": {},
     "output_type": "execute_result"
    }
   ],
   "source": [
    "foo.__code__.co_varnames"
   ]
  },
  {
   "cell_type": "code",
   "execution_count": 3,
   "metadata": {},
   "outputs": [
    {
     "data": {
      "text/plain": [
       "4"
      ]
     },
     "execution_count": 3,
     "metadata": {},
     "output_type": "execute_result"
    }
   ],
   "source": [
    "foo.__code__.co_flags & 0x04"
   ]
  },
  {
   "cell_type": "code",
   "execution_count": 4,
   "metadata": {},
   "outputs": [
    {
     "data": {
      "text/plain": [
       "8"
      ]
     },
     "execution_count": 4,
     "metadata": {},
     "output_type": "execute_result"
    }
   ],
   "source": [
    "foo.__code__.co_flags & 0x08"
   ]
  },
  {
   "cell_type": "code",
   "execution_count": 6,
   "metadata": {},
   "outputs": [
    {
     "name": "stdout",
     "output_type": "stream",
     "text": [
      "{'name': 'bar', 'color': 'yellow', 'num': 1}\n"
     ]
    },
    {
     "name": "stderr",
     "output_type": "stream",
     "text": [
      "D:\\Program Files\\Anaconda3.5.1.0\\lib\\site-packages\\ipykernel_launcher.py:7: DeprecationWarning: inspect.getargspec() is deprecated, use inspect.signature() or inspect.getfullargspec()\n",
      "  import sys\n",
      "D:\\Program Files\\Anaconda3.5.1.0\\lib\\site-packages\\ipykernel_launcher.py:10: DeprecationWarning: inspect.getargspec() is deprecated, use inspect.signature() or inspect.getfullargspec()\n",
      "  # Remove the CWD from sys.path while we load stuff.\n"
     ]
    }
   ],
   "source": [
    "\"\"\"inspect模块的getargspec()方法正是用此判断来获取函数的特殊参数的。现在可以方便的获取__init__的**参数了：\"\"\"\n",
    "import inspect\n",
    " \n",
    " \n",
    "def attr_from_locals(locals_dict):\n",
    "    self = locals_dict.pop('self')\n",
    "    args = inspect.getargspec(self.__init__.__func__).args[1:]\n",
    "    for k in args:\n",
    "        setattr(self, k, locals_dict[k])\n",
    "    keywords = inspect.getargspec(self.__init__.__func__).keywords\n",
    "    if keywords:\n",
    "        keywords_dict = locals_dict[keywords]\n",
    "        for k in keywords_dict:\n",
    "            setattr(self, k, keywords_dict[k])\n",
    " \n",
    "        \n",
    "class Foo(object):\n",
    "    def __init__(self, name, **kwargv):\n",
    "        attr_from_locals(locals())\n",
    " \n",
    " \n",
    "f = Foo('bar', color='yellow', num=1)\n",
    "print(f.__dict__)"
   ]
  },
  {
   "cell_type": "code",
   "execution_count": null,
   "metadata": {},
   "outputs": [],
   "source": []
  }
 ],
 "metadata": {
  "kernelspec": {
   "display_name": "Python 3",
   "language": "python",
   "name": "python3"
  },
  "language_info": {
   "codemirror_mode": {
    "name": "ipython",
    "version": 3
   },
   "file_extension": ".py",
   "mimetype": "text/x-python",
   "name": "python",
   "nbconvert_exporter": "python",
   "pygments_lexer": "ipython3",
   "version": "3.6.4"
  }
 },
 "nbformat": 4,
 "nbformat_minor": 2
}
