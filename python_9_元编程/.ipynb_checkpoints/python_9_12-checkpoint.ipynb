{
 "cells": [
  {
   "cell_type": "code",
   "execution_count": 1,
   "metadata": {},
   "outputs": [],
   "source": [
    "# 9.12 使用装饰器扩充类的功能\n",
    "\"\"\"问题\n",
    "你想通过反省或者重写类定义的某部分来修改它的行为，但是你又不希望使用继承或元类的方式。\n",
    "\n",
    "解决方案\n",
    "这种情况可能是类装饰器最好的使用场景了。例如，下面是一个重写了特殊方法 __getattribute__ 的类装饰器， 可以打印日志：\"\"\"\n",
    "def log_getattribute(cls):\n",
    "    orig_getattribute = cls.__getattribute__\n",
    "    def new_getattribute(self, name):\n",
    "        print('Geting:', name)\n",
    "        return orig_getattribute(self, name)\n",
    "    \n",
    "    cls.__getattribute__ = new_getattribute\n",
    "    return cls\n",
    "\n",
    "@log_getattribute\n",
    "class A:\n",
    "    def __init__(self, x):\n",
    "        self.x = x\n",
    "        \n",
    "    def spam(self):\n",
    "        pass"
   ]
  },
  {
   "cell_type": "code",
   "execution_count": 2,
   "metadata": {},
   "outputs": [
    {
     "name": "stdout",
     "output_type": "stream",
     "text": [
      "Geting: x\n"
     ]
    },
    {
     "data": {
      "text/plain": [
       "42"
      ]
     },
     "execution_count": 2,
     "metadata": {},
     "output_type": "execute_result"
    }
   ],
   "source": [
    "\"\"\"下面是使用效果：\"\"\"\n",
    "a = A(42)\n",
    "a.x"
   ]
  },
  {
   "cell_type": "code",
   "execution_count": 3,
   "metadata": {},
   "outputs": [
    {
     "name": "stdout",
     "output_type": "stream",
     "text": [
      "Geting: spam\n"
     ]
    }
   ],
   "source": [
    "a.spam()"
   ]
  },
  {
   "cell_type": "code",
   "execution_count": 4,
   "metadata": {},
   "outputs": [
    {
     "name": "stdout",
     "output_type": "stream",
     "text": [
      "Getting: x\n"
     ]
    },
    {
     "data": {
      "text/plain": [
       "42"
      ]
     },
     "execution_count": 4,
     "metadata": {},
     "output_type": "execute_result"
    }
   ],
   "source": [
    "\"\"\"讨论\n",
    "类装饰器通常可以作为其他高级技术比如混入或元类的一种非常简洁的替代方案。 比如，上面示例中的另外一种实现使用到继承：\"\"\"\n",
    "class LoggedGetattribute:\n",
    "    def __getattribute__(self, name):\n",
    "        print('Getting:', name)\n",
    "        return super().__getattribute__(name)\n",
    "    \n",
    "class A(LoggedGetattribute):\n",
    "    def __init__(self, x):\n",
    "        self.x = x\n",
    "        \n",
    "    def spam(self):\n",
    "        pass\n",
    "\"\"\"这种方案也行得通，但是为了去理解它，你就必须知道方法调用顺序、super() 以及其它8.7小节介绍的继承知识。 某种程度上来讲，类装饰器方案就显得更加直观，并且它不会引入新的继承体系。它的运行速度也更快一些， 因为他并不依赖 super() 函数。\n",
    "\n",
    "如果你系想在一个类上面使用多个类装饰器，那么就需要注意下顺序问题。 例如，一个装饰器A会将其装饰的方法完整替换成另一种实现， 而另一个装饰器B只是简单的在其装饰的方法中添加点额外逻辑。 那么这时候装饰器A就需要放在装饰器B的前面。\n",
    "\n",
    "你还可以回顾一下8.13小节另外一个关于类装饰器的有用的例子。\"\"\"\n",
    "a = A(42)\n",
    "a.x"
   ]
  },
  {
   "cell_type": "code",
   "execution_count": null,
   "metadata": {},
   "outputs": [],
   "source": []
  }
 ],
 "metadata": {
  "kernelspec": {
   "display_name": "Python 3",
   "language": "python",
   "name": "python3"
  },
  "language_info": {
   "codemirror_mode": {
    "name": "ipython",
    "version": 3
   },
   "file_extension": ".py",
   "mimetype": "text/x-python",
   "name": "python",
   "nbconvert_exporter": "python",
   "pygments_lexer": "ipython3",
   "version": "3.6.4"
  }
 },
 "nbformat": 4,
 "nbformat_minor": 2
}
