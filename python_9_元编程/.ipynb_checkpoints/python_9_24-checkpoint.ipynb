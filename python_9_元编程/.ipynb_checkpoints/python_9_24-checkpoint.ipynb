{
 "cells": [
  {
   "cell_type": "code",
   "execution_count": 1,
   "metadata": {},
   "outputs": [
    {
     "data": {
      "text/plain": [
       "56"
      ]
     },
     "execution_count": 1,
     "metadata": {},
     "output_type": "execute_result"
    }
   ],
   "source": [
    "# 9.24 解析与分析Python源码\n",
    "\"\"\"问题\n",
    "你想写解析并分析Python源代码的程序。\n",
    "\n",
    "解决方案\n",
    "大部分程序员知道Python能够计算或执行字符串形式的源代码。例如：\"\"\"\n",
    "x = 42\n",
    "eval('2+3*4+x')"
   ]
  },
  {
   "cell_type": "code",
   "execution_count": 2,
   "metadata": {},
   "outputs": [
    {
     "name": "stdout",
     "output_type": "stream",
     "text": [
      "0\n",
      "1\n",
      "2\n",
      "3\n",
      "4\n",
      "5\n",
      "6\n",
      "7\n",
      "8\n",
      "9\n"
     ]
    }
   ],
   "source": [
    "exec('for i in range(10):print(i)')"
   ]
  },
  {
   "cell_type": "code",
   "execution_count": 3,
   "metadata": {},
   "outputs": [
    {
     "data": {
      "text/plain": [
       "<_ast.Expression at 0x1d5df8e5f60>"
      ]
     },
     "execution_count": 3,
     "metadata": {},
     "output_type": "execute_result"
    }
   ],
   "source": [
    "\"\"\"尽管如此，ast 模块能被用来将Python源码编译成一个可被分析的抽象语法树（AST）。例如：\"\"\"\n",
    "import ast\n",
    "ex = ast.parse('2+3*4+x', mode='eval')\n",
    "ex"
   ]
  },
  {
   "cell_type": "code",
   "execution_count": 6,
   "metadata": {},
   "outputs": [
    {
     "data": {
      "text/plain": [
       "\"Expression(body=BinOp(left=BinOp(left=Num(n=2), op=Add(), right=BinOp(left=Num(n=3), op=Mult(), right=Num(n=4))), op=Add(), right=Name(id='x', ctx=Load())))\""
      ]
     },
     "execution_count": 6,
     "metadata": {},
     "output_type": "execute_result"
    }
   ],
   "source": [
    "ast.dump(ex)"
   ]
  },
  {
   "cell_type": "code",
   "execution_count": 7,
   "metadata": {},
   "outputs": [
    {
     "data": {
      "text/plain": [
       "<_ast.Module at 0x1d5df912f28>"
      ]
     },
     "execution_count": 7,
     "metadata": {},
     "output_type": "execute_result"
    }
   ],
   "source": [
    "top = ast.parse('for i in range(10): print(i)', mode='exec')\n",
    "top"
   ]
  },
  {
   "cell_type": "code",
   "execution_count": 8,
   "metadata": {},
   "outputs": [
    {
     "data": {
      "text/plain": [
       "\"Module(body=[For(target=Name(id='i', ctx=Store()), iter=Call(func=Name(id='range', ctx=Load()), args=[Num(n=10)], keywords=[]), body=[Expr(value=Call(func=Name(id='print', ctx=Load()), args=[Name(id='i', ctx=Load())], keywords=[]))], orelse=[])])\""
      ]
     },
     "execution_count": 8,
     "metadata": {},
     "output_type": "execute_result"
    }
   ],
   "source": [
    "ast.dump(top)"
   ]
  },
  {
   "cell_type": "code",
   "execution_count": 13,
   "metadata": {},
   "outputs": [],
   "source": [
    "\"\"\"分析源码树需要你自己更多的学习，它是由一系列AST节点组成的。 分析这些节点最简单的方法就是定义一个访问者类，实现很多 visit_NodeName() 方法， NodeName() 匹配那些你感兴趣的节点。下面是这样一个类，记录了哪些名字被加载、存储和删除的信息。\"\"\"\n",
    "import ast\n",
    "\n",
    "class CodeAnlyzer(ast.NodeVisitor):\n",
    "    def __init__(self):\n",
    "        self.loaded = set()\n",
    "        self.stored = set()\n",
    "        self.deleted = set()\n",
    "        \n",
    "    def visit_Name(self, node):\n",
    "        if isinstance(node.ctx, ast.Load):\n",
    "            self.loaded.add(node.id)\n",
    "        elif isinstance(node.ctx, ast.Store):\n",
    "            self.stored.add(node.id)\n",
    "        elif isinstance(node.ctx, ast.Del):\n",
    "            self.deleted.add(node.id)"
   ]
  },
  {
   "cell_type": "code",
   "execution_count": 14,
   "metadata": {},
   "outputs": [
    {
     "name": "stdout",
     "output_type": "stream",
     "text": [
      "Loaded: {'range', 'i', 'print'}\n",
      "Stored: {'i'}\n",
      "Deleted: {'i'}\n"
     ]
    }
   ],
   "source": [
    "\"\"\"如果你运行这个程序，你会得到下面这样的输出：\"\"\"\n",
    "code = '''\n",
    "for i in range(10):\n",
    "    print(i)\n",
    "del i\n",
    "'''\n",
    "top = ast.parse(code, mode='exec')\n",
    "c = CodeAnlyzer()\n",
    "c.visit(top)\n",
    "print('Loaded:', c.loaded)\n",
    "print('Stored:', c.stored)\n",
    "print('Deleted:', c.deleted)"
   ]
  },
  {
   "cell_type": "code",
   "execution_count": 15,
   "metadata": {},
   "outputs": [
    {
     "name": "stdout",
     "output_type": "stream",
     "text": [
      "0\n",
      "1\n",
      "2\n",
      "3\n",
      "4\n",
      "5\n",
      "6\n",
      "7\n",
      "8\n",
      "9\n"
     ]
    }
   ],
   "source": [
    "\"\"\"最后，AST可以通过 compile() 函数来编译并执行。例如：\"\"\"\n",
    "exec(compile(top, '<stdin>', 'exec'))"
   ]
  },
  {
   "cell_type": "code",
   "execution_count": 18,
   "metadata": {},
   "outputs": [],
   "source": [
    "\"\"\"讨论\n",
    "当你能够分析源代码并从中获取信息的时候，你就能写很多代码分析、优化或验证工具了。 例如，相比盲目的传递一些代码片段到类似 exec() 函数中，你可以先将它转换成一个AST， 然后观察它的细节看它到底是怎样做的。 你还可以写一些工具来查看某个模块的全部源码，并且在此基础上执行某些静态分析。\n",
    "\n",
    "需要注意的是，如果你知道自己在干啥，你还能够重写AST来表示新的代码。 下面是一个装饰器例子，可以通过重新解析函数体源码、 重写AST并重新创建函数代码对象来将全局访问变量降为函数体作用范围，\"\"\"\n",
    "# namelower.py\n",
    "import ast\n",
    "import inspect\n",
    "# Node visitor that lowers globally accessed names into\n",
    "# the function body as local variables.\n",
    "class NameLower(ast.NodeVisitor):\n",
    "    def __init__(self, lowered_names):\n",
    "        self.lowered_names = lowered_names\n",
    "        \n",
    "    def visit_FunctionDef(self, node):\n",
    "        # Compile some assignments to lower the constants\n",
    "        code = '__globals = globals()\\n'\n",
    "        code += '\\n'.join(\"{0} = _globals['{0}']\".format(name)\n",
    "                          for name in self.lowered_names)\n",
    "        code_ast = ast.parse(code, mode='exec')\n",
    "        # Inject new statements into the function body\n",
    "        node.body[:0] = code_ast.body\n",
    "        # Save the function object\n",
    "        self.func = node\n",
    "        \n",
    "# Decorator that turns global names into locals\n",
    "def lower_names(*namelist):\n",
    "    def lower(func):\n",
    "        srclines = inspect.getsource(func).splitlines()\n",
    "        # Skip source lines prior to the @lower_names decorator\n",
    "        for n, line in enumerate(srclines):\n",
    "            if '@lower_names' in line:\n",
    "                break\n",
    "        src = '\\n'.join(srclines[n+1:])\n",
    "        # Hack to deal with indented code\n",
    "        if src.startswith((' ', '\\t')):\n",
    "            src = 'if 1:\\n' +src\n",
    "        top = ast.parse(src, mode='exec')\n",
    "        # Transform the AST\n",
    "        cl = NameLower(namelist)\n",
    "        cl.visit(top)\n",
    "        # Execute the modified AST\n",
    "        temp = {}\n",
    "        exec(compile(top,'','exec'), temp, temp)\n",
    "\n",
    "        # Pull out the modified code object\n",
    "        func.__code__ = temp[func.__name__].__code__\n",
    "        return func\n",
    "    return lower"
   ]
  },
  {
   "cell_type": "code",
   "execution_count": 19,
   "metadata": {},
   "outputs": [],
   "source": [
    "\"\"\"为了使用这个代码，你可以像下面这样写：\"\"\"\n",
    "INCR =1\n",
    "@lower_names('INCR')\n",
    "def countdown(n):\n",
    "    while n > 0:\n",
    "        n -= INCR"
   ]
  },
  {
   "cell_type": "code",
   "execution_count": null,
   "metadata": {},
   "outputs": [],
   "source": [
    "\"\"\"装饰器会将 countdown() 函数重写为类似下面这样子：\n",
    "\n",
    "def countdown(n):\n",
    "    __globals = globals()\n",
    "    INCR = __globals['INCR']\n",
    "    while n > 0:\n",
    "        n -= INCR\"\"\"\n",
    "\"\"\"在性能测试中，它会让函数运行快20%\n",
    "\n",
    "现在，你是不是想为你所有的函数都加上这个装饰器呢？或许不会。 但是，这却是对于一些高级技术比如AST操作、源码操作等等的一个很好的演示说明\n",
    "\n",
    "本节受另外一个在 ActiveState 中处理Python字节码的章节的启示。 使用AST是一个更加高级点的技术，并且也更简单些。参考下面一节获得字节码的更多信息。\"\"\""
   ]
  }
 ],
 "metadata": {
  "kernelspec": {
   "display_name": "Python 3",
   "language": "python",
   "name": "python3"
  },
  "language_info": {
   "codemirror_mode": {
    "name": "ipython",
    "version": 3
   },
   "file_extension": ".py",
   "mimetype": "text/x-python",
   "name": "python",
   "nbconvert_exporter": "python",
   "pygments_lexer": "ipython3",
   "version": "3.6.5"
  }
 },
 "nbformat": 4,
 "nbformat_minor": 2
}
