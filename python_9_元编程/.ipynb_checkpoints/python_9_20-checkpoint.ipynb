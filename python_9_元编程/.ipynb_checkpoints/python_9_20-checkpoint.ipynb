{
 "cells": [
  {
   "cell_type": "code",
   "execution_count": 16,
   "metadata": {},
   "outputs": [
    {
     "name": "stdout",
     "output_type": "stream",
     "text": [
      "Bar 2 2 3\n",
      "Bar 2 Hello 0\n",
      "Bar 2 2 hello\n"
     ]
    }
   ],
   "source": [
    "# 9.20 利用函数注解实现方法重载\n",
    "\"\"\"问题\n",
    "你已经学过怎样使用函数参数注解，那么你可能会想利用它来实现基于类型的方法重载。 但是你不确定应该怎样去实现（或者到底行得通不）。\n",
    "\n",
    "解决方案\n",
    "本小节的技术是基于一个简单的技术，那就是Python允许参数注解，代码可以像下面这样写：\"\"\"\n",
    "class Spam:\n",
    "    def bar(self, x:int, y:int):\n",
    "        print('Bar 1', x, y)\n",
    "        \n",
    "    def bar(self, s:str, n:int=0):\n",
    "        print('Bar 2', s, n)\n",
    "\n",
    "s = Spam()\n",
    "s.bar(2, 3)\n",
    "s.bar('Hello')\n",
    "s.bar(2, 'hello')"
   ]
  },
  {
   "cell_type": "code",
   "execution_count": 1,
   "metadata": {},
   "outputs": [],
   "source": [
    "\"\"\"下面是我们第一步的尝试，使用到了一个元类和描述器：\"\"\"\n",
    "import inspect\n",
    "import types\n",
    "\n",
    "class MultiMethod:\n",
    "    \"\"\"\n",
    "    Represents a single multimethod.\n",
    "    \"\"\"\n",
    "    def __init__(self, name):\n",
    "        self._methods = {}\n",
    "        self.__name__ = name\n",
    "        \n",
    "    def register(self, meth):\n",
    "        '''\n",
    "        Register a new method as a multimethod\n",
    "        '''\n",
    "        sig = inspect.signature(meth)\n",
    "        types = []\n",
    "        for name, parm in sig.parameters.items():\n",
    "            if name == 'self':\n",
    "                continue\n",
    "            if parm.annotation is inspect.Parameter.empty:\n",
    "                raise TypeError(\"Argument {} must be annotated with a type.\".format(name))\n",
    "            if not isinstance(parm.annotation, type):\n",
    "                raise TypeError(\"Argument {} annotation must be a type.\".format(name))\n",
    "            if parm.default is not inspect.Parameter.empty:\n",
    "                self._methods[tuple(types)] = meth\n",
    "            types.append(parm.annotation)\n",
    "        self._methods[tuple(types)] = meth\n",
    "        \n",
    "    def __call__(self, *args):\n",
    "        '''\n",
    "        Call a method based on type signature of the arguments\n",
    "        '''\n",
    "        types = tuple(type(arg) for arg in args[1:])\n",
    "        meth = self._methods.get(types, None)\n",
    "        if meth:\n",
    "            return meth(*args)\n",
    "        else:\n",
    "            raise TypeError(\"No matching method for types {}\".format(types))\n",
    "            \n",
    "    def __get__(self, instance, cls):\n",
    "        '''\n",
    "        Descriptor method needed to make calls work in a class\n",
    "        '''\n",
    "        if instance is not None:\n",
    "            return types.MethodType(self, instance)\n",
    "        else:\n",
    "            return self\n",
    "        \n",
    "class MultiDict(dict):\n",
    "    '''\n",
    "    Special dictionary to build multimethods in a metaclass\n",
    "    '''\n",
    "    def __setitem__(self, key, value):\n",
    "        if key in self:\n",
    "            current_value = self[key]\n",
    "            if isinstance(current_value, MultiMethod):\n",
    "                current_value.register(value)\n",
    "            else:\n",
    "                mvalue = MultiMethod(key)\n",
    "                mvalue.register(current_value)\n",
    "                mvalue.register(value)\n",
    "                super().__setitem__(key, mvalue)\n",
    "        else:\n",
    "            super().__setitem__(key, value)\n",
    "            \n",
    "class MultipleMeta(type):\n",
    "    '''\n",
    "    Metaclass that allows multiple dispatch of methods\n",
    "    '''\n",
    "    def __new__(cls, clsname, bases, clsdict):\n",
    "        return type.__new__(cls, clsname, bases, dict(clsdict))\n",
    "    \n",
    "    @classmethod\n",
    "    def __prepare__(cls, clsname, bases):\n",
    "        return MultiDict()\n",
    "    \n",
    "\"\"\"为了使用这个类，你可以像下面这样写：\"\"\"\n",
    "class Spam(metaclass=MultipleMeta):\n",
    "    def bar(self, x:int, y:int):\n",
    "        print('Bar 1:', x, y)\n",
    "\n",
    "    def bar(self, s:str, n:int = 0):\n",
    "        print('Bar 2:', s, n)\n",
    "    \n",
    "# Example: overloaded __init__\n",
    "import time\n",
    "\n",
    "class Date(metaclass=MultipleMeta):\n",
    "    def __init__(self, year: int, month:int, day:int):\n",
    "        self.year = year\n",
    "        self.month = month\n",
    "        self.day = day\n",
    "\n",
    "    def __init__(self):\n",
    "        t = time.localtime()\n",
    "        self.__init__(t.tm_year, t.tm_mon, t.tm_mday)"
   ]
  },
  {
   "cell_type": "code",
   "execution_count": 2,
   "metadata": {},
   "outputs": [],
   "source": [
    "\"\"\"下面是一个交互示例来验证它能正确的工作：\"\"\"\n",
    "s = Spam()"
   ]
  },
  {
   "cell_type": "code",
   "execution_count": 3,
   "metadata": {},
   "outputs": [
    {
     "name": "stdout",
     "output_type": "stream",
     "text": [
      "Bar 1: 2 3\n"
     ]
    }
   ],
   "source": [
    "s.bar(2, 3)"
   ]
  },
  {
   "cell_type": "code",
   "execution_count": 10,
   "metadata": {},
   "outputs": [
    {
     "name": "stdout",
     "output_type": "stream",
     "text": [
      "Bar 2: hello 0\n"
     ]
    }
   ],
   "source": [
    "s.bar('hello')"
   ]
  },
  {
   "cell_type": "code",
   "execution_count": 11,
   "metadata": {},
   "outputs": [
    {
     "name": "stdout",
     "output_type": "stream",
     "text": [
      "Bar 2: hello 5\n"
     ]
    }
   ],
   "source": [
    "s.bar('hello', 5)"
   ]
  },
  {
   "cell_type": "code",
   "execution_count": 12,
   "metadata": {},
   "outputs": [
    {
     "ename": "TypeError",
     "evalue": "No matching method for types (<class 'int'>, <class 'str'>)",
     "output_type": "error",
     "traceback": [
      "\u001b[1;31m---------------------------------------------------------------------------\u001b[0m",
      "\u001b[1;31mTypeError\u001b[0m                                 Traceback (most recent call last)",
      "\u001b[1;32m<ipython-input-12-728058c703bd>\u001b[0m in \u001b[0;36m<module>\u001b[1;34m()\u001b[0m\n\u001b[1;32m----> 1\u001b[1;33m \u001b[0ms\u001b[0m\u001b[1;33m.\u001b[0m\u001b[0mbar\u001b[0m\u001b[1;33m(\u001b[0m\u001b[1;36m2\u001b[0m\u001b[1;33m,\u001b[0m \u001b[1;34m'hello'\u001b[0m\u001b[1;33m)\u001b[0m\u001b[1;33m\u001b[0m\u001b[0m\n\u001b[0m",
      "\u001b[1;32m<ipython-input-7-2feef6e75e56>\u001b[0m in \u001b[0;36m__call__\u001b[1;34m(self, *args)\u001b[0m\n\u001b[0;32m     38\u001b[0m             \u001b[1;32mreturn\u001b[0m \u001b[0mmeth\u001b[0m\u001b[1;33m(\u001b[0m\u001b[1;33m*\u001b[0m\u001b[0margs\u001b[0m\u001b[1;33m)\u001b[0m\u001b[1;33m\u001b[0m\u001b[0m\n\u001b[0;32m     39\u001b[0m         \u001b[1;32melse\u001b[0m\u001b[1;33m:\u001b[0m\u001b[1;33m\u001b[0m\u001b[0m\n\u001b[1;32m---> 40\u001b[1;33m             \u001b[1;32mraise\u001b[0m \u001b[0mTypeError\u001b[0m\u001b[1;33m(\u001b[0m\u001b[1;34m\"No matching method for types {}\"\u001b[0m\u001b[1;33m.\u001b[0m\u001b[0mformat\u001b[0m\u001b[1;33m(\u001b[0m\u001b[0mtypes\u001b[0m\u001b[1;33m)\u001b[0m\u001b[1;33m)\u001b[0m\u001b[1;33m\u001b[0m\u001b[0m\n\u001b[0m\u001b[0;32m     41\u001b[0m \u001b[1;33m\u001b[0m\u001b[0m\n\u001b[0;32m     42\u001b[0m     \u001b[1;32mdef\u001b[0m \u001b[0m__get__\u001b[0m\u001b[1;33m(\u001b[0m\u001b[0mself\u001b[0m\u001b[1;33m,\u001b[0m \u001b[0minstance\u001b[0m\u001b[1;33m,\u001b[0m \u001b[0mcls\u001b[0m\u001b[1;33m)\u001b[0m\u001b[1;33m:\u001b[0m\u001b[1;33m\u001b[0m\u001b[0m\n",
      "\u001b[1;31mTypeError\u001b[0m: No matching method for types (<class 'int'>, <class 'str'>)"
     ]
    }
   ],
   "source": [
    "s.bar(2, 'hello')"
   ]
  },
  {
   "cell_type": "code",
   "execution_count": 13,
   "metadata": {},
   "outputs": [],
   "source": [
    "d = Date(2012, 12, 21)"
   ]
  },
  {
   "cell_type": "code",
   "execution_count": 14,
   "metadata": {},
   "outputs": [],
   "source": [
    "e = Date()"
   ]
  },
  {
   "cell_type": "code",
   "execution_count": 15,
   "metadata": {},
   "outputs": [
    {
     "data": {
      "text/plain": [
       "2019"
      ]
     },
     "execution_count": 15,
     "metadata": {},
     "output_type": "execute_result"
    }
   ],
   "source": [
    "e.year"
   ]
  },
  {
   "cell_type": "code",
   "execution_count": 4,
   "metadata": {},
   "outputs": [
    {
     "data": {
      "text/plain": [
       "<bound method bar of <__main__.Spam object at 0x00000294FB43ABE0>>"
      ]
     },
     "execution_count": 4,
     "metadata": {},
     "output_type": "execute_result"
    }
   ],
   "source": [
    "\"\"\"讨论\n",
    "坦白来讲，相对于通常的代码而已本节使用到了很多的魔法代码。 但是，它却能让我们深入理解元类和描述器的底层工作原理， 并能加深对这些概念的印象。因此，就算你并不会立即去应用本节的技术， 它的一些底层思想却会影响到其它涉及到元类、描述器和函数注解的编程技术。\n",
    "\n",
    "本节的实现中的主要思路其实是很简单的。MutipleMeta 元类使用它的 __prepare__() 方法 来提供一个作为 MultiDict 实例的自定义字典。这个跟普通字典不一样的是， MultiDict 会在元素被设置的时候检查是否已经存在，如果存在的话，重复的元素会在 MultiMethod 实例中合并。\n",
    "\n",
    "MultiMethod 实例通过构建从类型签名到函数的映射来收集方法。 在这个构建过程中，函数注解被用来收集这些签名然后构建这个映射。 这个过程在 MultiMethod.register() 方法中实现。 这种映射的一个关键特点是对于多个方法，所有参数类型都必须要指定，否则就会报错。\n",
    "\n",
    "为了让 MultiMethod 实例模拟一个调用，它的 __call__() 方法被实现了。 这个方法从所有排除 slef 的参数中构建一个类型元组，在内部map中查找这个方法， 然后调用相应的方法。为了能让 MultiMethod 实例在类定义时正确操作，__get__() 是必须得实现的。 它被用来构建正确的绑定方法。比如：\"\"\"\n",
    "b = s.bar\n",
    "b"
   ]
  },
  {
   "cell_type": "code",
   "execution_count": 5,
   "metadata": {},
   "outputs": [
    {
     "data": {
      "text/plain": [
       "<__main__.Spam at 0x294fb43abe0>"
      ]
     },
     "execution_count": 5,
     "metadata": {},
     "output_type": "execute_result"
    }
   ],
   "source": [
    "b.__self__"
   ]
  },
  {
   "cell_type": "code",
   "execution_count": 6,
   "metadata": {},
   "outputs": [
    {
     "data": {
      "text/plain": [
       "<__main__.MultiMethod at 0x294fb449ba8>"
      ]
     },
     "execution_count": 6,
     "metadata": {},
     "output_type": "execute_result"
    }
   ],
   "source": [
    "b.__func__"
   ]
  },
  {
   "cell_type": "code",
   "execution_count": 7,
   "metadata": {},
   "outputs": [
    {
     "name": "stdout",
     "output_type": "stream",
     "text": [
      "Bar 1: 2 3\n"
     ]
    }
   ],
   "source": [
    "b(2, 3)"
   ]
  },
  {
   "cell_type": "code",
   "execution_count": 8,
   "metadata": {},
   "outputs": [
    {
     "name": "stdout",
     "output_type": "stream",
     "text": [
      "Bar 2: Hello 0\n"
     ]
    }
   ],
   "source": [
    "b('Hello')"
   ]
  },
  {
   "cell_type": "code",
   "execution_count": 9,
   "metadata": {},
   "outputs": [
    {
     "ename": "TypeError",
     "evalue": "__call__() got an unexpected keyword argument 'x'",
     "output_type": "error",
     "traceback": [
      "\u001b[1;31m---------------------------------------------------------------------------\u001b[0m",
      "\u001b[1;31mTypeError\u001b[0m                                 Traceback (most recent call last)",
      "\u001b[1;32m<ipython-input-9-de2122f56d2b>\u001b[0m in \u001b[0;36m<module>\u001b[1;34m()\u001b[0m\n\u001b[0;32m      1\u001b[0m \u001b[1;34m\"\"\"不过本节的实现还有一些限制，其中一个是它不能使用关键字参数。例如：\"\"\"\u001b[0m\u001b[1;33m\u001b[0m\u001b[0m\n\u001b[1;32m----> 2\u001b[1;33m \u001b[0ms\u001b[0m\u001b[1;33m.\u001b[0m\u001b[0mbar\u001b[0m\u001b[1;33m(\u001b[0m\u001b[0mx\u001b[0m\u001b[1;33m=\u001b[0m\u001b[1;36m2\u001b[0m\u001b[1;33m,\u001b[0m \u001b[0my\u001b[0m\u001b[1;33m=\u001b[0m\u001b[1;36m3\u001b[0m\u001b[1;33m)\u001b[0m\u001b[1;33m\u001b[0m\u001b[0m\n\u001b[0m",
      "\u001b[1;31mTypeError\u001b[0m: __call__() got an unexpected keyword argument 'x'"
     ]
    }
   ],
   "source": [
    "\"\"\"不过本节的实现还有一些限制，其中一个是它不能使用关键字参数。例如：\"\"\"\n",
    "s.bar(x=2, y=3)"
   ]
  },
  {
   "cell_type": "code",
   "execution_count": 11,
   "metadata": {},
   "outputs": [],
   "source": [
    "\"\"\"也许有其他的方法能添加这种支持，但是它需要一个完全不同的方法映射方式。 问题在于关键字参数的出现是没有顺序的。当它跟位置参数混合使用时， 那你的参数就会变得比较混乱了，这时候你不得不在 __call__() 方法中先去做个排序。\n",
    "\n",
    "同样对于继承也是有限制的，例如，类似下面这种代码就不能正常工作：\"\"\"\n",
    "class A:\n",
    "    pass\n",
    "\n",
    "class B(A):\n",
    "    pass\n",
    "\n",
    "class C:\n",
    "    pass\n",
    "\n",
    "class Spam(metaclass=MultipleMeta):\n",
    "    def foo(self, x:A):\n",
    "        print('Foo 1:', x)\n",
    "        \n",
    "    def foo(self, x:C):\n",
    "        print('Foo 2:', x)"
   ]
  },
  {
   "cell_type": "code",
   "execution_count": 12,
   "metadata": {},
   "outputs": [],
   "source": [
    "\"\"\"原因是因为 x:A 注解不能成功匹配子类实例（比如B的实例），如下：\"\"\"\n",
    "s = Spam()"
   ]
  },
  {
   "cell_type": "code",
   "execution_count": 13,
   "metadata": {},
   "outputs": [],
   "source": [
    "a = A()"
   ]
  },
  {
   "cell_type": "code",
   "execution_count": 14,
   "metadata": {},
   "outputs": [
    {
     "name": "stdout",
     "output_type": "stream",
     "text": [
      "Foo 1: <__main__.A object at 0x00000294FB43B9B0>\n"
     ]
    }
   ],
   "source": [
    "s.foo(a)"
   ]
  },
  {
   "cell_type": "code",
   "execution_count": 15,
   "metadata": {},
   "outputs": [
    {
     "name": "stdout",
     "output_type": "stream",
     "text": [
      "Foo 2: <__main__.C object at 0x00000294FB43BD30>\n"
     ]
    }
   ],
   "source": [
    "c = C()\n",
    "s.foo(c)"
   ]
  },
  {
   "cell_type": "code",
   "execution_count": 16,
   "metadata": {},
   "outputs": [
    {
     "ename": "TypeError",
     "evalue": "No matching method for types (<class '__main__.B'>,)",
     "output_type": "error",
     "traceback": [
      "\u001b[1;31m---------------------------------------------------------------------------\u001b[0m",
      "\u001b[1;31mTypeError\u001b[0m                                 Traceback (most recent call last)",
      "\u001b[1;32m<ipython-input-16-22a0d2046d39>\u001b[0m in \u001b[0;36m<module>\u001b[1;34m()\u001b[0m\n\u001b[0;32m      1\u001b[0m \u001b[0mb\u001b[0m \u001b[1;33m=\u001b[0m \u001b[0mB\u001b[0m\u001b[1;33m(\u001b[0m\u001b[1;33m)\u001b[0m\u001b[1;33m\u001b[0m\u001b[0m\n\u001b[1;32m----> 2\u001b[1;33m \u001b[0ms\u001b[0m\u001b[1;33m.\u001b[0m\u001b[0mfoo\u001b[0m\u001b[1;33m(\u001b[0m\u001b[0mb\u001b[0m\u001b[1;33m)\u001b[0m\u001b[1;33m\u001b[0m\u001b[0m\n\u001b[0m",
      "\u001b[1;32m<ipython-input-1-2feef6e75e56>\u001b[0m in \u001b[0;36m__call__\u001b[1;34m(self, *args)\u001b[0m\n\u001b[0;32m     38\u001b[0m             \u001b[1;32mreturn\u001b[0m \u001b[0mmeth\u001b[0m\u001b[1;33m(\u001b[0m\u001b[1;33m*\u001b[0m\u001b[0margs\u001b[0m\u001b[1;33m)\u001b[0m\u001b[1;33m\u001b[0m\u001b[0m\n\u001b[0;32m     39\u001b[0m         \u001b[1;32melse\u001b[0m\u001b[1;33m:\u001b[0m\u001b[1;33m\u001b[0m\u001b[0m\n\u001b[1;32m---> 40\u001b[1;33m             \u001b[1;32mraise\u001b[0m \u001b[0mTypeError\u001b[0m\u001b[1;33m(\u001b[0m\u001b[1;34m\"No matching method for types {}\"\u001b[0m\u001b[1;33m.\u001b[0m\u001b[0mformat\u001b[0m\u001b[1;33m(\u001b[0m\u001b[0mtypes\u001b[0m\u001b[1;33m)\u001b[0m\u001b[1;33m)\u001b[0m\u001b[1;33m\u001b[0m\u001b[0m\n\u001b[0m\u001b[0;32m     41\u001b[0m \u001b[1;33m\u001b[0m\u001b[0m\n\u001b[0;32m     42\u001b[0m     \u001b[1;32mdef\u001b[0m \u001b[0m__get__\u001b[0m\u001b[1;33m(\u001b[0m\u001b[0mself\u001b[0m\u001b[1;33m,\u001b[0m \u001b[0minstance\u001b[0m\u001b[1;33m,\u001b[0m \u001b[0mcls\u001b[0m\u001b[1;33m)\u001b[0m\u001b[1;33m:\u001b[0m\u001b[1;33m\u001b[0m\u001b[0m\n",
      "\u001b[1;31mTypeError\u001b[0m: No matching method for types (<class '__main__.B'>,)"
     ]
    }
   ],
   "source": [
    "b = B()\n",
    "s.foo(b)"
   ]
  },
  {
   "cell_type": "code",
   "execution_count": 17,
   "metadata": {},
   "outputs": [],
   "source": [
    "\"\"\"作为使用元类和注解的一种替代方案，可以通过描述器来实现类似的效果。例如：\"\"\"\n",
    "import types\n",
    "class multimethod:\n",
    "    def __init__(self, func):\n",
    "        self._methods = {}\n",
    "        self.__name__ = func.__name__\n",
    "        self.__default = func\n",
    "        \n",
    "    def match(self, *types):\n",
    "        def register(func):\n",
    "            nodefaults = len(func.__defaults__) if func.__defaults__ else 0\n",
    "            for n in range(nodefaults+1):\n",
    "                self._methods[types[:len(types) -n ]] = func\n",
    "            return self\n",
    "        return register\n",
    "    \n",
    "    def __call__(self, *args):\n",
    "        types = tuple(type(arg) for arg in args[1:])\n",
    "        meth = self._methods.get(types, None)\n",
    "        if meth:\n",
    "            return meth(*args)\n",
    "        else:\n",
    "            return self._default(*args)\n",
    "        \n",
    "    def __get__(self, instance, cls):\n",
    "        if instance is not None:\n",
    "            return types.MethodType(self, instance)\n",
    "        else:\n",
    "            return self"
   ]
  },
  {
   "cell_type": "code",
   "execution_count": 18,
   "metadata": {},
   "outputs": [],
   "source": [
    "\"\"\"为了使用描述器版本，你需要像下面这样写：\"\"\"\n",
    "class Spam:\n",
    "    @multimethod\n",
    "    def bar(self, *args):\n",
    "        # Default method called if no match\n",
    "        raise TypeError('No matching method for bar')\n",
    "\n",
    "    @bar.match(int, int)\n",
    "    def bar(self, x, y):\n",
    "        print('Bar 1:', x, y)\n",
    "\n",
    "    @bar.match(str, int)\n",
    "    def bar(self, s, n = 0):\n",
    "        print('Bar 2:', s, n)"
   ]
  },
  {
   "cell_type": "code",
   "execution_count": null,
   "metadata": {},
   "outputs": [],
   "source": [
    "\"\"\"描述器方案同样也有前面提到的限制（不支持关键字参数和继承）。\n",
    "\n",
    "所有事物都是平等的，有好有坏，也许最好的办法就是在普通代码中避免使用方法重载。 不过有些特殊情况下还是有意义的，比如基于模式匹配的方法重载程序中。 举个例子，8.21小节中的访问者模式可以修改为一个使用方法重载的类。 但是，除了这个以外，通常不应该使用方法重载（就简单的使用不同名称的方法就行了）。\n",
    "\n",
    "在Python社区对于实现方法重载的讨论已经由来已久。 对于引发这个争论的原因，可以参考下Guido van Rossum的这篇博客： Five-Minute Multimethods in Python\"\"\""
   ]
  }
 ],
 "metadata": {
  "kernelspec": {
   "display_name": "Python 3",
   "language": "python",
   "name": "python3"
  },
  "language_info": {
   "codemirror_mode": {
    "name": "ipython",
    "version": 3
   },
   "file_extension": ".py",
   "mimetype": "text/x-python",
   "name": "python",
   "nbconvert_exporter": "python",
   "pygments_lexer": "ipython3",
   "version": "3.6.5"
  }
 },
 "nbformat": 4,
 "nbformat_minor": 2
}
