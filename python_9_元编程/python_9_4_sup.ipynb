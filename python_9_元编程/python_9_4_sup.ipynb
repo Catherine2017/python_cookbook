{
 "cells": [
  {
   "cell_type": "code",
   "execution_count": 1,
   "metadata": {},
   "outputs": [
    {
     "name": "stdout",
     "output_type": "stream",
     "text": [
      "<p>HELLO</p>\n"
     ]
    }
   ],
   "source": [
    "def tag(func):\n",
    "    def wrapper(text):\n",
    "        value = func(text)\n",
    "        return '<p>'+value+'</p>'\n",
    "    return wrapper\n",
    "\n",
    "@tag\n",
    "def my_upper(text):\n",
    "    value = text.upper()\n",
    "    return value\n",
    "print(my_upper('hello'))"
   ]
  },
  {
   "cell_type": "code",
   "execution_count": null,
   "metadata": {},
   "outputs": [],
   "source": []
  }
 ],
 "metadata": {
  "kernelspec": {
   "display_name": "Python 3",
   "language": "python",
   "name": "python3"
  },
  "language_info": {
   "codemirror_mode": {
    "name": "ipython",
    "version": 3
   },
   "file_extension": ".py",
   "mimetype": "text/x-python",
   "name": "python",
   "nbconvert_exporter": "python",
   "pygments_lexer": "ipython3",
   "version": "3.6.4"
  }
 },
 "nbformat": 4,
 "nbformat_minor": 2
}
