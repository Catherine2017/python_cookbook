{
 "cells": [
  {
   "cell_type": "markdown",
   "metadata": {},
   "source": [
    "# 12.2 判断线程是否已经启动\n",
    "## 问题\n",
    "你已经启动了一个线程，但是你想知道它是不是真的已经开始运行了。\n",
    "## 解决方案\n",
    "线程的一个关键特性是每个线程都是独立运行且状态不可预测。如果程序中的其他线程需要通过判断某个线程的状态来确定自己下一步的操作，这时线程同步问题就会变得非常棘手。为了解决这些问题，我们需要使用 threading 库中的 Event 对象。 Event 对象包含一个可由线程设置的信号标志，它允许线程等待某些事件的发生。在初始情况下，event 对象中的信号标志被设置为假。如果有线程等待一个 event 对象，而这个 event 对象的标志为假，那么这个线程将会被一直阻塞直至该标志为真。一个线程如果将一个 event 对象的信号标志设置为真，它将唤醒所有等待这个 event 对象的线程。如果一个线程等待一个已经被设置为真的 event 对象，那么它将忽略这个事件，继续执行。 下边的代码展示了如何使用 Event 来协调线程的启动："
   ]
  },
  {
   "cell_type": "code",
   "execution_count": 1,
   "metadata": {},
   "outputs": [
    {
     "name": "stdout",
     "output_type": "stream",
     "text": [
      "Lanunching countdown\n",
      "countdown starting\n",
      "T-minus 10\n",
      "countdown is running\n",
      "T-minus 9\n",
      "T-minus 8\n",
      "T-minus 7\n",
      "T-minus 6\n",
      "T-minus 5\n",
      "T-minus 4\n",
      "T-minus 3\n",
      "T-minus 2\n",
      "T-minus 1\n"
     ]
    }
   ],
   "source": [
    "from threading import Thread, Event\n",
    "import time\n",
    "\n",
    "def countdown(n, started_evt):\n",
    "    print('countdown starting')\n",
    "    started_evt.set()\n",
    "    while n > 0:\n",
    "        print('T-minus', n)\n",
    "        n -= 1\n",
    "        time.sleep(5)\n",
    "        \n",
    "started_evt = Event()\n",
    "print('Lanunching countdown')\n",
    "t = Thread(target=countdown, args=(10, started_evt))\n",
    "t.start()\n",
    "started_evt.wait()\n",
    "print('countdown is running')"
   ]
  },
  {
   "cell_type": "markdown",
   "metadata": {},
   "source": [
    "当你执行这段代码，“countdown is running” 总是显示在 “countdown starting” 之后显示。这是由于使用 event 来协调线程，使得主线程要等到 countdown() 函数输出启动信息后，才能继续执行。"
   ]
  },
  {
   "cell_type": "markdown",
   "metadata": {},
   "source": [
    "## 讨论\n",
    "event 对象最好单次使用，就是说，你创建一个 event 对象，让某个线程等待这个对象，一旦这个对象被设置为真，你就应该丢弃它。尽管可以通过 clear() 方法来重置 event 对象，但是很难确保安全地清理 event 对象并对它重新赋值。很可能会发生错过事件、死锁或者其他问题（特别是，你无法保证重置 event 对象的代码会在线程再次等待这个 event 对象之前执行）。如果一个线程需要不停地重复使用 event 对象，你最好使用 Condition 对象来代替。下面的代码使用 Condition 对象实现了一个周期定时器，每当定时器超时的时候，其他线程都可以监测到："
   ]
  },
  {
   "cell_type": "code",
   "execution_count": 4,
   "metadata": {},
   "outputs": [
    {
     "name": "stdout",
     "output_type": "stream",
     "text": [
      "T-minusCounting 0\n",
      " 10\n",
      "CountingT-minus 9\n",
      " 1\n",
      "T-minusCounting 2\n",
      " 8\n",
      "CountingT-minus 7\n",
      " 3\n",
      "T-minusCounting 4\n",
      " 6\n",
      "T-minus 5\n",
      "T-minus 4\n",
      "T-minus 3\n",
      "T-minus 2\n",
      "T-minus 1\n"
     ]
    }
   ],
   "source": [
    "import threading\n",
    "import time\n",
    "\n",
    "class PeriodicTimer:\n",
    "    def __init__(self, interval):\n",
    "        self._interval = interval\n",
    "        self._flag = 0\n",
    "        self._cv = threading.Condition()\n",
    "        \n",
    "    def start(self):\n",
    "        t = threading.Thread(target=self.run)\n",
    "        t.daemon = True\n",
    "        t.start()\n",
    "        \n",
    "    def run(self):\n",
    "        while True:\n",
    "            time.sleep(self._interval)\n",
    "            with self._cv:\n",
    "                self._flag ^= 1\n",
    "                self._cv.notify_all()\n",
    "                \n",
    "    def wait_for_tick(self):\n",
    "        with self._cv:\n",
    "            last_flag = self._flag\n",
    "            while last_flag == self._flag:\n",
    "                self._cv.wait()\n",
    "                \n",
    "# Example use of the timer\n",
    "ptimer = PeriodicTimer(5)\n",
    "ptimer.start()\n",
    "\n",
    "# Two threads that synchronize on the timer\n",
    "def countdown(nticks):\n",
    "    while nticks > 0:\n",
    "        ptimer.wait_for_tick()\n",
    "        print('T-minus', nticks)\n",
    "        nticks -= 1\n",
    "\n",
    "def countup(last):\n",
    "    n = 0\n",
    "    while n < last:\n",
    "        ptimer.wait_for_tick()\n",
    "        print('Counting', n)\n",
    "        n += 1\n",
    "\n",
    "threading.Thread(target=countdown, args=(10,)).start()\n",
    "threading.Thread(target=countup, args=(5,)).start()"
   ]
  },
  {
   "cell_type": "code",
   "execution_count": 5,
   "metadata": {},
   "outputs": [],
   "source": [
    "\"\"\"event对象的一个重要特点是当它被设置为真时会唤醒所有等待它的线程。如果你只想唤醒单个线程，最好是使用信号量或者 Condition 对象来替代。考虑一下这段使用信号量实现的代码：\"\"\"\n",
    "def worker(n, sema):\n",
    "    sema.acquire()\n",
    "    print('working', n)\n",
    "    \n",
    "sema = threading.Semaphore(0)\n",
    "nworkers = 10\n",
    "for n in range(nworkers):\n",
    "    t = threading.Thread(target=worker, args=(n, sema))\n",
    "    t.start()"
   ]
  },
  {
   "cell_type": "code",
   "execution_count": 6,
   "metadata": {},
   "outputs": [
    {
     "name": "stdout",
     "output_type": "stream",
     "text": [
      "working 0\n"
     ]
    }
   ],
   "source": [
    "\"\"\"运行上边的代码将会启动一个线程池，但是并没有什么事情发生。这是因为所有的线程都在等待获取信号量。每次信号量被释放，只有一个线程会被唤醒并执行，示例如下：\"\"\"\n",
    "sema.release()"
   ]
  },
  {
   "cell_type": "code",
   "execution_count": 8,
   "metadata": {},
   "outputs": [
    {
     "name": "stdout",
     "output_type": "stream",
     "text": [
      "working 1\n"
     ]
    }
   ],
   "source": [
    "sema.release()"
   ]
  },
  {
   "cell_type": "code",
   "execution_count": 9,
   "metadata": {},
   "outputs": [
    {
     "name": "stdout",
     "output_type": "stream",
     "text": [
      "working 2\n"
     ]
    }
   ],
   "source": [
    "sema.release()"
   ]
  },
  {
   "cell_type": "code",
   "execution_count": 10,
   "metadata": {},
   "outputs": [
    {
     "name": "stdout",
     "output_type": "stream",
     "text": [
      "working 3\n"
     ]
    }
   ],
   "source": [
    "sema.release()"
   ]
  },
  {
   "cell_type": "code",
   "execution_count": 11,
   "metadata": {},
   "outputs": [
    {
     "name": "stdout",
     "output_type": "stream",
     "text": [
      "working 4\n"
     ]
    }
   ],
   "source": [
    "sema.release()"
   ]
  },
  {
   "cell_type": "code",
   "execution_count": 12,
   "metadata": {},
   "outputs": [
    {
     "name": "stdout",
     "output_type": "stream",
     "text": [
      "working 5\n"
     ]
    }
   ],
   "source": [
    "sema.release()"
   ]
  },
  {
   "cell_type": "code",
   "execution_count": 13,
   "metadata": {},
   "outputs": [
    {
     "name": "stdout",
     "output_type": "stream",
     "text": [
      "working 6\n"
     ]
    }
   ],
   "source": [
    "sema.release()"
   ]
  },
  {
   "cell_type": "code",
   "execution_count": 14,
   "metadata": {},
   "outputs": [
    {
     "name": "stdout",
     "output_type": "stream",
     "text": [
      "working 7\n"
     ]
    }
   ],
   "source": [
    "sema.release()"
   ]
  },
  {
   "cell_type": "code",
   "execution_count": 15,
   "metadata": {},
   "outputs": [
    {
     "name": "stdout",
     "output_type": "stream",
     "text": [
      "working 8\n"
     ]
    }
   ],
   "source": [
    "sema.release()"
   ]
  },
  {
   "cell_type": "code",
   "execution_count": 16,
   "metadata": {},
   "outputs": [
    {
     "name": "stdout",
     "output_type": "stream",
     "text": [
      "working 9\n"
     ]
    }
   ],
   "source": [
    "sema.release()"
   ]
  },
  {
   "cell_type": "markdown",
   "metadata": {},
   "source": [
    "编写涉及到大量的线程间同步问题的代码会让你痛不欲生。比较合适的方式是使用队列来进行线程间通信或者每个把线程当作一个Actor，利用Actor模型来控制并发。下一节将会介绍到队列，而Actor模型将在12.10节介绍。"
   ]
  },
  {
   "cell_type": "code",
   "execution_count": null,
   "metadata": {},
   "outputs": [],
   "source": []
  }
 ],
 "metadata": {
  "kernelspec": {
   "display_name": "Python 3",
   "language": "python",
   "name": "python3"
  },
  "language_info": {
   "codemirror_mode": {
    "name": "ipython",
    "version": 3
   },
   "file_extension": ".py",
   "mimetype": "text/x-python",
   "name": "python",
   "nbconvert_exporter": "python",
   "pygments_lexer": "ipython3",
   "version": "3.6.4"
  }
 },
 "nbformat": 4,
 "nbformat_minor": 2
}
