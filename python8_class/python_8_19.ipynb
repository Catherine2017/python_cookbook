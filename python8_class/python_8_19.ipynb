{
 "cells": [
  {
   "cell_type": "code",
   "execution_count": 9,
   "metadata": {},
   "outputs": [
    {
     "data": {
      "text/plain": [
       "__main__.ClosedConnectState"
      ]
     },
     "execution_count": 9,
     "metadata": {},
     "output_type": "execute_result"
    }
   ],
   "source": [
    "# 8.19 实现状态对象或者状态机\n",
    "\"\"\"问题\n",
    "你想实现一个状态机或者是在不同状态下执行操作的对象，但是又不想在代码中出现太多的条件判断语句。\n",
    "\n",
    "解决方案\n",
    "在很多程序中，有些对象会根据状态的不同来执行不同的操作。比如考虑如下的一个连接对象：\"\"\"\n",
    "class Connection:\n",
    "    def __init__(self):\n",
    "        self.state = 'CLOSED'\n",
    "    def read(self):\n",
    "        if self.state != 'OPEN':\n",
    "            raise RuntimeError('Not open')\n",
    "        print('reading')\n",
    "        \n",
    "    def write(self, data):\n",
    "        if self.state != 'OPEN':\n",
    "            raise RuntimeError('Not open')\n",
    "        print('writing')\n",
    "\n",
    "    def open(self):\n",
    "        if self.state == 'OPEN':\n",
    "            raise RuntimeError('Already open')\n",
    "        self.state = 'OPEN'\n",
    "\n",
    "    def close(self):\n",
    "        if self.state == 'CLOSED':\n",
    "            raise RuntimeError('Already closed')\n",
    "        self.state = 'CLOSED'\n",
    "\n",
    "\"\"\"这样写有很多缺点，首先是代码太复杂了，好多的条件判断。其次是执行效率变低， 因为一些常见的操作比如read()、write()每次执行前都需要执行检查。\n",
    "\n",
    "一个更好的办法是为每个状态定义一个对象：\"\"\"\n",
    "class Connection1:\n",
    "    \"\"\"新方案——对每个状态定义一个类\"\"\"\n",
    "    def __init__(self):\n",
    "        self.new_state(ClosedConnectState)\n",
    "    \n",
    "    def new_state(self, newstate):\n",
    "        self._state = newstate\n",
    "    \n",
    "    def read(self):\n",
    "        return self._state.read(self)\n",
    "    \n",
    "    def write(self, data):\n",
    "        return self._state.write(self, data)\n",
    "    \n",
    "    def open(self):\n",
    "        return self._state.open(self)\n",
    "    \n",
    "    def close(self):\n",
    "        return self._state.close(self)\n",
    "    \n",
    "# Connection state base class\n",
    "class ConnectState:\n",
    "    @staticmethod\n",
    "    def read(conn):\n",
    "        raise NotImplementedError()\n",
    "        \n",
    "    @staticmethod\n",
    "    def write(conn, data):\n",
    "        raise NotImplementedError()\n",
    "        \n",
    "    @staticmethod\n",
    "    def open(conn):\n",
    "        raise NotImplementedError()\n",
    "        \n",
    "    @staticmethod\n",
    "    def close(conn):\n",
    "        raise NotImplementedError()\n",
    "        \n",
    "# Implementation of different states\n",
    "class ClosedConnectState(ConnectState):\n",
    "    @staticmethod\n",
    "    def read(conn):\n",
    "        raise RuntimeError('Not open')\n",
    "    \n",
    "    @staticmethod\n",
    "    def write(conn, data):\n",
    "        raise RuntimeError('Not open')\n",
    "        \n",
    "    @staticmethod\n",
    "    def open(conn):\n",
    "        conn.new_state(OpenConnectionState)\n",
    "        \n",
    "    @staticmethod\n",
    "    def close(conn):\n",
    "        raise RuntimeError('Already closed.')\n",
    "        \n",
    "class OpenConnectionState(ConnectState):\n",
    "    @staticmethod\n",
    "    def read(conn):\n",
    "        print('reading')\n",
    "        \n",
    "    @staticmethod\n",
    "    def write(conn, data):\n",
    "        print('writing.')\n",
    "        \n",
    "    @staticmethod\n",
    "    def open(conn):\n",
    "        raise RuntimeError('Already open')\n",
    "        \n",
    "    @staticmethod\n",
    "    def close(conn):\n",
    "        conn.new_state(ClosedConnectState)\n",
    "        \n",
    "c = Connection1()\n",
    "c._state"
   ]
  },
  {
   "cell_type": "code",
   "execution_count": 10,
   "metadata": {},
   "outputs": [
    {
     "ename": "RuntimeError",
     "evalue": "Not open",
     "output_type": "error",
     "traceback": [
      "\u001b[1;31m---------------------------------------------------------------------------\u001b[0m",
      "\u001b[1;31mRuntimeError\u001b[0m                              Traceback (most recent call last)",
      "\u001b[1;32m<ipython-input-10-aaae037ddc31>\u001b[0m in \u001b[0;36m<module>\u001b[1;34m()\u001b[0m\n\u001b[1;32m----> 1\u001b[1;33m \u001b[0mc\u001b[0m\u001b[1;33m.\u001b[0m\u001b[0mread\u001b[0m\u001b[1;33m(\u001b[0m\u001b[1;33m)\u001b[0m\u001b[1;33m\u001b[0m\u001b[0m\n\u001b[0m",
      "\u001b[1;32m<ipython-input-9-cc957c74665c>\u001b[0m in \u001b[0;36mread\u001b[1;34m(self)\u001b[0m\n\u001b[0;32m     40\u001b[0m \u001b[1;33m\u001b[0m\u001b[0m\n\u001b[0;32m     41\u001b[0m     \u001b[1;32mdef\u001b[0m \u001b[0mread\u001b[0m\u001b[1;33m(\u001b[0m\u001b[0mself\u001b[0m\u001b[1;33m)\u001b[0m\u001b[1;33m:\u001b[0m\u001b[1;33m\u001b[0m\u001b[0m\n\u001b[1;32m---> 42\u001b[1;33m         \u001b[1;32mreturn\u001b[0m \u001b[0mself\u001b[0m\u001b[1;33m.\u001b[0m\u001b[0m_state\u001b[0m\u001b[1;33m.\u001b[0m\u001b[0mread\u001b[0m\u001b[1;33m(\u001b[0m\u001b[0mself\u001b[0m\u001b[1;33m)\u001b[0m\u001b[1;33m\u001b[0m\u001b[0m\n\u001b[0m\u001b[0;32m     43\u001b[0m \u001b[1;33m\u001b[0m\u001b[0m\n\u001b[0;32m     44\u001b[0m     \u001b[1;32mdef\u001b[0m \u001b[0mwrite\u001b[0m\u001b[1;33m(\u001b[0m\u001b[0mself\u001b[0m\u001b[1;33m,\u001b[0m \u001b[0mdata\u001b[0m\u001b[1;33m)\u001b[0m\u001b[1;33m:\u001b[0m\u001b[1;33m\u001b[0m\u001b[0m\n",
      "\u001b[1;32m<ipython-input-9-cc957c74665c>\u001b[0m in \u001b[0;36mread\u001b[1;34m(conn)\u001b[0m\n\u001b[0;32m     73\u001b[0m     \u001b[1;33m@\u001b[0m\u001b[0mstaticmethod\u001b[0m\u001b[1;33m\u001b[0m\u001b[0m\n\u001b[0;32m     74\u001b[0m     \u001b[1;32mdef\u001b[0m \u001b[0mread\u001b[0m\u001b[1;33m(\u001b[0m\u001b[0mconn\u001b[0m\u001b[1;33m)\u001b[0m\u001b[1;33m:\u001b[0m\u001b[1;33m\u001b[0m\u001b[0m\n\u001b[1;32m---> 75\u001b[1;33m         \u001b[1;32mraise\u001b[0m \u001b[0mRuntimeError\u001b[0m\u001b[1;33m(\u001b[0m\u001b[1;34m'Not open'\u001b[0m\u001b[1;33m)\u001b[0m\u001b[1;33m\u001b[0m\u001b[0m\n\u001b[0m\u001b[0;32m     76\u001b[0m \u001b[1;33m\u001b[0m\u001b[0m\n\u001b[0;32m     77\u001b[0m     \u001b[1;33m@\u001b[0m\u001b[0mstaticmethod\u001b[0m\u001b[1;33m\u001b[0m\u001b[0m\n",
      "\u001b[1;31mRuntimeError\u001b[0m: Not open"
     ]
    }
   ],
   "source": [
    "c.read()"
   ]
  },
  {
   "cell_type": "code",
   "execution_count": 11,
   "metadata": {},
   "outputs": [],
   "source": [
    "c.open()"
   ]
  },
  {
   "cell_type": "code",
   "execution_count": 12,
   "metadata": {},
   "outputs": [
    {
     "data": {
      "text/plain": [
       "__main__.OpenConnectionState"
      ]
     },
     "execution_count": 12,
     "metadata": {},
     "output_type": "execute_result"
    }
   ],
   "source": [
    "c._state"
   ]
  },
  {
   "cell_type": "code",
   "execution_count": 13,
   "metadata": {},
   "outputs": [
    {
     "name": "stdout",
     "output_type": "stream",
     "text": [
      "reading\n"
     ]
    }
   ],
   "source": [
    "c.read()"
   ]
  },
  {
   "cell_type": "code",
   "execution_count": 14,
   "metadata": {},
   "outputs": [
    {
     "name": "stdout",
     "output_type": "stream",
     "text": [
      "writing.\n"
     ]
    }
   ],
   "source": [
    "c.write('hello')"
   ]
  },
  {
   "cell_type": "code",
   "execution_count": 15,
   "metadata": {},
   "outputs": [],
   "source": [
    "c.close()"
   ]
  },
  {
   "cell_type": "code",
   "execution_count": 16,
   "metadata": {},
   "outputs": [
    {
     "data": {
      "text/plain": [
       "__main__.ClosedConnectState"
      ]
     },
     "execution_count": 16,
     "metadata": {},
     "output_type": "execute_result"
    }
   ],
   "source": [
    "c._state"
   ]
  },
  {
   "cell_type": "code",
   "execution_count": null,
   "metadata": {},
   "outputs": [],
   "source": [
    "\"\"\"讨论\n",
    "如果代码中出现太多的条件判断语句的话，代码就会变得难以维护和阅读。 这里的解决方案是将每个状态抽取出来定义成一个类。\n",
    "\n",
    "这里看上去有点奇怪，每个状态对象都只有静态方法，并没有存储任何的实例属性数据。 实际上，所有状态信息都只存储在 Connection 实例中。 在基类中定义的 NotImplementedError 是为了确保子类实现了相应的方法。 这里你或许还想使用8.12小节讲解的抽象基类方式。\n",
    "\n",
    "设计模式中有一种模式叫状态模式，这一小节算是一个初步入门！\"\"\""
   ]
  }
 ],
 "metadata": {
  "kernelspec": {
   "display_name": "Python 3",
   "language": "python",
   "name": "python3"
  },
  "language_info": {
   "codemirror_mode": {
    "name": "ipython",
    "version": 3
   },
   "file_extension": ".py",
   "mimetype": "text/x-python",
   "name": "python",
   "nbconvert_exporter": "python",
   "pygments_lexer": "ipython3",
   "version": "3.6.4"
  }
 },
 "nbformat": 4,
 "nbformat_minor": 2
}
