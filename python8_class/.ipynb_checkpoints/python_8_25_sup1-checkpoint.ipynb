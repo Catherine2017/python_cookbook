{
 "cells": [
  {
   "cell_type": "code",
   "execution_count": 1,
   "metadata": {},
   "outputs": [
    {
     "name": "stdout",
     "output_type": "stream",
     "text": [
      "self is <__main__.B object at 0x0000027EA010D9E8> @B.add\n",
      "self is <__main__.B object at 0x0000027EA010D9E8> @A.add\n",
      "8\n"
     ]
    }
   ],
   "source": [
    "\"\"\"说到 super， 大家可能觉得很简单呀，不就是用来调用父类方法的嘛。如果真的这么简单的话也就不会有这篇文章了，且听我细细道来。😄\"\"\"\n",
    "\n",
    "#约定\n",
    "\"\"\"\"在开始之前我们来约定一下本文所使用的 Python 版本。默认用的是 Python 3，也就是说：本文所定义的类都是新式类。如果你用到是 Python 2 的话，\n",
    "记得继承 object:\n",
    "\n",
    " 默认， Python 3\n",
    "class A:\n",
    "    pass\n",
    "\n",
    "# Python 2\n",
    "class A(object):\n",
    "    pass\n",
    "Python 3 和 Python 2 的另一个区别是: Python 3 可以使用直接使用 super().xxx 代替 super(Class, self).xxx :\n",
    "\n",
    "# 默认，Python 3\n",
    "class B(A):\n",
    "    def add(self, x):\n",
    "        super().add(x)\n",
    "\n",
    "# Python 2\n",
    "class B(A):\n",
    "    def add(self, x):\n",
    "        super(B, self).add(x)\n",
    "所以，你如果用的是 Python 2 的话，记得将本文的 super() 替换为 suepr(Class, self) 。\n",
    "\n",
    "如果还有其他不兼容 Python 2 的情况，我会在文中注明的。\"\"\"\n",
    "class A:\n",
    "    def __init__(self):\n",
    "        self.n = 2\n",
    "        \n",
    "    def add(self, m):\n",
    "        print('self is {0} @A.add'.format(self))\n",
    "        self.n += m\n",
    "        # print('A', self.n)\n",
    "        \n",
    "class B(A):\n",
    "    def __init__(self):\n",
    "        self.n = 3\n",
    "        \n",
    "    def add(self, m):\n",
    "        print('self is {0} @B.add'.format(self))\n",
    "        super().add(m)\n",
    "        self.n += 3\n",
    "        # print('B', self.n)\n",
    "b = B()\n",
    "b.add(2)\n",
    "print(b.n)"
   ]
  },
  {
   "cell_type": "code",
   "execution_count": 2,
   "metadata": {},
   "outputs": [
    {
     "name": "stdout",
     "output_type": "stream",
     "text": [
      "self is <__main__.D object at 0x0000027EA010D1D0> @D.add\n",
      "self is <__main__.D object at 0x0000027EA010D1D0> @B.add\n",
      "self is <__main__.D object at 0x0000027EA010D1D0> @C.add\n",
      "self is <__main__.D object at 0x0000027EA010D1D0> @A.add\n",
      "19\n"
     ]
    }
   ],
   "source": [
    "\"\"\"这个结果说明了两个问题:\n",
    "\n",
    "super().add(m) 确实调用了父类 A 的 add 方法。\n",
    "super().add(m) 调用父类方法 def add(self, m) 时, 此时父类中 self 并不是父类的实例而是子类\n",
    "的实例, 所以 b.add(2) 之后的结果是 5 而不是 4 。\n",
    "不知道这个结果是否和你想到一样呢？下面我们来看一个多继承的例子。\n",
    "\"\"\"\n",
    "# 多继承\n",
    "\"\"\"这次我们再定义一个 class C，一个 class D:\"\"\"\n",
    "class C(A):\n",
    "    def __init__(self):\n",
    "        self.n = 4\n",
    "        \n",
    "    def add(self, m):\n",
    "        print('self is {0} @C.add'.format(self))\n",
    "        super().add(m)\n",
    "        self.n += 4\n",
    "        # print('C', self.n)\n",
    "        \n",
    "class D(B, C):\n",
    "    def __init__(self):\n",
    "        self.n = 5\n",
    "\n",
    "    def add(self, m):\n",
    "        print('self is {0} @D.add'.format(self))\n",
    "        super().add(m)\n",
    "        self.n += 5\n",
    "d = D()\n",
    "d.add(2)\n",
    "print(d.n)"
   ]
  },
  {
   "cell_type": "code",
   "execution_count": 3,
   "metadata": {},
   "outputs": [
    {
     "data": {
      "text/plain": [
       "super"
      ]
     },
     "execution_count": 3,
     "metadata": {},
     "output_type": "execute_result"
    }
   ],
   "source": [
    "\"\"\"你说对了吗？你可能会认为上面代码的输出类似:\n",
    "\n",
    "self is <__main__.D object at 0x10ce10e48> @D.add\n",
    "self is <__main__.D object at 0x10ce10e48> @B.add\n",
    "self is <__main__.D object at 0x10ce10e48> @A.add\n",
    "15\n",
    "为什么会跟预期的不一样呢？下面我们将一起来看看 super 的奥秘。\n",
    "\n",
    "super 是个类\n",
    "当我们调用 super() 的时候，实际上是实例化了一个 super 类。你没看错， super 是个类，既不是关键字也不是函数等其他数据结构:\"\"\"\n",
    "class A:\n",
    "    pass\n",
    "s = super(A)\n",
    "type(s)"
   ]
  },
  {
   "cell_type": "code",
   "execution_count": 4,
   "metadata": {},
   "outputs": [
    {
     "data": {
      "text/plain": [
       "[__main__.D, __main__.B, __main__.C, __main__.A, object]"
      ]
     },
     "execution_count": 4,
     "metadata": {},
     "output_type": "execute_result"
    }
   ],
   "source": [
    "\"\"\"在大多数情况下， super 包含了两个非常重要的信息: 一个 MRO(Method Resolution Order) 列表以及 MRO 中的一个类。当以如下方式调用 super 时:\n",
    "\n",
    "super(a_type, obj)\n",
    "MRO 列表指的是 type(obj) 的 MRO 列表, MRO 中的那个类就是 a_type , 同时 isinstance(obj, a_type) == True 。\n",
    "那么， super() 实际上做了啥呢？简单来说就是：提供一个 MRO 列表以及一个 MRO 中的类 C ， super() 将返回一个从 MRO 列表中 C 之后的类中查找方法的对象。\n",
    "\n",
    "也就是说，查找方式时不是像常规方法一样从所有的 MRO 类中查找，而是从 MRO 列表的 tail 中查找。\n",
    "\n",
    "举个栗子, 有个 MRO 列表:\n",
    "\n",
    "[A, B, C, D, E, object]\n",
    "下面的调用:\n",
    "\n",
    "super(C, A).foo()\n",
    "super 只会从 C 之后查找，即: 只会在 D 或 E 或 object 中查找 foo 方法。\"\"\"\n",
    "\n",
    "D.mro()"
   ]
  },
  {
   "cell_type": "code",
   "execution_count": 5,
   "metadata": {},
   "outputs": [
    {
     "name": "stdout",
     "output_type": "stream",
     "text": [
      "self is <__main__.D object at 0x0000027EA0141940> @D.add\n",
      "self is <__main__.D object at 0x0000027EA0141940> @B.add\n",
      "self is <__main__.D object at 0x0000027EA0141940> @C.add\n",
      "self is <__main__.D object at 0x0000027EA0141940> @A.add\n",
      "19\n"
     ]
    },
    {
     "data": {
      "text/plain": [
       "'调用过程图如下:\\n\\nD.mro() == [D, B, C, A, object]\\nd = D()\\nd.n == 5\\nd.add(2)\\n\\nclass D(B, C):          class B(A):            class C(A):             class A:\\n    def add(self, m):       def add(self, m):      def add(self, m):       def add(self, m):\\n        super().add(m)  1.--->  super().add(m) 2.--->  super().add(m)  3.--->  self.n += m\\n        self.n += 5   <------6. self.n += 3    <----5. self.n += 4     <----4. <--|\\n        (14+5=19)               (11+3=14)              (7+4=11)                (5+2=7)\\n现在你知道为什么 d.add(2) 后 d.n 的值是 19 了吧 ;)\\n\\n如果感觉上面的解释还不是很清楚的话，下面我们一起来根据 super 的功能实现一个我们自己的 Super 类，相信这样会更直观一点。'"
      ]
     },
     "execution_count": 5,
     "metadata": {},
     "output_type": "execute_result"
    }
   ],
   "source": [
    "# 多继承中 super 的工作方式\n",
    "\"\"\"再回到前面的\n",
    "\n",
    "d = D()\n",
    "d.add(2)\n",
    "print(d.n)\n",
    "现在你可能已经有点眉目，为什么输出会是\n",
    "\n",
    "self is <__main__.D object at 0x10ce10e48> @D.add\n",
    "self is <__main__.D object at 0x10ce10e48> @B.add\n",
    "self is <__main__.D object at 0x10ce10e48> @C.add\n",
    "self is <__main__.D object at 0x10ce10e48> @A.add\n",
    "19\n",
    "了吧 ;)\n",
    "\n",
    "下面我们来具体分析一下:\n",
    "\n",
    "D 的 MRO 是: [D, B, C, A, object] 。 备注: 可以通过 D.mro() (Python 2 使用 D.__mro__ ) 来查看 D 的 MRO 信息）\n",
    "详细的代码分析如下:\"\"\"\n",
    "class A:\n",
    "    def __init__(self):\n",
    "        self.n = 2\n",
    "\n",
    "    def add(self, m):\n",
    "        # 第四步\n",
    "        # 来自 D.add 中的 super\n",
    "        # self == d, self.n == d.n == 5\n",
    "        print('self is {0} @A.add'.format(self))\n",
    "        self.n += m\n",
    "        # d.n == 7\n",
    "\n",
    "\n",
    "class B(A):\n",
    "    def __init__(self):\n",
    "        self.n = 3\n",
    "\n",
    "    def add(self, m):\n",
    "        # 第二步\n",
    "        # 来自 D.add 中的 super\n",
    "        # self == d, self.n == d.n == 5\n",
    "        print('self is {0} @B.add'.format(self))\n",
    "        # 等价于 suepr(B, self).add(m)\n",
    "        # self 的 MRO 是 [D, B, C, A, object]\n",
    "        # 从 B 之后的 [C, A, object] 中查找 add 方法\n",
    "        super().add(m)\n",
    "\n",
    "        # 第六步\n",
    "        # d.n = 11\n",
    "        self.n += 3\n",
    "        # d.n = 14\n",
    "\n",
    "class C(A):\n",
    "    def __init__(self):\n",
    "        self.n = 4\n",
    "\n",
    "    def add(self, m):\n",
    "        # 第三步\n",
    "        # 来自 B.add 中的 super\n",
    "        # self == d, self.n == d.n == 5\n",
    "        print('self is {0} @C.add'.format(self))\n",
    "        # 等价于 suepr(C, self).add(m)\n",
    "        # self 的 MRO 是 [D, B, C, A, object]\n",
    "        # 从 C 之后的 [A, object] 中查找 add 方法\n",
    "        super().add(m)\n",
    "\n",
    "        # 第五步\n",
    "        # d.n = 7\n",
    "        self.n += 4\n",
    "        # d.n = 11\n",
    "\n",
    "\n",
    "class D(B, C):\n",
    "    def __init__(self):\n",
    "        self.n = 5\n",
    "\n",
    "    def add(self, m):\n",
    "        # 第一步\n",
    "        print('self is {0} @D.add'.format(self))\n",
    "        # 等价于 super(D, self).add(m)\n",
    "        # self 的 MRO 是 [D, B, C, A, object]\n",
    "        # 从 D 之后的 [B, C, A, object] 中查找 add 方法\n",
    "        super().add(m)\n",
    "\n",
    "        # 第七步\n",
    "        # d.n = 14\n",
    "        self.n += 5\n",
    "        # self.n = 19\n",
    "\n",
    "d = D()\n",
    "d.add(2)\n",
    "print(d.n)\n",
    "\"\"\"调用过程图如下:\n",
    "\n",
    "D.mro() == [D, B, C, A, object]\n",
    "d = D()\n",
    "d.n == 5\n",
    "d.add(2)\n",
    "\n",
    "class D(B, C):          class B(A):            class C(A):             class A:\n",
    "    def add(self, m):       def add(self, m):      def add(self, m):       def add(self, m):\n",
    "        super().add(m)  1.--->  super().add(m) 2.--->  super().add(m)  3.--->  self.n += m\n",
    "        self.n += 5   <------6. self.n += 3    <----5. self.n += 4     <----4. <--|\n",
    "        (14+5=19)               (11+3=14)              (7+4=11)                (5+2=7)\n",
    "现在你知道为什么 d.add(2) 后 d.n 的值是 19 了吧 ;)\n",
    "\n",
    "如果感觉上面的解释还不是很清楚的话，下面我们一起来根据 super 的功能实现一个我们自己的 Super 类，相信这样会更直观一点。\"\"\""
   ]
  },
  {
   "cell_type": "code",
   "execution_count": 6,
   "metadata": {},
   "outputs": [],
   "source": [
    "# 实现一个 Super 类\n",
    "\"\"\"在实现这个 Super 类之前，我们先来复习一下前面说的 super 的信息：\n",
    "\n",
    "super() 实际上做了啥呢？简单来说就是：提供一个 MRO 列表以及一个 MRO 中的类 C ， super() 将返回一个从 MRO 列表中 C 之后的类中查找方法的对象。\n",
    "根据这个信息我们可以写一个简陋版本的 Super 类:\"\"\"\n",
    "from functools import partial\n",
    "class Super:\n",
    "    def __init__(self, sub_cls, instance):\n",
    "        mro = instance.__class__.mro()\n",
    "        self._mro_tail = mro[mro.index(sub_cls)+1:]\n",
    "        self._sub_cls = sub_cls\n",
    "        self._instance = instance\n",
    "        \n",
    "    def __getattr__(self, name):\n",
    "        for cls in self._mro_tail:\n",
    "            if not hasattr(cls, name):\n",
    "                continue\n",
    "            print('Call {} {}'.format(cls, name))\n",
    "            attr = getattr(cls, name)\n",
    "            return partial(attr, self._instance)\n",
    "        raise AttributeError(name)"
   ]
  },
  {
   "cell_type": "code",
   "execution_count": 7,
   "metadata": {},
   "outputs": [
    {
     "name": "stdout",
     "output_type": "stream",
     "text": [
      "self is <__main__.D object at 0x0000027EA04B8B70> @D.add\n",
      "Call <class '__main__.B'> add\n",
      "self is <__main__.D object at 0x0000027EA04B8B70> @B.add\n",
      "Call <class '__main__.C'> add\n",
      "self is <__main__.D object at 0x0000027EA04B8B70> @C.add\n",
      "Call <class '__main__.A'> add\n",
      "self is <__main__.D object at 0x0000027EA04B8B70> @A.add\n",
      "19\n"
     ]
    }
   ],
   "source": [
    "\"\"\"然后我们把上面的那个例子中的 super 替换为这个简陋版本的 Super 类，看看效果:\"\"\"\n",
    "class A:\n",
    "    def __init__(self):\n",
    "        self.n = 2\n",
    "\n",
    "    def add(self, m):\n",
    "        print('self is {0} @A.add'.format(self))\n",
    "        self.n += m\n",
    "\n",
    "\n",
    "class B(A):\n",
    "    def __init__(self):\n",
    "        self.n = 3\n",
    "\n",
    "    def add(self, m):\n",
    "        print('self is {0} @B.add'.format(self))\n",
    "        Super(B, self).add(m)\n",
    "        self.n += 3\n",
    "\n",
    "\n",
    "class C(A):\n",
    "    def __init__(self):\n",
    "        self.n = 4\n",
    "\n",
    "    def add(self, m):\n",
    "        print('self is {0} @C.add'.format(self))\n",
    "        Super(C, self).add(m)\n",
    "        self.n += 4\n",
    "\n",
    "\n",
    "class D(B, C):\n",
    "    def __init__(self):\n",
    "        self.n = 5\n",
    "\n",
    "    def add(self, m):\n",
    "        print('self is {0} @D.add'.format(self))\n",
    "        Super(D, self).add(m)\n",
    "        self.n += 5\n",
    "\n",
    "\n",
    "d = D()\n",
    "d.add(2)\n",
    "print(d.n)"
   ]
  },
  {
   "cell_type": "code",
   "execution_count": null,
   "metadata": {},
   "outputs": [],
   "source": []
  }
 ],
 "metadata": {
  "kernelspec": {
   "display_name": "Python 3",
   "language": "python",
   "name": "python3"
  },
  "language_info": {
   "codemirror_mode": {
    "name": "ipython",
    "version": 3
   },
   "file_extension": ".py",
   "mimetype": "text/x-python",
   "name": "python",
   "nbconvert_exporter": "python",
   "pygments_lexer": "ipython3",
   "version": "3.6.4"
  }
 },
 "nbformat": 4,
 "nbformat_minor": 2
}
