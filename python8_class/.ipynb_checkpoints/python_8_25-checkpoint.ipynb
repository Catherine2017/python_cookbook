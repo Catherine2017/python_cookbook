{
 "cells": [
  {
   "cell_type": "code",
   "execution_count": 1,
   "metadata": {},
   "outputs": [
    {
     "data": {
      "text/plain": [
       "False"
      ]
     },
     "execution_count": 1,
     "metadata": {},
     "output_type": "execute_result"
    }
   ],
   "source": [
    "\"\"\"问题\n",
    "在创建一个类的对象时，如果之前使用同样参数创建过这个对象， 你想返回它的缓存引用。\n",
    "\n",
    "解决方案\n",
    "这种通常是因为你希望相同参数创建的对象时单例的。 在很多库中都有实际的例子，比如 logging 模块，使用相同的名称创建的 logger 实例永远只有一个。例如：\"\"\"\n",
    "import logging\n",
    "a = logging.getLogger('foo')\n",
    "b = logging.getLogger('bar')\n",
    "a is b"
   ]
  },
  {
   "cell_type": "code",
   "execution_count": 2,
   "metadata": {},
   "outputs": [
    {
     "data": {
      "text/plain": [
       "True"
      ]
     },
     "execution_count": 2,
     "metadata": {},
     "output_type": "execute_result"
    }
   ],
   "source": [
    "c = logging.getLogger('foo')\n",
    "a is c"
   ]
  },
  {
   "cell_type": "code",
   "execution_count": 3,
   "metadata": {},
   "outputs": [],
   "source": [
    "\"\"\"为了达到这样的效果，你需要使用一个和类本身分开的工厂函数，例如：\"\"\"\n",
    "class Spam:\n",
    "    def __init__(self, name):\n",
    "        self.name = name\n",
    "        \n",
    "import weakref\n",
    "_spam_cache = weakref.WeakValueDictionary()\n",
    "def get_spam(name):\n",
    "    if name not in _spam_cache:\n",
    "        s = Spam(name)\n",
    "        _spam_cache[name] = s\n",
    "    else:\n",
    "        s = _spam_cache[name]\n",
    "    return s"
   ]
  },
  {
   "cell_type": "code",
   "execution_count": 4,
   "metadata": {},
   "outputs": [
    {
     "data": {
      "text/plain": [
       "False"
      ]
     },
     "execution_count": 4,
     "metadata": {},
     "output_type": "execute_result"
    }
   ],
   "source": [
    "\"\"\"然后做一个测试，你会发现跟之前那个日志对象的创建行为是一致的：\"\"\"\n",
    "a = get_spam('foo')\n",
    "b = get_spam('bar')\n",
    "a is b"
   ]
  },
  {
   "cell_type": "code",
   "execution_count": 5,
   "metadata": {},
   "outputs": [
    {
     "data": {
      "text/plain": [
       "True"
      ]
     },
     "execution_count": 5,
     "metadata": {},
     "output_type": "execute_result"
    }
   ],
   "source": [
    "c = get_spam('foo')\n",
    "a is c"
   ]
  },
  {
   "cell_type": "code",
   "execution_count": 6,
   "metadata": {},
   "outputs": [],
   "source": [
    "\"\"\"讨论\n",
    "编写一个工厂函数来修改普通的实例创建行为通常是一个比较简单的方法。 但是我们还能否找到更优雅的解决方案呢？\n",
    "\n",
    "例如，你可能会考虑重新定义类的 __new__() 方法，就像下面这样：\"\"\"\n",
    "import weakref\n",
    "class Spam:\n",
    "    _spam_cache = weakref.WeakValueDictionary()\n",
    "    def __new__(cls, name):\n",
    "        if name in cls._spam_cache:\n",
    "            return cls._spam_cache[name]\n",
    "        else:\n",
    "            self = super().__new__(cls)\n",
    "            cls._spam_cache[name] = self\n",
    "            return self\n",
    "        \n",
    "    def __init__(self, name):\n",
    "        print('Initializing Spam')\n",
    "        self.name = name"
   ]
  },
  {
   "cell_type": "code",
   "execution_count": 7,
   "metadata": {},
   "outputs": [
    {
     "name": "stdout",
     "output_type": "stream",
     "text": [
      "Initializing Spam\n"
     ]
    }
   ],
   "source": [
    "s = Spam('Dave')"
   ]
  },
  {
   "cell_type": "code",
   "execution_count": 8,
   "metadata": {},
   "outputs": [
    {
     "name": "stdout",
     "output_type": "stream",
     "text": [
      "Initializing Spam\n"
     ]
    }
   ],
   "source": [
    "t = Spam('Dave')"
   ]
  },
  {
   "cell_type": "code",
   "execution_count": 9,
   "metadata": {},
   "outputs": [
    {
     "data": {
      "text/plain": [
       "True"
      ]
     },
     "execution_count": 9,
     "metadata": {},
     "output_type": "execute_result"
    }
   ],
   "source": [
    "s is t"
   ]
  },
  {
   "cell_type": "code",
   "execution_count": 15,
   "metadata": {},
   "outputs": [
    {
     "name": "stdout",
     "output_type": "stream",
     "text": [
      "Initializing Spam\n"
     ]
    },
    {
     "data": {
      "text/plain": [
       "['bar', 'foo']"
      ]
     },
     "execution_count": 15,
     "metadata": {},
     "output_type": "execute_result"
    }
   ],
   "source": [
    "\"\"\"初看起来好像可以达到预期效果，但是问题是 __init__() 每次都会被调用，不管这个实例是否被缓存了。例如：\"\"\"\n",
    "\"\"\"这个或许不是你想要的效果，因此这种方法并不可取。\n",
    "\n",
    "上面我们使用到了弱引用计数，对于垃圾回收来讲是很有帮助的，关于这个我们在8.23小节已经讲过了。 当我们保持实例缓存时，你可能只想在程序中使用到它们时才保存。 一个 WeakValueDictionary 实例只会保存那些在其它地方还在被使用的实例。 否则的话，只要实例不再被使用了，它就从字典中被移除了。观察下下面的测试结果：\"\"\"\n",
    "a = get_spam('foo')\n",
    "b = get_spam('bar')\n",
    "c = get_spam('foo')\n",
    "list(_spam_cache)"
   ]
  },
  {
   "cell_type": "code",
   "execution_count": 16,
   "metadata": {},
   "outputs": [],
   "source": [
    "del a"
   ]
  },
  {
   "cell_type": "code",
   "execution_count": 17,
   "metadata": {},
   "outputs": [],
   "source": [
    "del c"
   ]
  },
  {
   "cell_type": "code",
   "execution_count": 18,
   "metadata": {},
   "outputs": [
    {
     "data": {
      "text/plain": [
       "['bar']"
      ]
     },
     "execution_count": 18,
     "metadata": {},
     "output_type": "execute_result"
    }
   ],
   "source": [
    "list(_spam_cache)"
   ]
  },
  {
   "cell_type": "code",
   "execution_count": 19,
   "metadata": {},
   "outputs": [
    {
     "data": {
      "text/plain": [
       "['bar']"
      ]
     },
     "execution_count": 19,
     "metadata": {},
     "output_type": "execute_result"
    }
   ],
   "source": [
    "del b\n",
    "list(_spam_cache)"
   ]
  },
  {
   "cell_type": "code",
   "execution_count": 20,
   "metadata": {},
   "outputs": [
    {
     "data": {
      "text/plain": [
       "False"
      ]
     },
     "execution_count": 20,
     "metadata": {},
     "output_type": "execute_result"
    }
   ],
   "source": [
    "\"\"\"对于大部分程序而已，这里代码已经够用了。不过还是有一些更高级的实现值得了解下。\n",
    "\n",
    "首先是这里使用到了一个全局变量，并且工厂函数跟类放在一块。我们可以通过将缓存代码放到一个单独的缓存管理器中：\"\"\"\n",
    "import weakref\n",
    "class CachedSpamManager:\n",
    "    def __init__(self):\n",
    "        self._cache = weakref.WeakValueDictionary()\n",
    "        \n",
    "    def get_spam(self, name):\n",
    "        if name not in self._cache:\n",
    "            s = Spam(name)\n",
    "        else:\n",
    "            s = self._cache[name]\n",
    "        return s\n",
    "    \n",
    "    def clear(self):\n",
    "        self._cache.clear()\n",
    "        \n",
    "class Spam:\n",
    "    manager = CachedSpamManager\n",
    "    def __init__(self, name):\n",
    "        self.name = name\n",
    "        \n",
    "    def get_spam(name):\n",
    "        return Spam.manager.get_spam(name)\n",
    "    \n",
    "\"\"\"这样的话代码更清晰，并且也更灵活，我们可以增加更多的缓存管理机制，只需要替代manager即可。\n",
    "\n",
    "还有一点就是，我们暴露了类的实例化给用户，用户很容易去直接实例化这个类，而不是使用工厂方法，如：\"\"\"\n",
    "a = Spam('foo')\n",
    "b = Spam('foo')\n",
    "a is b"
   ]
  },
  {
   "cell_type": "code",
   "execution_count": null,
   "metadata": {},
   "outputs": [],
   "source": [
    "\"\"\"有几种方式可以防止用户这样做，第一个是将类的名字修改为以下划线(_)开头，提示用户别直接调用它。 第二种就是让这个类的 __init__() 方法抛出一个异常，让它不能被初始化：\n",
    "\n",
    "class Spam:\n",
    "    def __init__(self, *args, **kwargs):\n",
    "        raise RuntimeError(\"Can't instantiate directly\")\n",
    "\n",
    "    # Alternate constructor\n",
    "    @classmethod\n",
    "    def _new(cls, name):\n",
    "        self = cls.__new__(cls)\n",
    "        self.name = name\n",
    "然后修改缓存管理器代码，使用 Spam._new() 来创建实例，而不是直接调用 Spam() 构造函数：\n",
    "# ------------------------最后的修正方案------------------------\n",
    "class CachedSpamManager2:\n",
    "    def __init__(self):\n",
    "        self._cache = weakref.WeakValueDictionary()\n",
    "\n",
    "    def get_spam(self, name):\n",
    "        if name not in self._cache:\n",
    "            temp = Spam3._new(name)  # Modified creation\n",
    "            self._cache[name] = temp\n",
    "        else:\n",
    "            temp = self._cache[name]\n",
    "        return temp\n",
    "\n",
    "    def clear(self):\n",
    "            self._cache.clear()\n",
    "\n",
    "class Spam3:\n",
    "    def __init__(self, *args, **kwargs):\n",
    "        raise RuntimeError(\"Can't instantiate directly\")\n",
    "\n",
    "    # Alternate constructor\n",
    "    @classmethod\n",
    "    def _new(cls, name):\n",
    "        self = cls.__new__(cls)\n",
    "        self.name = name\n",
    "        return self\n",
    "最后这样的方案就已经足够好了。 缓存和其他构造模式还可以使用9.13小节中的元类实现的更优雅一点(使用了更高级的技术)。\"\"\"\n"
   ]
  }
 ],
 "metadata": {
  "kernelspec": {
   "display_name": "Python 3",
   "language": "python",
   "name": "python3"
  },
  "language_info": {
   "codemirror_mode": {
    "name": "ipython",
    "version": 3
   },
   "file_extension": ".py",
   "mimetype": "text/x-python",
   "name": "python",
   "nbconvert_exporter": "python",
   "pygments_lexer": "ipython3",
   "version": "3.6.4"
  }
 },
 "nbformat": 4,
 "nbformat_minor": 2
}
