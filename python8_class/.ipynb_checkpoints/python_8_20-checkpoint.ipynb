{
 "cells": [
  {
   "cell_type": "code",
   "execution_count": 2,
   "metadata": {},
   "outputs": [],
   "source": [
    "# 8.20 通过字符串调用对象方法\n",
    "\"\"\"问题\n",
    "你有一个字符串形式的方法名称，想通过它调用某个对象的对应方法。\n",
    "\n",
    "解决方案\n",
    "最简单的情况，可以使用 getattr() ：\"\"\"\n",
    "import math\n",
    "class Point:\n",
    "    def __init__(self, x, y):\n",
    "        self.x = x\n",
    "        self.y = y\n",
    "        \n",
    "    def __repr_(self):\n",
    "        return 'Point({!r:}, {!r:})'.format(self.x, self.y)\n",
    "    \n",
    "    def distance(self, x, y):\n",
    "        return math.hypot(self.x - x, self.y -y)\n",
    "    \n",
    "p = Point(2, 3)\n",
    "d = getattr(p, 'distance')(0, 0)"
   ]
  },
  {
   "cell_type": "code",
   "execution_count": 3,
   "metadata": {},
   "outputs": [
    {
     "data": {
      "text/plain": [
       "3.605551275463989"
      ]
     },
     "execution_count": 3,
     "metadata": {},
     "output_type": "execute_result"
    }
   ],
   "source": [
    "d"
   ]
  },
  {
   "cell_type": "code",
   "execution_count": 4,
   "metadata": {},
   "outputs": [
    {
     "data": {
      "text/plain": [
       "3.605551275463989"
      ]
     },
     "execution_count": 4,
     "metadata": {},
     "output_type": "execute_result"
    }
   ],
   "source": [
    "\"\"\"另外一种方法是使用 operator.methodcaller() ，例如：\"\"\"\n",
    "import operator\n",
    "operator.methodcaller('distance', 0, 0)(p)"
   ]
  },
  {
   "cell_type": "code",
   "execution_count": 5,
   "metadata": {},
   "outputs": [],
   "source": [
    "\"\"\"当你需要通过相同的参数多次调用某个方法时，使用 operator.methodcaller 就很方便了。 比如你需要排序一系列的点，就可以这样做：\"\"\"\n",
    "points = [\n",
    "    Point(1, 2),\n",
    "    Point(3, 0),\n",
    "    Point(10, -3),\n",
    "    Point(-5, -7),\n",
    "    Point(-1, 8),\n",
    "    Point(3, 2)\n",
    "]\n",
    "points.sort(key=operator.methodcaller('distance', 0, 0))"
   ]
  },
  {
   "cell_type": "code",
   "execution_count": 7,
   "metadata": {},
   "outputs": [
    {
     "name": "stdout",
     "output_type": "stream",
     "text": [
      "[<__main__.Point object at 0x000001F49C76CDA0>, <__main__.Point object at 0x000001F49C76CC18>, <__main__.Point object at 0x000001F49C76CF60>, <__main__.Point object at 0x000001F49C76CF98>, <__main__.Point object at 0x000001F49C76CE48>, <__main__.Point object at 0x000001F49C76CF28>]\n"
     ]
    }
   ],
   "source": [
    "print(points)"
   ]
  },
  {
   "cell_type": "code",
   "execution_count": null,
   "metadata": {},
   "outputs": [],
   "source": [
    "\"\"\"讨论\n",
    "调用一个方法实际上是两部独立操作，第一步是查找属性，第二步是函数调用。 因此，为了调用某个方法，你可以首先通过 getattr() 来查找到这个属性，然后再去以函数方式调用它即可。\n",
    "\n",
    "operator.methodcaller() 创建一个可调用对象，并同时提供所有必要参数， 然后调用的时候只需要将实例对象传递给它即可，比如：\n",
    "\n",
    ">>> p = Point(3, 4)\n",
    ">>> d = operator.methodcaller('distance', 0, 0)\n",
    ">>> d(p)\n",
    "5.0\n",
    ">>>\n",
    "通过方法名称字符串来调用方法通常出现在需要模拟 case 语句或实现访问者模式的时候。 参考下一小节获取更多高级例子。\"\"\""
   ]
  }
 ],
 "metadata": {
  "kernelspec": {
   "display_name": "Python 3",
   "language": "python",
   "name": "python3"
  },
  "language_info": {
   "codemirror_mode": {
    "name": "ipython",
    "version": 3
   },
   "file_extension": ".py",
   "mimetype": "text/x-python",
   "name": "python",
   "nbconvert_exporter": "python",
   "pygments_lexer": "ipython3",
   "version": "3.6.4"
  }
 },
 "nbformat": 4,
 "nbformat_minor": 2
}
