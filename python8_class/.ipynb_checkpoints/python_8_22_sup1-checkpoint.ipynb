{
 "cells": [
  {
   "cell_type": "code",
   "execution_count": 2,
   "metadata": {},
   "outputs": [
    {
     "name": "stdout",
     "output_type": "stream",
     "text": [
      "Visiting car\n",
      "Visiting engine\n",
      "Visiting body\n",
      "Visitingfront leftwheel\n",
      "Visitingfront rightwheel\n",
      "Visitingback leftwheel\n",
      "Visitingback rightwheel\n"
     ]
    }
   ],
   "source": [
    "\"\"\"python设计模式之访问者模式\n",
    "访问者模式\n",
    "我觉得Visitor模式是在补修改已有程序结构前提下，通过添加额外的访问者完成对代码功能的拓展 为什么这样用？当你的类层次较多，在某层结构中增加新的方法，要是在基类上面添加或者变更，可能破坏原来的设计， 有兼容问题，所以只在需要的类上面动态添加\n",
    "\n",
    "python的例子\n",
    "这里是个构建车的例子，每个部件都有一个accept的方法接受我上面说的所谓’访问者’，而这个访问者 以参数的方式传进来，但是其实他是一个含有一些功能的类的实例，它拥有很多个visit开头的方法对应不同的部件。 这样就不需要修改这些部件，而只是修改我们的访问者类的相关部分\"\"\"\n",
    "#  轮子,引擎, 车身这些定义好了都不需要变动\n",
    "class Wheel:\n",
    "    def __init__(self, name):\n",
    "        self.name = name\n",
    "    \n",
    "    def accept(self, visitor):\n",
    "        visitor.visitWheel(self)\n",
    "        \n",
    "class Engine:\n",
    "    def accept(self, visitor):\n",
    "        visitor.visitEngine(self)\n",
    "        \n",
    "class Body:\n",
    "    def accept(self, visitor):\n",
    "        visitor.visitBody(self)\n",
    "\n",
    "# 我们要组合成车\n",
    "class Car:\n",
    "    def __init__(self):\n",
    "        self.engine = Engine()\n",
    "        self.body = Body()\n",
    "        self.wheels = [Wheel('front left'), Wheel('front right'),\n",
    "                      Wheel('back left'), Wheel('back right')]\n",
    "        \n",
    "    def accept(self, visitor):\n",
    "        visitor.visitCar(self)\n",
    "        self.engine.accept(visitor)\n",
    "        self.body.accept(visitor)\n",
    "        for wheel in self.wheels:\n",
    "            wheel.accept(visitor)\n",
    "            \n",
    "# 这个才是我们的访问者，每次的修改都在这里面\n",
    "class PrintVisitor:\n",
    "    def visitWheel(self, wheel):\n",
    "        print('Visiting'+wheel.name+'wheel')\n",
    "        \n",
    "    def visitEngine(self, engine):\n",
    "        print('Visiting engine')\n",
    "        \n",
    "    def visitBody(self, body):\n",
    "        print('Visiting body')\n",
    "        \n",
    "    def visitCar(self, car):\n",
    "        print('Visiting car')\n",
    "        \n",
    "car = Car()\n",
    "visitor = PrintVisitor()\n",
    "car.accept(visitor)"
   ]
  },
  {
   "cell_type": "code",
   "execution_count": 1,
   "metadata": {},
   "outputs": [],
   "source": [
    "class Node:\n",
    "    pass\n",
    "\n",
    "class UnaryOperator(Node):\n",
    "    def __init__(self, operand):\n",
    "        self.operand = operand\n",
    "\n",
    "class BinaryOperator(Node):\n",
    "    def __init__(self, left, right):\n",
    "        self.left = left\n",
    "        self.right = right\n",
    "\n",
    "class Add(BinaryOperator):\n",
    "    pass\n",
    "\n",
    "class Sub(BinaryOperator):\n",
    "    pass\n",
    "\n",
    "class Mul(BinaryOperator):\n",
    "    pass\n",
    "\n",
    "class Div(BinaryOperator):\n",
    "    pass\n",
    "\n",
    "class Negate(UnaryOperator):\n",
    "    pass\n",
    "\n",
    "class Number(Node):\n",
    "    def __init__(self, value):\n",
    "        self.value = value"
   ]
  },
  {
   "cell_type": "code",
   "execution_count": 2,
   "metadata": {},
   "outputs": [],
   "source": [
    "# Representation of 1 + 2 * (3 - 4) / 5\n",
    "t1 = Sub(Number(3), Number(4))\n",
    "t2 = Mul(Number(2), t1)\n",
    "t3 = Div(t2, Number(5))\n",
    "t4 = Add(Number(1), t3)"
   ]
  },
  {
   "cell_type": "code",
   "execution_count": 3,
   "metadata": {},
   "outputs": [],
   "source": [
    "class Evaluator: \n",
    "    def visit(self, node):\n",
    "        methname = 'visit_' + type(node).__name__\n",
    "        meth = getattr(self, methname, None)\n",
    "        if meth is None:\n",
    "            meth = self.generic_visit\n",
    "        return meth(node)\n",
    "    \n",
    "    def generic_visit(self, node):\n",
    "        raise RuntimeError('No {} method'.format('visit_'+type(node).__name__))\n",
    "        \n",
    "    def visit_Number(self, node):\n",
    "        return node.value\n",
    "    \n",
    "    def visit_Add(self, node):\n",
    "        return self.visit(node.left) + self.visit(node.right)\n",
    "    \n",
    "    def visit_Sub(self, node):\n",
    "        return self.visit(node.left) - self.visit(node.right)\n",
    "\n",
    "    def visit_Mul(self, node):\n",
    "        return self.visit(node.left) * self.visit(node.right)\n",
    "\n",
    "    def visit_Div(self, node):\n",
    "        return self.visit(node.left) / self.visit(node.right)\n",
    "    \n",
    "    def visit_Negate(self, node):\n",
    "        return -node.operand"
   ]
  },
  {
   "cell_type": "code",
   "execution_count": 4,
   "metadata": {},
   "outputs": [
    {
     "data": {
      "text/plain": [
       "0.6"
      ]
     },
     "execution_count": 4,
     "metadata": {},
     "output_type": "execute_result"
    }
   ],
   "source": [
    "e = Evaluator()\n",
    "e.visit(t4)"
   ]
  },
  {
   "cell_type": "code",
   "execution_count": null,
   "metadata": {},
   "outputs": [],
   "source": []
  }
 ],
 "metadata": {
  "kernelspec": {
   "display_name": "Python 3",
   "language": "python",
   "name": "python3"
  },
  "language_info": {
   "codemirror_mode": {
    "name": "ipython",
    "version": 3
   },
   "file_extension": ".py",
   "mimetype": "text/x-python",
   "name": "python",
   "nbconvert_exporter": "python",
   "pygments_lexer": "ipython3",
   "version": "3.6.4"
  }
 },
 "nbformat": 4,
 "nbformat_minor": 2
}
