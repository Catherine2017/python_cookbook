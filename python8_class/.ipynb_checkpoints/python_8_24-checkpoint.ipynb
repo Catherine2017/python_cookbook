{
 "cells": [
  {
   "cell_type": "code",
   "execution_count": 4,
   "metadata": {},
   "outputs": [],
   "source": [
    "# 8.24 让类支持比较操作\n",
    "\"\"\"问题\n",
    "你想让某个类的实例支持标准的比较运算(比如>=,!=,<=,<等)，但是又不想去实现那一大丢的特殊方法。\n",
    "\n",
    "解决方案\n",
    "Python类对每个比较操作都需要实现一个特殊方法来支持。 例如为了支持>=操作符，你需要定义一个 __ge__() 方法。 尽管定义一个方法没什么问题，但如果要你实现所有可能的比较方法那就有点烦人了。\n",
    "\n",
    "装饰器 functools.total_ordering 就是用来简化这个处理的。 使用它来装饰一个来，你只需定义一个 __eq__() 方法， 外加其他方法(__lt__, __le__, __gt__, or __ge__)中的一个即可。 然后装饰器会自动为你填充其它比较方法。\n",
    "\n",
    "作为例子，我们构建一些房子，然后给它们增加一些房间，最后通过房子大小来比较它们：\"\"\"\n",
    "from functools import total_ordering\n",
    "class Room:\n",
    "    def __init__(self, name, length, width):\n",
    "        self.name = name\n",
    "        self.length = length\n",
    "        self.width = width\n",
    "        self.square_feet = self.length * self.width\n",
    "        \n",
    "@total_ordering\n",
    "class House:\n",
    "    def __init__(self, name, style):\n",
    "        self.name = name\n",
    "        self.style = style\n",
    "        self.rooms = list()\n",
    "        \n",
    "    @property\n",
    "    def living_space_footage(self):\n",
    "        return sum(r.square_feet for r in self.rooms)\n",
    "    \n",
    "    def add_room(self, room):\n",
    "        self.rooms.append(room)\n",
    "        \n",
    "    def __str__(self):\n",
    "        return '{}: {} square foot {}'.format(self.name, self.living_space_footage, self.style)\n",
    "    \n",
    "    def __eq__(self, other):\n",
    "        return self.living_space_footage == other.living_space_footage\n",
    "    \n",
    "    def __lt__(self, other):\n",
    "        return self.living_space_footage < other.living_space_footage"
   ]
  },
  {
   "cell_type": "code",
   "execution_count": 5,
   "metadata": {},
   "outputs": [
    {
     "name": "stdout",
     "output_type": "stream",
     "text": [
      "Is h1 bigger than h2? True\n",
      "Is h2 smaller than h3? True\n",
      "Is h2 greater than or equal to h1? False\n",
      "Which one is biggest? h3: 1101 square foot Split\n",
      "Which is smallest? h2: 846 square foot Ranch\n"
     ]
    }
   ],
   "source": [
    "\"\"\"这里我们只是给House类定义了两个方法：__eq__() 和 __lt__() ，它就能支持所有的比较操作：\"\"\"\n",
    "h1 = House('h1', 'Cape')\n",
    "h1.add_room(Room('Master Bedroom', 14, 21))\n",
    "h1.add_room(Room('Living Room', 18, 20))\n",
    "h1.add_room(Room('Kitchen', 12, 16))\n",
    "h1.add_room(Room('Office', 12, 12))\n",
    "h2 = House('h2', 'Ranch')\n",
    "h2.add_room(Room('Master Bedroom', 14, 21))\n",
    "h2.add_room(Room('Living Room', 18, 20))\n",
    "h2.add_room(Room('Kitchen', 12, 16))\n",
    "h3 = House('h3', 'Split')\n",
    "h3.add_room(Room('Master Bedroom', 14, 21))\n",
    "h3.add_room(Room('Living Room', 18, 20))\n",
    "h3.add_room(Room('Office', 12, 16))\n",
    "h3.add_room(Room('Kitchen', 15, 17))\n",
    "houses = [h1, h2, h3]\n",
    "print('Is h1 bigger than h2?', h1 > h2) # prints True\n",
    "print('Is h2 smaller than h3?', h2 < h3) # prints True\n",
    "print('Is h2 greater than or equal to h1?', h2 >= h1) # Prints False\n",
    "print('Which one is biggest?', max(houses)) # Prints 'h3: 1101-square-foot Split'\n",
    "print('Which is smallest?', min(houses)) # Prints 'h2: 846-square-foot Ranch'"
   ]
  },
  {
   "cell_type": "code",
   "execution_count": null,
   "metadata": {},
   "outputs": [],
   "source": [
    "\"\"\"讨论\n",
    "其实 total_ordering 装饰器也没那么神秘。 它就是定义了一个从每个比较支持方法到所有需要定义的其他方法的一个映射而已。 比如你定义了 __le__() 方法，那么它就被用来构建所有其他的需要定义的那些特殊方法。 实际上就是在类里面像下面这样定义了一些特殊方法：\n",
    "\n",
    "class House:\n",
    "    def __eq__(self, other):\n",
    "        pass\n",
    "    def __lt__(self, other):\n",
    "        pass\n",
    "    # Methods created by @total_ordering\n",
    "    __le__ = lambda self, other: self < other or self == other\n",
    "    __gt__ = lambda self, other: not (self < other or self == other)\n",
    "    __ge__ = lambda self, other: not (self < other)\n",
    "    __ne__ = lambda self, other: not self == other\n",
    "当然，你自己去写也很容易，但是使用 @total_ordering 可以简化代码，何乐而不为呢。\"\"\""
   ]
  }
 ],
 "metadata": {
  "kernelspec": {
   "display_name": "Python 3",
   "language": "python",
   "name": "python3"
  },
  "language_info": {
   "codemirror_mode": {
    "name": "ipython",
    "version": 3
   },
   "file_extension": ".py",
   "mimetype": "text/x-python",
   "name": "python",
   "nbconvert_exporter": "python",
   "pygments_lexer": "ipython3",
   "version": "3.6.4"
  }
 },
 "nbformat": 4,
 "nbformat_minor": 2
}
