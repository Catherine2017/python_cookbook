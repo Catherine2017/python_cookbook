{
 "cells": [
  {
   "cell_type": "code",
   "execution_count": 6,
   "metadata": {},
   "outputs": [
    {
     "ename": "TypeError",
     "evalue": "Can't instantiate abstract class IStream with abstract methods read, write",
     "output_type": "error",
     "traceback": [
      "\u001b[1;31m---------------------------------------------------------------------------\u001b[0m",
      "\u001b[1;31mTypeError\u001b[0m                                 Traceback (most recent call last)",
      "\u001b[1;32m<ipython-input-6-1736a1c1508d>\u001b[0m in \u001b[0;36m<module>\u001b[1;34m()\u001b[0m\n\u001b[0;32m     15\u001b[0m         \u001b[1;32mpass\u001b[0m\u001b[1;33m\u001b[0m\u001b[0m\n\u001b[0;32m     16\u001b[0m \u001b[1;34m\"\"\"抽象类的一个特点是它不能直接被实例化，比如你想像下面这样做是不行的：\"\"\"\u001b[0m\u001b[1;33m\u001b[0m\u001b[0m\n\u001b[1;32m---> 17\u001b[1;33m \u001b[0ma\u001b[0m \u001b[1;33m=\u001b[0m \u001b[0mIStream\u001b[0m\u001b[1;33m(\u001b[0m\u001b[1;33m)\u001b[0m\u001b[1;33m\u001b[0m\u001b[0m\n\u001b[0m",
      "\u001b[1;31mTypeError\u001b[0m: Can't instantiate abstract class IStream with abstract methods read, write"
     ]
    }
   ],
   "source": [
    "# 8.12 定义接口或者抽象基类\n",
    "\"\"\"问题\n",
    "你想定义一个接口或抽象类，并且通过执行类型检查来确保子类实现了某些特定的方法\n",
    "\n",
    "解决方案\n",
    "使用 abc 模块可以很轻松的定义抽象基类：\"\"\"\n",
    "from abc import ABCMeta, abstractclassmethod\n",
    "class IStream(metaclass=ABCMeta):\n",
    "    @abstractclassmethod\n",
    "    def read(self, maxbytes=-1):\n",
    "        pass\n",
    "    \n",
    "    @abstractclassmethod\n",
    "    def write(self, data):\n",
    "        pass\n",
    "\"\"\"抽象类的一个特点是它不能直接被实例化，比如你想像下面这样做是不行的：\"\"\"\n",
    "a = IStream()"
   ]
  },
  {
   "cell_type": "code",
   "execution_count": 7,
   "metadata": {},
   "outputs": [],
   "source": [
    "\"\"\"抽象类的目的就是让别的类继承它并实现特定的抽象方法：\"\"\"\n",
    "class SocketStream(IStream):\n",
    "    def read(self, maxbytes=-1):\n",
    "        pass\n",
    "    def write(slef, data):\n",
    "        pass\n",
    "\"\"\"抽象基类的一个主要用途是在代码中检查某些类是否为特定类型，实现了特定接口：\"\"\"\n",
    "def serialize(obj, stream):\n",
    "    if not isinstance(stream, IStream):\n",
    "        raise TypeError('Expected an IStream')\n",
    "    pass"
   ]
  },
  {
   "cell_type": "code",
   "execution_count": 8,
   "metadata": {},
   "outputs": [
    {
     "data": {
      "text/plain": [
       "True"
      ]
     },
     "execution_count": 8,
     "metadata": {},
     "output_type": "execute_result"
    }
   ],
   "source": [
    "\"\"\"除了继承这种方式外，还可以通过注册方式来让某个类实现抽象基类：\"\"\"\n",
    "import io\n",
    "IStream.register(io.IOBase)\n",
    "f = open('foo.txt')\n",
    "isinstance(f, IStream)"
   ]
  },
  {
   "cell_type": "code",
   "execution_count": 9,
   "metadata": {},
   "outputs": [],
   "source": [
    "\"\"\"@abstractmethod 还能注解静态方法、类方法和 properties 。 你只需保证这个注解紧靠在函数定义前即可：\"\"\"\n",
    "from abc import ABCMeta, abstractmethod\n",
    "class A(metaclass=ABCMeta):\n",
    "    @property\n",
    "    @abstractmethod\n",
    "    def name(self):\n",
    "        pass\n",
    "\n",
    "    @name.setter\n",
    "    @abstractmethod\n",
    "    def name(self, value):\n",
    "        pass\n",
    "\n",
    "    @classmethod\n",
    "    @abstractmethod\n",
    "    def method1(cls):\n",
    "        pass\n",
    "\n",
    "    @staticmethod\n",
    "    @abstractmethod\n",
    "    def method2():\n",
    "        pass"
   ]
  },
  {
   "cell_type": "code",
   "execution_count": null,
   "metadata": {},
   "outputs": [],
   "source": [
    "\"\"\"讨论\n",
    "标准库中有很多用到抽象基类的地方。collections 模块定义了很多跟容器和迭代器(序列、映射、集合等)有关的抽象基类。 numbers 库定义了跟数字对象(整数、浮点数、有理数等)有关的基类。io 库定义了很多跟I/O操作相关的基类。\n",
    "\n",
    "你可以使用预定义的抽象类来执行更通用的类型检查，例如：\n",
    "\n",
    "import collections\n",
    "\n",
    "# Check if x is a sequence\n",
    "if isinstance(x, collections.Sequence):\n",
    "...\n",
    "\n",
    "# Check if x is iterable\n",
    "if isinstance(x, collections.Iterable):\n",
    "...\n",
    "\n",
    "# Check if x has a size\n",
    "if isinstance(x, collections.Sized):\n",
    "...\n",
    "\n",
    "# Check if x is a mapping\n",
    "if isinstance(x, collections.Mapping):\n",
    "尽管ABCs可以让我们很方便的做类型检查，但是我们在代码中最好不要过多的使用它。 因为Python的本质是一门动态编程语言，其目的就是给你更多灵活性， 强制类型检查或让你代码变得更复杂，这样做无异于舍本求末。\"\"\""
   ]
  }
 ],
 "metadata": {
  "kernelspec": {
   "display_name": "Python 3",
   "language": "python",
   "name": "python3"
  },
  "language_info": {
   "codemirror_mode": {
    "name": "ipython",
    "version": 3
   },
   "file_extension": ".py",
   "mimetype": "text/x-python",
   "name": "python",
   "nbconvert_exporter": "python",
   "pygments_lexer": "ipython3",
   "version": "3.6.4"
  }
 },
 "nbformat": 4,
 "nbformat_minor": 2
}
