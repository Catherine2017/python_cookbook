{
 "cells": [
  {
   "cell_type": "code",
   "execution_count": 6,
   "metadata": {},
   "outputs": [],
   "source": [
    "# Python 二分查找与 bisect 模块\n",
    "\"\"\"Python 的列表（list）内部实现是一个数组，也就是一个线性表。在列表中查找元素可以使用 list.index() 方法，其时间复杂度为O(n)。对于大数据量，则可以用二分查找进行优化。二分查找要求对象必须有序，其基本原理如下：\n",
    "\n",
    "1.从数组的中间元素开始，如果中间元素正好是要查找的元素，则搜素过程结束；\n",
    "2.如果某一特定元素大于或者小于中间元素，则在数组大于或小于中间元素的那一半中查找，而且跟开始一样从中间元素开始比较。\n",
    "3.如果在某一步骤数组为空，则代表找不到。\n",
    "二分查找也成为折半查找，算法每一次比较都使搜索范围缩小一半， 其时间复杂度为 O(logn)。\n",
    "\n",
    "我们分别用递归和循环来实现二分查找：\"\"\"\n",
    "def binary_search_recursion(lst, value, low, high):\n",
    "    if high < low:\n",
    "        return None\n",
    "    mid = (low+high)//2\n",
    "    if lst[mid] > value:\n",
    "        return binary_search_recursion(lst, value, low, mid-1)\n",
    "    elif lst[mid] < value:\n",
    "        return binary_search_recursion(lst, value, mid+1, high)\n",
    "    else:\n",
    "        return mid\n",
    "    \n",
    "def binary_search_loop(lst, value):\n",
    "    low, high = 0, len(lst)-1\n",
    "    while low <= high:\n",
    "        mid = (low+high)//2\n",
    "        if lst[mid] < value:\n",
    "            low = mid + 1\n",
    "        elif lst[mid] > value:\n",
    "            high = mid - 1\n",
    "        else:\n",
    "            return mid\n",
    "    return None"
   ]
  },
  {
   "cell_type": "code",
   "execution_count": 13,
   "metadata": {},
   "outputs": [
    {
     "ename": "NameError",
     "evalue": "name 'test_recursion' is not defined",
     "output_type": "error",
     "traceback": [
      "\u001b[1;31m---------------------------------------------------------------------------\u001b[0m",
      "\u001b[1;31mNameError\u001b[0m                                 Traceback (most recent call last)",
      "\u001b[1;32m<ipython-input-13-d2e9c01da1ae>\u001b[0m in \u001b[0;36m<module>\u001b[1;34m()\u001b[0m\n\u001b[0;32m     10\u001b[0m \u001b[0mt1\u001b[0m \u001b[1;33m=\u001b[0m \u001b[0mtimeit\u001b[0m\u001b[1;33m.\u001b[0m\u001b[0mTimer\u001b[0m\u001b[1;33m(\u001b[0m\u001b[1;34m\"test_recursion()\"\u001b[0m\u001b[1;33m,\u001b[0m \u001b[0msetup\u001b[0m\u001b[1;33m=\u001b[0m\u001b[1;34m'test_recursion'\u001b[0m\u001b[1;33m)\u001b[0m\u001b[1;33m\u001b[0m\u001b[0m\n\u001b[0;32m     11\u001b[0m \u001b[0mt2\u001b[0m \u001b[1;33m=\u001b[0m \u001b[0mtimeit\u001b[0m\u001b[1;33m.\u001b[0m\u001b[0mTimer\u001b[0m\u001b[1;33m(\u001b[0m\u001b[1;34m\"test_loop()\"\u001b[0m\u001b[1;33m,\u001b[0m \u001b[0msetup\u001b[0m\u001b[1;33m=\u001b[0m\u001b[1;34m'test_loop'\u001b[0m\u001b[1;33m)\u001b[0m\u001b[1;33m\u001b[0m\u001b[0m\n\u001b[1;32m---> 12\u001b[1;33m \u001b[0mprint\u001b[0m\u001b[1;33m(\u001b[0m\u001b[1;34m\"Recursion:\"\u001b[0m\u001b[1;33m,\u001b[0m \u001b[0mt1\u001b[0m\u001b[1;33m.\u001b[0m\u001b[0mtimeit\u001b[0m\u001b[1;33m(\u001b[0m\u001b[1;33m)\u001b[0m\u001b[1;33m)\u001b[0m\u001b[1;33m\u001b[0m\u001b[0m\n\u001b[0m\u001b[0;32m     13\u001b[0m \u001b[0mprint\u001b[0m\u001b[1;33m(\u001b[0m\u001b[1;34m\"Loop:\"\u001b[0m\u001b[1;33m,\u001b[0m \u001b[0mt2\u001b[0m\u001b[1;33m.\u001b[0m\u001b[0mtimeit\u001b[0m\u001b[1;33m(\u001b[0m\u001b[1;33m)\u001b[0m\u001b[1;33m)\u001b[0m\u001b[1;33m\u001b[0m\u001b[0m\n",
      "\u001b[1;32mD:\\Program Files\\Anaconda3.5.1.0\\lib\\timeit.py\u001b[0m in \u001b[0;36mtimeit\u001b[1;34m(self, number)\u001b[0m\n\u001b[0;32m    176\u001b[0m         \u001b[0mgc\u001b[0m\u001b[1;33m.\u001b[0m\u001b[0mdisable\u001b[0m\u001b[1;33m(\u001b[0m\u001b[1;33m)\u001b[0m\u001b[1;33m\u001b[0m\u001b[0m\n\u001b[0;32m    177\u001b[0m         \u001b[1;32mtry\u001b[0m\u001b[1;33m:\u001b[0m\u001b[1;33m\u001b[0m\u001b[0m\n\u001b[1;32m--> 178\u001b[1;33m             \u001b[0mtiming\u001b[0m \u001b[1;33m=\u001b[0m \u001b[0mself\u001b[0m\u001b[1;33m.\u001b[0m\u001b[0minner\u001b[0m\u001b[1;33m(\u001b[0m\u001b[0mit\u001b[0m\u001b[1;33m,\u001b[0m \u001b[0mself\u001b[0m\u001b[1;33m.\u001b[0m\u001b[0mtimer\u001b[0m\u001b[1;33m)\u001b[0m\u001b[1;33m\u001b[0m\u001b[0m\n\u001b[0m\u001b[0;32m    179\u001b[0m         \u001b[1;32mfinally\u001b[0m\u001b[1;33m:\u001b[0m\u001b[1;33m\u001b[0m\u001b[0m\n\u001b[0;32m    180\u001b[0m             \u001b[1;32mif\u001b[0m \u001b[0mgcold\u001b[0m\u001b[1;33m:\u001b[0m\u001b[1;33m\u001b[0m\u001b[0m\n",
      "\u001b[1;32mD:\\Program Files\\Anaconda3.5.1.0\\lib\\timeit.py\u001b[0m in \u001b[0;36minner\u001b[1;34m(_it, _timer)\u001b[0m\n",
      "\u001b[1;31mNameError\u001b[0m: name 'test_recursion' is not defined"
     ]
    }
   ],
   "source": [
    "\"\"\"接着对这两种实现进行一下性能测试：\"\"\"\n",
    "import random\n",
    "lst = [random.randint(0, 10000) for _ in range(10000)]\n",
    "lst.sort()\n",
    "def test_recursion():\n",
    "    binary_search_recursion(lst, 999, 0, len(lst)-1)\n",
    "def test_loop():\n",
    "    binary_search_loop(lst, 999)\n",
    "import timeit\n",
    "t1 = timeit.Timer(\"test_recursion()\", setup='test_recursion')\n",
    "t2 = timeit.Timer(\"test_loop()\", setup='test_loop')\n",
    "print(\"Recursion:\", t1.timeit())\n",
    "print(\"Loop:\", t2.timeit())"
   ]
  },
  {
   "cell_type": "code",
   "execution_count": 17,
   "metadata": {},
   "outputs": [
    {
     "name": "stdout",
     "output_type": "stream",
     "text": [
      "New pos contents\n",
      "---  --- --------\n",
      " 18   0 [18]\n",
      " 73   1 [18, 73]\n",
      " 98   2 [18, 73, 98]\n",
      "  9   0 [9, 18, 73, 98]\n",
      " 33   2 [9, 18, 33, 73, 98]\n",
      " 16   1 [9, 16, 18, 33, 73, 98]\n",
      " 64   4 [9, 16, 18, 33, 64, 73, 98]\n",
      " 98   7 [9, 16, 18, 33, 64, 73, 98, 98]\n",
      " 58   4 [9, 16, 18, 33, 58, 64, 73, 98, 98]\n",
      " 61   5 [9, 16, 18, 33, 58, 61, 64, 73, 98, 98]\n",
      " 84   8 [9, 16, 18, 33, 58, 61, 64, 73, 84, 98, 98]\n",
      " 49   4 [9, 16, 18, 33, 49, 58, 61, 64, 73, 84, 98, 98]\n",
      " 27   3 [9, 16, 18, 27, 33, 49, 58, 61, 64, 73, 84, 98, 98]\n",
      " 13   1 [9, 13, 16, 18, 27, 33, 49, 58, 61, 64, 73, 84, 98, 98]\n"
     ]
    }
   ],
   "source": [
    "\"\"\"可以看出循环方式比递归效率高。\n",
    "\n",
    "Python 有一个 bisect 模块，用于维护有序列表。bisect 模块实现了一个算法用于插入元素到有序列表。在一些情况下，这比反复排序列表或构造一个大的列表再排序的效率更高。Bisect 是二分法的意思，这里使用二分法来排序，它会将一个元素插入到一个有序列表的合适位置，这使得不需要每次调用 sort 的方式维护有序列表。\n",
    "\n",
    "下面是一个简单的使用示例：\"\"\"\n",
    "import bisect\n",
    "import random\n",
    "random.seed(1)\n",
    "print('New pos contents')\n",
    "print('---  --- --------')\n",
    "l = []\n",
    "for i in range(1, 15):\n",
    "    r = random.randint(1, 100)\n",
    "    position = bisect.bisect(l, r)\n",
    "    bisect.insort(l, r)\n",
    "    print('%3d %3d %s' %(r, position, l))"
   ]
  },
  {
   "cell_type": "code",
   "execution_count": 24,
   "metadata": {},
   "outputs": [
    {
     "name": "stdout",
     "output_type": "stream",
     "text": [
      "33 0 E\n",
      "99 4 A\n",
      "77 2 C\n",
      "70 2 C\n",
      "89 3 B\n",
      "90 4 A\n",
      "100 4 A\n",
      "60 1 D\n"
     ]
    },
    {
     "data": {
      "text/plain": [
       "['E', 'A', 'C', 'C', 'B', 'A', 'A', 'D']"
      ]
     },
     "execution_count": 24,
     "metadata": {},
     "output_type": "execute_result"
    }
   ],
   "source": [
    "\"\"\"Bisect模块提供的函数有：\n",
    "\n",
    "bisect.bisect_left(a,x, lo=0, hi=len(a)) :\n",
    "查找在有序列表 a 中插入 x 的index。lo 和 hi 用于指定列表的区间，默认是使用整个列表。如果 x 已经存在，在其左边插入。返回值为 index。\n",
    "\n",
    "bisect.bisect_right(a,x, lo=0, hi=len(a))\n",
    "bisect.bisect(a, x,lo=0, hi=len(a)) ：\n",
    "这2个函数和 bisect_left 类似，但如果 x 已经存在，在其右边插入。\n",
    "\n",
    "bisect.insort_left(a,x, lo=0, hi=len(a)) ：\n",
    "在有序列表 a 中插入 x。和 a.insert(bisect.bisect_left(a,x, lo, hi), x) 的效果相同。\n",
    "\n",
    "bisect.insort_right(a,x, lo=0, hi=len(a))\n",
    "bisect.insort(a, x,lo=0, hi=len(a)) :\n",
    "和 insort_left 类似，但如果 x 已经存在，在其右边插入。\n",
    "\n",
    "Bisect 模块提供的函数可以分两类： bisect* 只用于查找 index， 不进行实际的插入；而 insort* 则用于实际插入。该模块比较典型的应用是计算分数等级：\"\"\"\n",
    "def grade(score, breakpoints=[60, 70, 80, 90], grades='EDCBA'):\n",
    "    i = bisect.bisect(breakpoints, score)\n",
    "    print(score, i, grades[i])\n",
    "    return grades[i]\n",
    "[grade(score) for score in [33, 99, 77, 70, 89, 90, 100, 60]]"
   ]
  },
  {
   "cell_type": "code",
   "execution_count": 25,
   "metadata": {},
   "outputs": [],
   "source": [
    "\"\"\"同样，我们可以用 bisect 模块实现二分查找：\"\"\"\n",
    "def binary_search_bisect(lst, x):\n",
    "    from bisect import bisect_left\n",
    "    i = bisect_left(lst, x)\n",
    "    if i != len(lst) and lst[i] == x:\n",
    "        return i\n",
    "    return None"
   ]
  },
  {
   "cell_type": "code",
   "execution_count": 26,
   "metadata": {},
   "outputs": [
    {
     "data": {
      "text/plain": [
       "1"
      ]
     },
     "execution_count": 26,
     "metadata": {},
     "output_type": "execute_result"
    }
   ],
   "source": [
    "\"\"\"我们再来测试一下它与递归和循环实现的二分查找的性能：\n",
    "\n",
    "Recursion: 4.00940990448\n",
    "Loop: 2.6583480835\n",
    "Bisect: 1.74922895432\n",
    "可以看到其比循环实现略快，比递归实现差不多要快一半。\n",
    "\n",
    "Python 著名的数据处理库 numpy 也有一个用于二分查找的函数 numpy.searchsorted， 用法与 bisect 基本相同，只不过如果要右边插入时，需要设置参数 side='right'，例如：\"\"\"\n",
    "import numpy as np\n",
    "from bisect import bisect_left, bisect_right\n",
    "data = [2, 4, 7, 9]\n",
    "bisect_left(data, 4)"
   ]
  },
  {
   "cell_type": "code",
   "execution_count": 27,
   "metadata": {},
   "outputs": [
    {
     "data": {
      "text/plain": [
       "2"
      ]
     },
     "execution_count": 27,
     "metadata": {},
     "output_type": "execute_result"
    }
   ],
   "source": [
    "bisect_right(data, 4)"
   ]
  },
  {
   "cell_type": "code",
   "execution_count": 28,
   "metadata": {},
   "outputs": [
    {
     "data": {
      "text/plain": [
       "1"
      ]
     },
     "execution_count": 28,
     "metadata": {},
     "output_type": "execute_result"
    }
   ],
   "source": [
    "np.searchsorted(data, 4)"
   ]
  },
  {
   "cell_type": "code",
   "execution_count": 29,
   "metadata": {},
   "outputs": [
    {
     "data": {
      "text/plain": [
       "2"
      ]
     },
     "execution_count": 29,
     "metadata": {},
     "output_type": "execute_result"
    }
   ],
   "source": [
    "np.searchsorted(data, 4, side='right')"
   ]
  },
  {
   "cell_type": "code",
   "execution_count": null,
   "metadata": {},
   "outputs": [],
   "source": [
    "\"\"\"那么，我们再来比较一下性能：\n",
    "\n",
    "In [20]: %timeit -n 100 bisect_left(data, 99999)\n",
    "100 loops, best of 3: 670 ns per loop\n",
    "\n",
    "In [21]: %timeit -n 100 np.searchsorted(data, 99999)\n",
    "100 loops, best of 3: 56.9 ms per loop\n",
    "\n",
    "In [22]: %timeit -n 100 bisect_left(data, 8888)\n",
    "100 loops, best of 3: 961 ns per loop\n",
    "\n",
    "In [23]: %timeit -n 100 np.searchsorted(data, 8888)\n",
    "100 loops, best of 3: 57.6 ms per loop\n",
    "\n",
    "In [24]: %timeit -n 100 bisect_left(data, 777777)\n",
    "100 loops, best of 3: 670 ns per loop\n",
    "\n",
    "In [25]: %timeit -n 100 np.searchsorted(data, 777777)\n",
    "100 loops, best of 3: 58.4 ms per loop\n",
    "可以发现 numpy.searchsorted 效率是很低的，跟 bisect 根本不在一个数量级上。因此 searchsorted 不适合用于搜索普通的数组，但是它用来搜索 numpy.ndarray 是相当快的：\n",
    "\n",
    "In [30]: data_ndarray = np.arange(0, 1000000)\n",
    "\n",
    "In [31]: %timeit np.searchsorted(data_ndarray, 99999)\n",
    "The slowest run took 16.04 times longer than the fastest. This could mean that an intermediate result is being cached.\n",
    "1000000 loops, best of 3: 996 ns per loop\n",
    "\n",
    "In [32]: %timeit np.searchsorted(data_ndarray, 8888)\n",
    "The slowest run took 18.22 times longer than the fastest. This could mean that an intermediate result is being cached.\n",
    "1000000 loops, best of 3: 994 ns per loop\n",
    "\n",
    "In [33]: %timeit np.searchsorted(data_ndarray, 777777)\n",
    "The slowest run took 31.32 times longer than the fastest. This could mean that an intermediate result is being cached.\n",
    "1000000 loops, best of 3: 990 ns per loop\n",
    "numpy.searchsorted 可以同时搜索多个值：\n",
    "\n",
    ">>> np.searchsorted([1,2,3,4,5], 3)\n",
    "2\n",
    ">>> np.searchsorted([1,2,3,4,5], 3, side='right')\n",
    "3\n",
    ">>> np.searchsorted([1,2,3,4,5], [-10, 10, 2, 3])\n",
    "array([0, 5, 1, 2])\"\"\""
   ]
  }
 ],
 "metadata": {
  "kernelspec": {
   "display_name": "Python 3",
   "language": "python",
   "name": "python3"
  },
  "language_info": {
   "codemirror_mode": {
    "name": "ipython",
    "version": 3
   },
   "file_extension": ".py",
   "mimetype": "text/x-python",
   "name": "python",
   "nbconvert_exporter": "python",
   "pygments_lexer": "ipython3",
   "version": "3.6.4"
  }
 },
 "nbformat": 4,
 "nbformat_minor": 2
}
