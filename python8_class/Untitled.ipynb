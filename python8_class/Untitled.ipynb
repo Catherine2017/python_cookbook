{
 "cells": [
  {
   "cell_type": "code",
   "execution_count": 1,
   "metadata": {},
   "outputs": [],
   "source": [
    "# 8.15 属性的代理访问\n",
    "\"\"\"问题\n",
    "你想将某个实例的属性访问代理到内部另一个实例中去，目的可能是作为继承的一个替代方法或者实现代理模式。\n",
    "\n",
    "解决方案\n",
    "简单来说，代理是一种编程模式，它将某个操作转移给另外一个对象来实现。 最简单的形式可能是像下面这样：\"\"\"\n",
    "class A:\n",
    "    def spam(self, x):\n",
    "        pass\n",
    "\n",
    "    def foo(self):\n",
    "        pass\n",
    "\n",
    "\n",
    "class B1:\n",
    "    \"\"\"简单的代理\"\"\"\n",
    "\n",
    "    def __init__(self):\n",
    "        self._a = A()\n",
    "\n",
    "    def spam(self, x):\n",
    "        # Delegate to the internal self._a instance\n",
    "        return self._a.spam(x)\n",
    "\n",
    "    def foo(self):\n",
    "        # Delegate to the internal self._a instance\n",
    "        return self._a.foo()\n",
    "\n",
    "    def bar(self):\n",
    "        pass"
   ]
  },
  {
   "cell_type": "code",
   "execution_count": 2,
   "metadata": {},
   "outputs": [],
   "source": [
    "\"\"\"如果仅仅就两个方法需要代理，那么像这样写就足够了。但是，如果有大量的方法需要代理， 那么使用 __getattr__() 方法或许或更好些：\"\"\"\n",
    "class B2:\n",
    "    \"\"\"使用__getattr__的代理，代理方法比较多时候\"\"\"\n",
    "\n",
    "    def __init__(self):\n",
    "        self._a = A()\n",
    "\n",
    "    def bar(self):\n",
    "        pass\n",
    "\n",
    "    # Expose all of the methods defined on class A\n",
    "    def __getattr__(self, name):\n",
    "        \"\"\"这个方法在访问的attribute不存在的时候被调用\n",
    "        the __getattr__() method is actually a fallback method\n",
    "        that only gets called when an attribute is not found\"\"\"\n",
    "        return getattr(self._a, name)"
   ]
  },
  {
   "cell_type": "code",
   "execution_count": 4,
   "metadata": {},
   "outputs": [],
   "source": [
    "\"\"\"__getattr__ 方法是在访问attribute不存在的时候被调用，使用演示：\"\"\"\n",
    "b= B2()\n",
    "b.bar()"
   ]
  },
  {
   "cell_type": "code",
   "execution_count": 5,
   "metadata": {},
   "outputs": [],
   "source": [
    "b.spam(42)"
   ]
  },
  {
   "cell_type": "code",
   "execution_count": 6,
   "metadata": {},
   "outputs": [],
   "source": [
    "\"\"\"另外一个代理例子是实现代理模式，例如：\"\"\"\n",
    "class Proxy:\n",
    "    def __init__(self, obj):\n",
    "        self._obj = obj\n",
    "        \n",
    "    def __getattr__(self, name):\n",
    "        print('getattr:', name)\n",
    "        return getattr(self._obj, name)\n",
    "    def __setattr__(self, name, value):\n",
    "        if name.startswith('_'):\n",
    "            super().__setattr__(name, value)\n",
    "        else:\n",
    "            print('setattr:', name, value)\n",
    "            setattr(self._obj, name, value)\n",
    "    def __delattr__(self, name):\n",
    "        if name.startswith('_'):\n",
    "            super().__delattr__(name)\n",
    "        else:\n",
    "            print('delattr:', name)\n",
    "            delattr(self._obj, name)"
   ]
  },
  {
   "cell_type": "code",
   "execution_count": 7,
   "metadata": {},
   "outputs": [],
   "source": [
    "\"\"\"使用这个代理类时，你只需要用它来包装下其他类即可：\"\"\"\n",
    "class Spam:\n",
    "    def __init__(self, x):\n",
    "        self.x = x\n",
    "    def bar(self, y):\n",
    "        print('Spam.bar', self.x, y)\n",
    "s = Spam(2)"
   ]
  },
  {
   "cell_type": "code",
   "execution_count": 8,
   "metadata": {},
   "outputs": [],
   "source": [
    "p = Proxy(s)"
   ]
  },
  {
   "cell_type": "code",
   "execution_count": 9,
   "metadata": {},
   "outputs": [
    {
     "name": "stdout",
     "output_type": "stream",
     "text": [
      "getattr: x\n",
      "2\n"
     ]
    }
   ],
   "source": [
    "print(p.x)"
   ]
  },
  {
   "cell_type": "code",
   "execution_count": 10,
   "metadata": {},
   "outputs": [
    {
     "name": "stdout",
     "output_type": "stream",
     "text": [
      "getattr: bar\n",
      "Spam.bar 2 3\n"
     ]
    }
   ],
   "source": [
    "p.bar(3)"
   ]
  },
  {
   "cell_type": "code",
   "execution_count": 11,
   "metadata": {},
   "outputs": [
    {
     "name": "stdout",
     "output_type": "stream",
     "text": [
      "setattr: x 37\n"
     ]
    }
   ],
   "source": [
    "p.x=37"
   ]
  },
  {
   "cell_type": "code",
   "execution_count": 12,
   "metadata": {},
   "outputs": [],
   "source": [
    "\"\"\"通过自定义属性访问方法，你可以用不同方式自定义代理类行为(比如加入日志功能、只读访问等)。\n",
    "\n",
    "讨论\n",
    "代理类有时候可以作为继承的替代方案。例如，一个简单的继承如下：\"\"\"\n",
    "class A:\n",
    "    def spam(self, x):\n",
    "        print('A.spam', x)\n",
    "    def foo(self):\n",
    "        print('A.foo')\n",
    "\n",
    "class B(A):\n",
    "    def spam(self, x):\n",
    "        print('B.spam')\n",
    "        super().spam(x)\n",
    "    def bar(self):\n",
    "        print('B.bar')"
   ]
  },
  {
   "cell_type": "code",
   "execution_count": 13,
   "metadata": {},
   "outputs": [],
   "source": [
    "\"\"\"使用代理的话，就是下面这样：\"\"\"\n",
    "class A:\n",
    "    def spam(self, x):\n",
    "        print('A.spam', x)\n",
    "    def foo(self):\n",
    "        print('A.foo')\n",
    "\n",
    "class B:\n",
    "    def __init__(self):\n",
    "        self._a = A()\n",
    "    def spam(self, x):\n",
    "        print('B.spam', x)\n",
    "        self._a.spam(x)\n",
    "    def bar(self):\n",
    "        print('B.bar')\n",
    "    def __getattr__(self, name):\n",
    "        return getattr(self._a, name)"
   ]
  },
  {
   "cell_type": "code",
   "execution_count": 14,
   "metadata": {},
   "outputs": [],
   "source": [
    "\"\"\"当实现代理模式时，还有些细节需要注意。 首先，__getattr__() 实际是一个后备方法，只有在属性不存在时才会调用。 因此，如果代理类实例本身有这个属性的话，那么不会触发这个方法的。 另外，__setattr__() 和 __delattr__() 需要额外的魔法来区分代理实例和被代理实例 _obj 的属性。 一个通常的约定是只代理那些不以下划线 _ 开头的属性(代理类只暴露被代理类的公共属性)。\n",
    "\n",
    "还有一点需要注意的是，__getattr__() 对于大部分以双下划线(__)开始和结尾的属性并不适用。 比如，考虑如下的类：\"\"\"\n",
    "class ListLike:\n",
    "    \"\"\"__getattr__对于双下划线开始和结尾的方法是不能用的，需要一个个去重定义\"\"\"\n",
    "\n",
    "    def __init__(self):\n",
    "        self._items = []\n",
    "\n",
    "    def __getattr__(self, name):\n",
    "        return getattr(self._items, name)"
   ]
  },
  {
   "cell_type": "code",
   "execution_count": 15,
   "metadata": {},
   "outputs": [],
   "source": [
    "\"\"\"如果是创建一个ListLike对象，会发现它支持普通的列表方法，如append()和insert()， 但是却不支持len()、元素查找等。例如：\"\"\"\n",
    "a = ListLike()\n",
    "a.append(2)"
   ]
  },
  {
   "cell_type": "code",
   "execution_count": 16,
   "metadata": {},
   "outputs": [],
   "source": [
    "a.insert(0, 1)"
   ]
  },
  {
   "cell_type": "code",
   "execution_count": 17,
   "metadata": {},
   "outputs": [],
   "source": [
    "a.sort()"
   ]
  },
  {
   "cell_type": "code",
   "execution_count": 18,
   "metadata": {},
   "outputs": [
    {
     "ename": "TypeError",
     "evalue": "object of type 'ListLike' has no len()",
     "output_type": "error",
     "traceback": [
      "\u001b[1;31m---------------------------------------------------------------------------\u001b[0m",
      "\u001b[1;31mTypeError\u001b[0m                                 Traceback (most recent call last)",
      "\u001b[1;32m<ipython-input-18-1a2e6ec5f1e3>\u001b[0m in \u001b[0;36m<module>\u001b[1;34m()\u001b[0m\n\u001b[1;32m----> 1\u001b[1;33m \u001b[0mlen\u001b[0m\u001b[1;33m(\u001b[0m\u001b[0ma\u001b[0m\u001b[1;33m)\u001b[0m\u001b[1;33m\u001b[0m\u001b[0m\n\u001b[0m",
      "\u001b[1;31mTypeError\u001b[0m: object of type 'ListLike' has no len()"
     ]
    }
   ],
   "source": [
    "len(a)"
   ]
  },
  {
   "cell_type": "code",
   "execution_count": 19,
   "metadata": {},
   "outputs": [
    {
     "ename": "TypeError",
     "evalue": "'ListLike' object does not support indexing",
     "output_type": "error",
     "traceback": [
      "\u001b[1;31m---------------------------------------------------------------------------\u001b[0m",
      "\u001b[1;31mTypeError\u001b[0m                                 Traceback (most recent call last)",
      "\u001b[1;32m<ipython-input-19-6a1284577a36>\u001b[0m in \u001b[0;36m<module>\u001b[1;34m()\u001b[0m\n\u001b[1;32m----> 1\u001b[1;33m \u001b[0ma\u001b[0m\u001b[1;33m[\u001b[0m\u001b[1;36m0\u001b[0m\u001b[1;33m]\u001b[0m\u001b[1;33m\u001b[0m\u001b[0m\n\u001b[0m",
      "\u001b[1;31mTypeError\u001b[0m: 'ListLike' object does not support indexing"
     ]
    }
   ],
   "source": [
    "a[0]"
   ]
  },
  {
   "cell_type": "code",
   "execution_count": 2,
   "metadata": {},
   "outputs": [],
   "source": [
    "\"\"\"为了让它支持这些方法，你必须手动的实现这些方法代理：\"\"\"\n",
    "class ListLike:\n",
    "    \"\"\"__getattr__对于双下划线开始和结尾的方法是不能用的，需要一个个去重定义\"\"\"\n",
    "\n",
    "    def __init__(self):\n",
    "        self._items = []\n",
    "\n",
    "    def __getattr__(self, name):\n",
    "        return getattr(self._items, name)\n",
    "\n",
    "    # Added special methods to support certain list operations\n",
    "    def __len__(self):\n",
    "        return len(self._items)\n",
    "\n",
    "    def __getitem__(self, index):\n",
    "        return self._items[index]\n",
    "\n",
    "    def __setitem__(self, index, value):\n",
    "        self._items[index] = value\n",
    "\n",
    "    def __delitem__(self, index):\n",
    "        del self._items[index]"
   ]
  }
 ],
 "metadata": {
  "kernelspec": {
   "display_name": "Python 3",
   "language": "python",
   "name": "python3"
  },
  "language_info": {
   "codemirror_mode": {
    "name": "ipython",
    "version": 3
   },
   "file_extension": ".py",
   "mimetype": "text/x-python",
   "name": "python",
   "nbconvert_exporter": "python",
   "pygments_lexer": "ipython3",
   "version": "3.6.4"
  }
 },
 "nbformat": 4,
 "nbformat_minor": 2
}
