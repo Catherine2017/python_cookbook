{
 "cells": [
  {
   "cell_type": "code",
   "execution_count": 1,
   "metadata": {},
   "outputs": [
    {
     "name": "stdout",
     "output_type": "stream",
     "text": [
      "1\n",
      "2\n",
      "3\n",
      "4\n",
      "5\n",
      "6\n",
      "7\n",
      "8\n"
     ]
    }
   ],
   "source": [
    "# 4.14 展开嵌套的序列\n",
    "\"\"\"问题\n",
    "你想将一个多层嵌套的序列展开成一个单层列表\n",
    "\n",
    "解决方案\n",
    "可以写一个包含 yield from 语句的递归生成器来轻松解决这个问题。比如：\"\"\"\n",
    "from collections import Iterable\n",
    "def flatten(items, ignore_types=(str, bytes)):\n",
    "    for x in items:\n",
    "        if isinstance(x, Iterable) and not isinstance(x, ignore_types):\n",
    "            yield from flatten(x)\n",
    "        else:\n",
    "            yield x\n",
    "\n",
    "items = [1, 2, [3, 4, [5, 6], 7], 8]\n",
    "for x in flatten(items):\n",
    "    print(x)"
   ]
  },
  {
   "cell_type": "code",
   "execution_count": 2,
   "metadata": {},
   "outputs": [
    {
     "name": "stdout",
     "output_type": "stream",
     "text": [
      "Dave\n",
      "Paula\n",
      "Thomas\n",
      "Lewis\n"
     ]
    }
   ],
   "source": [
    "\"\"\"在上面代码中， isinstance(x, Iterable) 检查某个元素是否是可迭代的。 如果是的话，\n",
    "yield from 就会返回所有子例程的值。最终返回结果就是一个没有嵌套的简单序列了。\n",
    "\n",
    "额外的参数 ignore_types 和检测语句 isinstance(x, ignore_types) 用来将字符串和字节排除在\n",
    "可迭代对象外，防止将它们再展开成单个的字符。 这样的话字符串数组就能最终返回我们所期望\n",
    "的结果了。比如：\"\"\"\n",
    "items = ['Dave', 'Paula', ['Thomas', 'Lewis']]\n",
    "for x in flatten(items):\n",
    "    print(x)"
   ]
  },
  {
   "cell_type": "code",
   "execution_count": null,
   "metadata": {},
   "outputs": [],
   "source": [
    "\"\"\"讨论\n",
    "语句 yield from 在你想在生成器中调用其他生成器作为子例程的时候非常有用。 如果你不使用它的\n",
    "话，那么就必须写额外的 for 循环了。比如：\n",
    "\n",
    "def flatten(items, ignore_types=(str, bytes)):\n",
    "    for x in items:\n",
    "        if isinstance(x, Iterable) and not isinstance(x, ignore_types):\n",
    "            for i in flatten(x):\n",
    "                yield i\n",
    "        else:\n",
    "            yield x\n",
    "尽管只改了一点点，但是 yield from 语句看上去感觉更好，并且也使得代码更简洁清爽。\n",
    "\n",
    "之前提到的对于字符串和字节的额外检查是为了防止将它们再展开成单个字符。 如果还有其他你不\n",
    "想展开的类型，修改参数 ignore_types 即可。\n",
    "\n",
    "最后要注意的一点是， yield from 在涉及到基于协程和生成器的并发编程中扮演着更加重要的角\n",
    "色。 可以参考12.12小节查看另外一个例子。\"\"\""
   ]
  }
 ],
 "metadata": {
  "kernelspec": {
   "display_name": "Python 3",
   "language": "python",
   "name": "python3"
  },
  "language_info": {
   "codemirror_mode": {
    "name": "ipython",
    "version": 3
   },
   "file_extension": ".py",
   "mimetype": "text/x-python",
   "name": "python",
   "nbconvert_exporter": "python",
   "pygments_lexer": "ipython3",
   "version": "3.6.4"
  }
 },
 "nbformat": 4,
 "nbformat_minor": 2
}
