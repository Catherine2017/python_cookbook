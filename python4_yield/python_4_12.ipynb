{
 "cells": [
  {
   "cell_type": "code",
   "execution_count": 1,
   "metadata": {},
   "outputs": [
    {
     "name": "stdout",
     "output_type": "stream",
     "text": [
      "1\n",
      "2\n",
      "3\n",
      "4\n",
      "x\n",
      "y\n",
      "z\n"
     ]
    }
   ],
   "source": [
    "# 4.12 不同集合上元素的迭代\n",
    "\"\"\"问题\n",
    "你想在多个对象执行相同的操作，但是这些对象在不同的容器中，你希望代码在不失可读性的情况下\n",
    "避免写重复的循环。\n",
    "\n",
    "解决方案\n",
    "itertools.chain() 方法可以用来简化这个任务。 它接受一个可迭代对象列表作为输入，并返回一个\n",
    "迭代器，有效的屏蔽掉在多个容器中迭代细节。 为了演示清楚，考虑下面这个例子：\"\"\"\n",
    "from itertools import chain\n",
    "a = [1, 2, 3, 4]\n",
    "b = ['x', 'y', 'z']\n",
    "for x in chain(a, b):\n",
    "    print(x)"
   ]
  },
  {
   "cell_type": "code",
   "execution_count": null,
   "metadata": {},
   "outputs": [],
   "source": [
    "\"\"\"使用 chain() 的一个常见场景是当你想对不同的集合中所有元素执行某些操作的时候。比如：\n",
    "\n",
    "# Various working sets of items\n",
    "active_items = set()\n",
    "inactive_items = set()\n",
    "\n",
    "# Iterate over all items\n",
    "for item in chain(active_items, inactive_items):\n",
    "    # Process item\n",
    "这种解决方案要比像下面这样使用两个单独的循环更加优雅，\n",
    "\n",
    "for item in active_items:\n",
    "    # Process item\n",
    "    ...\n",
    "\n",
    "for item in inactive_items:\n",
    "    # Process item\n",
    "    ...\"\"\"\n",
    "\n",
    "\"\"\"讨论\n",
    "itertools.chain() 接受一个或多个可迭代对象最为输入参数。 然后创建一个迭代器，依次连续的返\n",
    "回每个可迭代对象中的元素。 这种方式要比先将序列合并再迭代要高效的多。比如：\n",
    "\n",
    "# Inefficent\n",
    "for x in a + b:\n",
    "    ...\n",
    "\n",
    "# Better\n",
    "for x in chain(a, b):\n",
    "    ...\n",
    "第一种方案中， a + b 操作会创建一个全新的序列并要求a和b的类型一致。 chian() 不会有这一步\n",
    "，所以如果输入序列非常大的时候会很省内存。 并且当可迭代对象类型不一样的时候 chain() 同样\n",
    "可以很好的工作。\"\"\""
   ]
  }
 ],
 "metadata": {
  "kernelspec": {
   "display_name": "Python 3",
   "language": "python",
   "name": "python3"
  },
  "language_info": {
   "codemirror_mode": {
    "name": "ipython",
    "version": 3
   },
   "file_extension": ".py",
   "mimetype": "text/x-python",
   "name": "python",
   "nbconvert_exporter": "python",
   "pygments_lexer": "ipython3",
   "version": "3.6.4"
  }
 },
 "nbformat": 4,
 "nbformat_minor": 2
}
