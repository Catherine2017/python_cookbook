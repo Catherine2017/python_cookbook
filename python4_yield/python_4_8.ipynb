{
 "cells": [
  {
   "cell_type": "code",
   "execution_count": 1,
   "metadata": {},
   "outputs": [
    {
     "name": "stdout",
     "output_type": "stream",
     "text": [
      "content1\n",
      "content2\n",
      "content4\n",
      "content7"
     ]
    }
   ],
   "source": [
    "# 4.8 跳过可迭代对象的开始部分\n",
    "\"\"\"问题\n",
    "你想遍历一个可迭代对象，但是它开始的某些元素你并不感兴趣，想跳过它们。\n",
    "\n",
    "解决方案\n",
    "itertools 模块中有一些函数可以完成这个任务。 首先介绍的是 itertools.dropwhile() 函数。\n",
    "使用时，你给它传递一个函数对象和一个可迭代对象。 它会返回一个迭代器对象，丢弃原有序列中\n",
    "直到函数返回Flase之前的所有元素，然后返回后面所有元素。\n",
    "\n",
    "为了演示，假定你在读取一个开始部分是几行注释的源文件。比如：\n",
    ">>> with open('/etc/passwd') as f:\n",
    "... for line in f:\n",
    "...     print(line, end='')\n",
    "...\n",
    "##\n",
    "# User Database\n",
    "#\n",
    "# Note that this file is consulted directly only when the system is running\n",
    "# in single-user mode. At other times, this information is provided by\n",
    "# Open Directory.\n",
    "...\n",
    "##\n",
    "nobody:*:-2:-2:Unprivileged User:/var/empty:/usr/bin/false\n",
    "root:*:0:0:System Administrator:/var/root:/bin/sh\n",
    "...\n",
    ">>>\n",
    "如果你想跳过开始部分的注释行的话，可以这样做：\n",
    "\"\"\"\n",
    "from itertools import dropwhile\n",
    "with open('python_4_8_test.txt') as f:\n",
    "    for line in dropwhile(lambda line: line.startswith('#'), f):\n",
    "        print(line, end='')"
   ]
  },
  {
   "cell_type": "code",
   "execution_count": 2,
   "metadata": {},
   "outputs": [
    {
     "name": "stdout",
     "output_type": "stream",
     "text": [
      "1\n",
      "4\n",
      "10\n",
      "15\n"
     ]
    }
   ],
   "source": [
    "\"\"\"这个例子是基于根据某个测试函数跳过开始的元素。 如果你已经明确知道了要跳过的元素的个数\n",
    "的话，那么可以使用 itertools.islice() 来代替。比如：\"\"\"\n",
    "from itertools import islice\n",
    "items = ['a', 'b', 'c', 1, 4, 10, 15]\n",
    "for x in islice(items, 3, None):\n",
    "    print(x)"
   ]
  },
  {
   "cell_type": "code",
   "execution_count": null,
   "metadata": {},
   "outputs": [],
   "source": [
    "\"\"\"在这个例子中， islice() 函数最后那个 None 参数指定了你要获取从第3个到最后的所有元素， \n",
    "如果 None 和3的位置对调，意思就是仅仅获取前三个元素恰恰相反， (这个跟切片的相反操作 [3:]\n",
    "和 [:3] 原理是一样的)。\n",
    "\n",
    "讨论\n",
    "函数 dropwhile() 和 islice() 其实就是两个帮助函数，为的就是避免写出下面这种冗余代码：\n",
    "\n",
    "with open('/etc/passwd') as f:\n",
    "    # Skip over initial comments\n",
    "    while True:\n",
    "        line = next(f, '')\n",
    "        if not line.startswith('#'):\n",
    "            break\n",
    "\n",
    "    # Process remaining lines\n",
    "    while line:\n",
    "        # Replace with useful processing\n",
    "        print(line, end='')\n",
    "        line = next(f, None)\n",
    "跳过一个可迭代对象的开始部分跟通常的过滤是不同的。 比如，上述代码的第一个部分可能会这样重\n",
    "写：\n",
    "\n",
    "with open('/etc/passwd') as f:\n",
    "    lines = (line for line in f if not line.startswith('#'))\n",
    "    for line in lines:\n",
    "        print(line, end='')\n",
    "这样写确实可以跳过开始部分的注释行，但是同样也会跳过文件中其他所有的注释行。 换句话讲，\n",
    "我们的解决方案是仅仅跳过开始部分满足测试条件的行，在那以后，所有的元素不再进行测试和过滤\n",
    "了。\n",
    "\n",
    "最后需要着重强调的一点是，本节的方案适用于所有可迭代对象，包括那些事先不能确定大小的， 比\n",
    "如生成器，文件及其类似的对象。\"\"\""
   ]
  }
 ],
 "metadata": {
  "kernelspec": {
   "display_name": "Python 3",
   "language": "python",
   "name": "python3"
  },
  "language_info": {
   "codemirror_mode": {
    "name": "ipython",
    "version": 3
   },
   "file_extension": ".py",
   "mimetype": "text/x-python",
   "name": "python",
   "nbconvert_exporter": "python",
   "pygments_lexer": "ipython3",
   "version": "3.6.4"
  }
 },
 "nbformat": 4,
 "nbformat_minor": 2
}
