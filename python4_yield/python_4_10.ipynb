{
 "cells": [
  {
   "cell_type": "code",
   "execution_count": 1,
   "metadata": {},
   "outputs": [
    {
     "name": "stdout",
     "output_type": "stream",
     "text": [
      "0 a\n",
      "1 b\n",
      "2 c\n"
     ]
    }
   ],
   "source": [
    "# 4.10 序列上索引值迭代\n",
    "\"\"\"问题\n",
    "你想在迭代一个序列的同时跟踪正在被处理的元素索引。\n",
    "\n",
    "解决方案\n",
    "内置的 enumerate() 函数可以很好的解决这个问题：\"\"\"\n",
    "my_list = ['a', 'b', 'c']\n",
    "for idx, val in enumerate(my_list):\n",
    "    print(idx, val)"
   ]
  },
  {
   "cell_type": "code",
   "execution_count": 2,
   "metadata": {},
   "outputs": [
    {
     "name": "stdout",
     "output_type": "stream",
     "text": [
      "1 a\n",
      "2 b\n",
      "3 c\n"
     ]
    }
   ],
   "source": [
    "\"\"\"为了按传统行号输出(行号从1开始)，你可以传递一个开始参数：\"\"\"\n",
    "for idx, val in enumerate(my_list, 1):\n",
    "    print(idx, val)"
   ]
  },
  {
   "cell_type": "code",
   "execution_count": null,
   "metadata": {},
   "outputs": [],
   "source": [
    "\"\"\"这种情况在你遍历文件时想在错误消息中使用行号定位时候非常有用：\n",
    "\n",
    "def parse_data(filename):\n",
    "    with open(filename, 'rt') as f:\n",
    "        for lineno, line in enumerate(f, 1):\n",
    "            fields = line.split()\n",
    "            try:\n",
    "                count = int(fields[1])\n",
    "                ...\n",
    "            except ValueError as e:\n",
    "                print('Line {}: Parse error: {}'.format(lineno, e))\n",
    "enumerate() 对于跟踪某些值在列表中出现的位置是很有用的。 所以，如果你想将一个文件中出现的单词映射到它出现的行号上\n",
    "去，可以很容易的利用 enumerate() 来完成：\n",
    "word_summary = defaultdict(list)\n",
    "\n",
    "with open('myfile.txt', 'r') as f:\n",
    "    lines = f.readlines()\n",
    "\n",
    "for idx, line in enumerate(lines):\n",
    "    # Create a list of words in current line\n",
    "    words = [w.strip().lower() for w in line.split()]\n",
    "    for word in words:\n",
    "        word_summary[word].append(idx)\n",
    "如果你处理完文件后打印 word_summary ，会发现它是一个字典(准确来讲是一个 defaultdict )， 对于每个单词有一个 key ，\n",
    "每个 key 对应的值是一个由这个单词出现的行号组成的列表。 如果某个单词在一行中出现过两次，那么这个行号也会出现两次\n",
    "， 同时也可以作为文本的一个简单统计。\n",
    "讨论\n",
    "当你想额外定义一个计数变量的时候，使用 enumerate() 函数会更加简单。你可能会像下面这样写代码：\n",
    "\n",
    "lineno = 1\n",
    "for line in f:\n",
    "    # Process line\n",
    "    ...\n",
    "    lineno += 1\n",
    "但是如果使用 enumerate() 函数来代替就显得更加优雅了：\n",
    "\n",
    "for lineno, line in enumerate(f):\n",
    "    # Process line\n",
    "    ...\n",
    "enumerate() 函数返回的是一个 enumerate 对象实例， 它是一个迭代器，返回连续的包含一个计数和一个值的元组， 元组中的\n",
    "值通过在传入序列上调用 next() 返回。\n",
    "\n",
    "还有一点可能并不很重要，但是也值得注意， 有时候当你在一个已经解压后的元组序列上使用 enumerate() 函数时很容易调入陷\n",
    "阱。 你得像下面正确的方式这样写：\n",
    "\n",
    "data = [ (1, 2), (3, 4), (5, 6), (7, 8) ]\n",
    "\n",
    "# Correct!\n",
    "for n, (x, y) in enumerate(data):\n",
    "    ...\n",
    "# Error!\n",
    "for n, x, y in enumerate(data):\n",
    "    ...\n",
    "\"\"\"\n"
   ]
  }
 ],
 "metadata": {
  "kernelspec": {
   "display_name": "Python 3",
   "language": "python",
   "name": "python3"
  },
  "language_info": {
   "codemirror_mode": {
    "name": "ipython",
    "version": 3
   },
   "file_extension": ".py",
   "mimetype": "text/x-python",
   "name": "python",
   "nbconvert_exporter": "python",
   "pygments_lexer": "ipython3",
   "version": "3.6.4"
  }
 },
 "nbformat": 4,
 "nbformat_minor": 2
}
