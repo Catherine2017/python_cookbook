{
 "cells": [
  {
   "cell_type": "code",
   "execution_count": 2,
   "metadata": {},
   "outputs": [
    {
     "name": "stdout",
     "output_type": "stream",
     "text": [
      "('a', 'b', 'c')\n",
      "('a', 'c', 'b')\n",
      "('b', 'a', 'c')\n",
      "('b', 'c', 'a')\n",
      "('c', 'a', 'b')\n",
      "('c', 'b', 'a')\n"
     ]
    }
   ],
   "source": [
    "# 4.9 排列组合的迭代\n",
    "\"\"\"问题\n",
    "你想迭代遍历一个集合中元素的所有可能的排列或组合\n",
    "\n",
    "解决方案\n",
    "itertools模块提供了三个函数来解决这类问题。 其中一个是 itertools.permutations() ， \n",
    "它接受一个集合并产生一个元组序列，每个元组由集合中所有元素的一个可能排列组成。 \n",
    "也就是说通过打乱集合中元素排列顺序生成一个元组，比如：\"\"\"\n",
    "item = ['a', 'b', 'c']\n",
    "from itertools import permutations\n",
    "for p in permutations(item):\n",
    "    print(p)"
   ]
  },
  {
   "cell_type": "code",
   "execution_count": 3,
   "metadata": {},
   "outputs": [
    {
     "name": "stdout",
     "output_type": "stream",
     "text": [
      "('a', 'b')\n",
      "('a', 'c')\n",
      "('b', 'a')\n",
      "('b', 'c')\n",
      "('c', 'a')\n",
      "('c', 'b')\n"
     ]
    }
   ],
   "source": [
    "\"\"\"如果你想得到指定长度的所有排列，你可以传递一个可选的长度参数。就像这样：\"\"\"\n",
    "for p in permutations(item, 2):\n",
    "    print(p)"
   ]
  },
  {
   "cell_type": "code",
   "execution_count": 5,
   "metadata": {},
   "outputs": [
    {
     "name": "stdout",
     "output_type": "stream",
     "text": [
      "('a', 'b', 'c')\n"
     ]
    }
   ],
   "source": [
    "\"\"\"使用 itertools.combinations() 可得到输入集合中元素的所有的组合。比如：\"\"\"\n",
    "from itertools import combinations\n",
    "for c in combinations(item, 3):\n",
    "    print(c)"
   ]
  },
  {
   "cell_type": "code",
   "execution_count": 6,
   "metadata": {},
   "outputs": [
    {
     "name": "stdout",
     "output_type": "stream",
     "text": [
      "('a', 'b')\n",
      "('a', 'c')\n",
      "('b', 'c')\n"
     ]
    }
   ],
   "source": [
    "for c in combinations(item, 2):\n",
    "    print(c)"
   ]
  },
  {
   "cell_type": "code",
   "execution_count": 7,
   "metadata": {},
   "outputs": [
    {
     "name": "stdout",
     "output_type": "stream",
     "text": [
      "('a', 'a', 'a')\n",
      "('a', 'a', 'b')\n",
      "('a', 'a', 'c')\n",
      "('a', 'b', 'b')\n",
      "('a', 'b', 'c')\n",
      "('a', 'c', 'c')\n",
      "('b', 'b', 'b')\n",
      "('b', 'b', 'c')\n",
      "('b', 'c', 'c')\n",
      "('c', 'c', 'c')\n"
     ]
    }
   ],
   "source": [
    "\"\"\"对于 combinations() 来讲，元素的顺序已经不重要了。 也就是说，组合 ('a', 'b') 跟 ('b', 'a') 其实是一样的(最终只\n",
    "会输出其中一个)。\n",
    "\n",
    "在计算组合的时候，一旦元素被选取就会从候选中剔除掉(比如如果元素’a’已经被选取了，那么接下来就不会再考虑它了)。\n",
    "而函数 itertools.combinations_with_replacement() 允许同一个元素被选择多次，比如：\"\"\"\n",
    "from itertools import combinations_with_replacement\n",
    "for c in combinations_with_replacement(item, 3):\n",
    "    print(c)"
   ]
  },
  {
   "cell_type": "code",
   "execution_count": null,
   "metadata": {},
   "outputs": [],
   "source": [
    "\"\"\"讨论\n",
    "这一小节我们向你展示的仅仅是 itertools 模块的一部分功能。 尽管你也可以自己手动实现排列组合算法，但是这样做得要花\n",
    "点脑力。 当我们碰到看上去有些复杂的迭代问题时，最好可以先去看看itertools模块。 如果这个问题很普遍，那么很有可能会\n",
    "在里面找到解决方案！\"\"\""
   ]
  }
 ],
 "metadata": {
  "kernelspec": {
   "display_name": "Python 3",
   "language": "python",
   "name": "python3"
  },
  "language_info": {
   "codemirror_mode": {
    "name": "ipython",
    "version": 3
   },
   "file_extension": ".py",
   "mimetype": "text/x-python",
   "name": "python",
   "nbconvert_exporter": "python",
   "pygments_lexer": "ipython3",
   "version": "3.6.4"
  }
 },
 "nbformat": 4,
 "nbformat_minor": 2
}
