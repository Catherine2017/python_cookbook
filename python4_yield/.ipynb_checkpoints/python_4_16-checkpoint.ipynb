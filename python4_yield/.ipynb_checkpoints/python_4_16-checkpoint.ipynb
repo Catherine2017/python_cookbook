{
 "cells": [
  {
   "cell_type": "code",
   "execution_count": null,
   "metadata": {},
   "outputs": [],
   "source": [
    "# 4.16 迭代器代替while无限循环\n",
    "\"\"\"问题\n",
    "你在代码中使用 while 循环来迭代处理数据，因为它需要调用某个函数或者和一般迭代模式不同的\n",
    "测试条件。 能不能用迭代器来重写这个循环呢？\n",
    "\n",
    "解决方案\n",
    "一个常见的IO操作程序可能会想下面这样：\n",
    "CHUNKSIZE = 8192\n",
    "\n",
    "def reader(s):\n",
    "    while True:\n",
    "        data = s.recv(CHUNKSIZE)\n",
    "        if data == b'':\n",
    "            break\n",
    "        process_data(data)\n",
    "这种代码通常可以使用 iter() 来代替，如下所示：\n",
    "\n",
    "def reader2(s):\n",
    "    for chunk in iter(lambda: s.recv(CHUNKSIZE), b''):\n",
    "        pass\n",
    "        # process_data(data)\n",
    "如果你怀疑它到底能不能正常工作，可以试验下一个简单的例子。比如：\n",
    "\n",
    ">>> import sys\n",
    ">>> f = open('/etc/passwd')\n",
    ">>> for chunk in iter(lambda: f.read(10), ''):\n",
    "...     n = sys.stdout.write(chunk)\n",
    "...\n",
    "nobody:*:-2:-2:Unprivileged User:/var/empty:/usr/bin/false\n",
    "root:*:0:0:System Administrator:/var/root:/bin/sh\n",
    "daemon:*:1:1:System Services:/var/root:/usr/bin/false\n",
    "_uucp:*:4:4:Unix to Unix Copy Protocol:/var/spool/uucp:/usr/sbin/uucico\n",
    "...\n",
    ">>>\n",
    "讨论\n",
    "iter 函数一个鲜为人知的特性是它接受一个可选的 callable 对象和一个标记(结尾)值作为输入参\n",
    "数。 当以这种方式使用的时候，它会创建一个迭代器， 这个迭代器会不断调用 callable 对象直到\n",
    "返回值和标记值相等为止。\n",
    "\n",
    "这种特殊的方法对于一些特定的会被重复调用的函数很有效果，比如涉及到I/O调用的函数。 举例来\n",
    "讲，如果你想从套接字或文件中以数据块的方式读取数据，通常你得要不断重复的执行 read() 或 \n",
    "recv() ， 并在后面紧跟一个文件结尾测试来决定是否终止。这节中的方案使用一个简单的 iter()\n",
    "调用就可以将两者结合起来了。 其中 lambda 函数参数是为了创建一个无参的 callable 对象，并\n",
    "为 recv 或 read() 方法提供了 size 参数。\n",
    "\n",
    "\n",
    "\"\"\"\n"
   ]
  }
 ],
 "metadata": {
  "kernelspec": {
   "display_name": "Python 3",
   "language": "python",
   "name": "python3"
  },
  "language_info": {
   "codemirror_mode": {
    "name": "ipython",
    "version": 3
   },
   "file_extension": ".py",
   "mimetype": "text/x-python",
   "name": "python",
   "nbconvert_exporter": "python",
   "pygments_lexer": "ipython3",
   "version": "3.6.4"
  }
 },
 "nbformat": 4,
 "nbformat_minor": 2
}
