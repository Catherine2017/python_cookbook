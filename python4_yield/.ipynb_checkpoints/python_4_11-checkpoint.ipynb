{
 "cells": [
  {
   "cell_type": "code",
   "execution_count": 1,
   "metadata": {},
   "outputs": [
    {
     "name": "stdout",
     "output_type": "stream",
     "text": [
      "1 101\n",
      "5 78\n",
      "4 37\n",
      "2 15\n",
      "10 62\n",
      "7 99\n"
     ]
    }
   ],
   "source": [
    "# 4.11 同时迭代多个序列\n",
    "\"\"\"问题\n",
    "你想同时迭代多个序列，每次分别从一个序列中取一个元素。\n",
    "\n",
    "解决方案\n",
    "为了同时迭代多个序列，使用 zip() 函数。比如：\"\"\"\n",
    "xpts = [1, 5, 4, 2, 10, 7]\n",
    "ypts = [101, 78, 37, 15, 62, 99]\n",
    "for x, y in zip(xpts, ypts):\n",
    "    print(x, y)"
   ]
  },
  {
   "cell_type": "code",
   "execution_count": 2,
   "metadata": {},
   "outputs": [
    {
     "name": "stdout",
     "output_type": "stream",
     "text": [
      "(1, 'w')\n",
      "(2, 'x')\n",
      "(3, 'y')\n"
     ]
    }
   ],
   "source": [
    "\"\"\"zip(a, b) 会生成一个可返回元组 (x, y) 的迭代器，其中x来自a，y来自b。 一旦其中某个序列到底结尾，迭代宣告结束。\n",
    "因此迭代长度跟参数中最短序列长度一致。\"\"\"\n",
    "a = [1, 2, 3]\n",
    "b = ['w', 'x', 'y', 'z']\n",
    "for i in zip(a, b):\n",
    "    print(i)"
   ]
  },
  {
   "cell_type": "code",
   "execution_count": 3,
   "metadata": {},
   "outputs": [
    {
     "name": "stdout",
     "output_type": "stream",
     "text": [
      "(1, 'w')\n",
      "(2, 'x')\n",
      "(3, 'y')\n",
      "(None, 'z')\n"
     ]
    }
   ],
   "source": [
    "\"\"\"如果这个不是你想要的效果，那么还可以使用 itertools.zip_longest() 函数来代替。比如：\"\"\"\n",
    "from itertools import zip_longest\n",
    "for i in zip_longest(a, b):\n",
    "    print(i)"
   ]
  },
  {
   "cell_type": "code",
   "execution_count": 4,
   "metadata": {},
   "outputs": [
    {
     "data": {
      "text/plain": [
       "{'name': 'ACME', 'price': 490.1, 'shares': 100}"
      ]
     },
     "execution_count": 4,
     "metadata": {},
     "output_type": "execute_result"
    }
   ],
   "source": [
    "\"\"\"讨论\n",
    "当你想成对处理数据的时候 zip() 函数是很有用的。 比如，假设你头列表和一个值列表，就像下面\n",
    "这样：\"\"\"\n",
    "headers = ['name', 'shares', 'price']\n",
    "values = ['ACME', 100, 490.1]\n",
    "# 使用zip()可以让你将它们打包并生成一个字典：\n",
    "s = dict(zip(headers, values))\n",
    "s"
   ]
  },
  {
   "cell_type": "code",
   "execution_count": 5,
   "metadata": {},
   "outputs": [
    {
     "name": "stdout",
     "output_type": "stream",
     "text": [
      "name = ACME\n",
      "shares = 100\n",
      "price = 490.1\n"
     ]
    }
   ],
   "source": [
    "# 或者你也可以像下面这样产生输出：\n",
    "for name, val in zip(headers, values):\n",
    "    print(name, '=', val)"
   ]
  },
  {
   "cell_type": "code",
   "execution_count": 6,
   "metadata": {},
   "outputs": [
    {
     "name": "stdout",
     "output_type": "stream",
     "text": [
      "(1, 10, 'x')\n",
      "(2, 11, 'y')\n",
      "(3, 12, 'z')\n"
     ]
    }
   ],
   "source": [
    "\"\"\"虽然不常见，但是 zip() 可以接受多于两个的序列的参数。 这时候所生成的结果元组中元素个数\n",
    "跟输入序列个数一样。比如;\"\"\"\n",
    "a = [1, 2, 3]\n",
    "b = [10, 11, 12]\n",
    "c = ['x','y','z']\n",
    "for i in zip(a, b, c):\n",
    "    print(i)"
   ]
  },
  {
   "cell_type": "code",
   "execution_count": 7,
   "metadata": {},
   "outputs": [
    {
     "data": {
      "text/plain": [
       "<zip at 0x213a9a41148>"
      ]
     },
     "execution_count": 7,
     "metadata": {},
     "output_type": "execute_result"
    }
   ],
   "source": [
    "\"\"\"最后强调一点就是， zip() 会创建一个迭代器来作为结果返回。 如果你需要将结对的值存储在列\n",
    "表中，要使用 list() 函数。比如：\"\"\"\n",
    "zip(a, b)"
   ]
  },
  {
   "cell_type": "code",
   "execution_count": 8,
   "metadata": {},
   "outputs": [
    {
     "data": {
      "text/plain": [
       "[(1, 10), (2, 11), (3, 12)]"
      ]
     },
     "execution_count": 8,
     "metadata": {},
     "output_type": "execute_result"
    }
   ],
   "source": [
    "list(zip(a,b))"
   ]
  },
  {
   "cell_type": "code",
   "execution_count": null,
   "metadata": {},
   "outputs": [],
   "source": []
  }
 ],
 "metadata": {
  "kernelspec": {
   "display_name": "Python 3",
   "language": "python",
   "name": "python3"
  },
  "language_info": {
   "codemirror_mode": {
    "name": "ipython",
    "version": 3
   },
   "file_extension": ".py",
   "mimetype": "text/x-python",
   "name": "python",
   "nbconvert_exporter": "python",
   "pygments_lexer": "ipython3",
   "version": "3.6.4"
  }
 },
 "nbformat": 4,
 "nbformat_minor": 2
}
