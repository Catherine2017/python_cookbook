{
 "cells": [
  {
   "cell_type": "code",
   "execution_count": null,
   "metadata": {},
   "outputs": [],
   "source": [
    "# 4.6 带有外部状态的生成器函数\n",
    "\"\"\"问题\n",
    "你想定义一个生成器函数，但是它会调用某个你想暴露给用户使用的外部状态值。\n",
    "\n",
    "解决方案\n",
    "如果你想让你的生成器暴露外部状态给用户， 别忘了你可以简单的将它实现为一个类，\n",
    "然后把生成器函数放到 __iter__() 方法中过去。比如：\"\"\"\n",
    "from collections import deque\n",
    "class linehistory:\n",
    "    def __init__(self, lines, histlen=3):\n",
    "        self.lines = lines\n",
    "        self.history = deque(maxlen=histlen)\n",
    "        \n",
    "    def __iter__(self):\n",
    "        for lineno, line in enumerate(self.lines, 1):\n",
    "            self.history.append((lineno, line))\n",
    "            yield line\n",
    "            \n",
    "    def clear(self):\n",
    "        self.history.clear()\n",
    "        \n",
    "\"\"\"为了使用这个类，你可以将它当做是一个普通的生成器函数。 然而，由于可以创建一个实例对象\n",
    "，于是你可以访问内部属性值， 比如 history 属性或者是 clear() 方法。代码示例如下：\n",
    "with open('somefile.txt') as f:\n",
    "    lines = linehistory(f)\n",
    "    for line in lines:\n",
    "        if 'python' in line:\n",
    "            for lineno, hline in lines.history:\n",
    "                print('{}:{}'.format(lineno, hline), end='')\n",
    "\"\"\"\n",
    "\"\"\"讨论\n",
    "关于生成器，很容易掉进函数无所不能的陷阱。 如果生成器函数需要跟你的程序其他部分打交道的\n",
    "话(比如暴露属性值，允许通过方法调用来控制等等)， 可能会导致你的代码异常的复杂。 如果是这\n",
    "种情况的话，可以考虑使用上面介绍的定义类的方式。 在 __iter__() 方法中定义你的生成器不会\n",
    "改变你任何的算法逻辑。 由于它是类的一部分，所以允许你定义各种属性和方法来供用户使用。\n",
    "\n",
    "一个需要注意的小地方是，如果你在迭代操作时不使用for循环语句，那么你得先调用 iter() 函数。\n",
    "比如：\n",
    ">>> f = open('somefile.txt')\n",
    ">>> lines = linehistory(f)\n",
    ">>> next(lines)\n",
    "Traceback (most recent call last):\n",
    "    File \"<stdin>\", line 1, in <module>\n",
    "TypeError: 'linehistory' object is not an iterator\n",
    "\n",
    ">>> # Call iter() first, then start iterating\n",
    ">>> it = iter(lines)\n",
    ">>> next(it)\n",
    "'hello world\\n'\n",
    ">>> next(it)\n",
    "'this is a test\\n'\n",
    ">>>\n",
    "\"\"\"\n"
   ]
  }
 ],
 "metadata": {
  "kernelspec": {
   "display_name": "Python 3",
   "language": "python",
   "name": "python3"
  },
  "language_info": {
   "codemirror_mode": {
    "name": "ipython",
    "version": 3
   },
   "file_extension": ".py",
   "mimetype": "text/x-python",
   "name": "python",
   "nbconvert_exporter": "python",
   "pygments_lexer": "ipython3",
   "version": "3.6.4"
  }
 },
 "nbformat": 4,
 "nbformat_minor": 2
}
