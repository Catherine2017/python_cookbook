{
 "cells": [
  {
   "cell_type": "code",
   "execution_count": null,
   "metadata": {},
   "outputs": [],
   "source": [
    "# 5.7 读写压缩文件\n",
    "\"\"\"问题\n",
    "你想读写一个gzip或bz2格式的压缩文件。\n",
    "\n",
    "解决方案\n",
    "gzip 和 bz2 模块可以很容易的处理这些文件。 两个模块都为 open() 函数提供了另外的实现来解决\n",
    "这个问题。 比如，为了以文本形式读取压缩文件，可以这样做：\n",
    "\n",
    "# gzip compression\n",
    "import gzip\n",
    "with gzip.open('somefile.gz', 'rt') as f:\n",
    "    text = f.read()\n",
    "\n",
    "# bz2 compression\n",
    "import bz2\n",
    "with bz2.open('somefile.bz2', 'rt') as f:\n",
    "    text = f.read()\n",
    "类似的，为了写入压缩数据，可以这样做：\n",
    "\n",
    "# gzip compression\n",
    "import gzip\n",
    "with gzip.open('somefile.gz', 'wt') as f:\n",
    "    f.write(text)\n",
    "\n",
    "# bz2 compression\n",
    "import bz2\n",
    "with bz2.open('somefile.bz2', 'wt') as f:\n",
    "    f.write(text)\n",
    "如上，所有的I/O操作都使用文本模式并执行Unicode的编码/解码。 类似的，如果你想操作二进制数\n",
    "据，使用 rb 或者 wb 文件模式即可。\n",
    "\n",
    "讨论\n",
    "大部分情况下读写压缩数据都是很简单的。但是要注意的是选择一个正确的文件模式是非常重要的。 \n",
    "如果你不指定模式，那么默认的就是二进制模式，如果这时候程序想要接受的是文本数据，那么就会\n",
    "出错。 gzip.open() 和 bz2.open() 接受跟内置的 open() 函数一样的参数， 包括 encoding，\n",
    "errors，newline 等等。\n",
    "\n",
    "当写入压缩数据时，可以使用 compresslevel 这个可选的关键字参数来指定一个压缩级别。比如：\n",
    "\n",
    "with gzip.open('somefile.gz', 'wt', compresslevel=5) as f:\n",
    "    f.write(text)\n",
    "默认的等级是9，也是最高的压缩等级。等级越低性能越好，但是数据压缩程度也越低。\n",
    "\n",
    "最后一点， gzip.open() 和 bz2.open() 还有一个很少被知道的特性， 它们可以作用在一个已存在\n",
    "并以二进制模式打开的文件上。比如，下面代码是可行的：\n",
    "\n",
    "import gzip\n",
    "f = open('somefile.gz', 'rb')\n",
    "with gzip.open(f, 'rt') as g:\n",
    "    text = g.read()\n",
    "这样就允许 gzip 和 bz2 模块可以工作在许多类文件对象上，比如套接字，管道和内存中文件等。\"\"\""
   ]
  }
 ],
 "metadata": {
  "kernelspec": {
   "display_name": "Python 3",
   "language": "python",
   "name": "python3"
  },
  "language_info": {
   "codemirror_mode": {
    "name": "ipython",
    "version": 3
   },
   "file_extension": ".py",
   "mimetype": "text/x-python",
   "name": "python",
   "nbconvert_exporter": "python",
   "pygments_lexer": "ipython3",
   "version": "3.6.4"
  }
 },
 "nbformat": 4,
 "nbformat_minor": 2
}
