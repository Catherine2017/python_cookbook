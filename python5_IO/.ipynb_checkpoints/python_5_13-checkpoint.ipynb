{
 "cells": [
  {
   "cell_type": "code",
   "execution_count": null,
   "metadata": {},
   "outputs": [],
   "source": [
    "# 5.13 获取文件夹中的文件列表\n",
    "\"\"\"5.13 获取文件夹中的文件列表\n",
    "问题\n",
    "你想获取文件系统中某个目录下的所有文件列表。\n",
    "\n",
    "解决方案\n",
    "使用 os.listdir() 函数来获取某个目录中的文件列表：\n",
    "\n",
    "import os\n",
    "names = os.listdir('somedir')\n",
    "结果会返回目录中所有文件列表，包括所有文件，子目录，符号链接等等。 如果你需要通过某种方式过滤数据，可以考虑结合 os.path 库中的一些函数来使用列表推导。比如：\n",
    "\n",
    "import os.path\n",
    "\n",
    "# Get all regular files\n",
    "names = [name for name in os.listdir('somedir')\n",
    "        if os.path.isfile(os.path.join('somedir', name))]\n",
    "\n",
    "# Get all dirs\n",
    "dirnames = [name for name in os.listdir('somedir')\n",
    "        if os.path.isdir(os.path.join('somedir', name))]\n",
    "字符串的 startswith() 和 endswith() 方法对于过滤一个目录的内容也是很有用的。比如：\n",
    "\n",
    "pyfiles = [name for name in os.listdir('somedir')\n",
    "            if name.endswith('.py')]\n",
    "对于文件名的匹配，你可能会考虑使用 glob 或 fnmatch 模块。比如：\n",
    "\n",
    "import glob\n",
    "pyfiles = glob.glob('somedir/*.py')\n",
    "\n",
    "from fnmatch import fnmatch\n",
    "pyfiles = [name for name in os.listdir('somedir')\n",
    "            if fnmatch(name, '*.py')]\n",
    "讨论\n",
    "获取目录中的列表是很容易的，但是其返回结果只是目录中实体名列表而已。 如果你还想获取其他的元信息，比如文件大小，修改时间等等， 你或许还需要使用到 os.path 模块中的函数或着 os.stat() 函数来收集数据。比如：\n",
    "\n",
    "# Example of getting a directory listing\n",
    "\n",
    "import os\n",
    "import os.path\n",
    "import glob\n",
    "\n",
    "pyfiles = glob.glob('*.py')\n",
    "\n",
    "# Get file sizes and modification dates\n",
    "name_sz_date = [(name, os.path.getsize(name), os.path.getmtime(name))\n",
    "                for name in pyfiles]\n",
    "for name, size, mtime in name_sz_date:\n",
    "    print(name, size, mtime)\n",
    "\n",
    "# Alternative: Get file metadata\n",
    "file_metadata = [(name, os.stat(name)) for name in pyfiles]\n",
    "for name, meta in file_metadata:\n",
    "    print(name, meta.st_size, meta.st_mtime)\n",
    "最后还有一点要注意的就是，有时候在处理文件名编码问题时候可能会出现一些问题。 通常来讲，函数 os.listdir() 返回的实体列表会根据系统默认的文件名编码来解码。 但是有时候也会碰到一些不能正常解码的文件名。 关于文件名的处理问题，在5.14和5.15小节有更详细的讲解。\"\"\""
   ]
  }
 ],
 "metadata": {
  "kernelspec": {
   "display_name": "Python 3",
   "language": "python",
   "name": "python3"
  },
  "language_info": {
   "codemirror_mode": {
    "name": "ipython",
    "version": 3
   },
   "file_extension": ".py",
   "mimetype": "text/x-python",
   "name": "python",
   "nbconvert_exporter": "python",
   "pygments_lexer": "ipython3",
   "version": "3.6.4"
  }
 },
 "nbformat": 4,
 "nbformat_minor": 2
}
