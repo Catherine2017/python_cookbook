{
 "cells": [
  {
   "cell_type": "code",
   "execution_count": null,
   "metadata": {},
   "outputs": [],
   "source": [
    "# 5.8 固定大小记录的文件迭代\n",
    "\"\"\"问题\n",
    "你想在一个固定长度记录或者数据块的集合上迭代，而不是在一个文件中一行一行的迭代。\n",
    "\n",
    "解决方案\n",
    "通过下面这个小技巧使用 iter 和 functools.partial() 函数：\n",
    "问题\n",
    "你想在一个固定长度记录或者数据块的集合上迭代，而不是在一个文件中一行一行的迭代。\n",
    "\n",
    "解决方案\n",
    "通过下面这个小技巧使用 iter 和 functools.partial() 函数：\n",
    "\n",
    "from functools import partial\n",
    "\n",
    "RECORD_SIZE = 32\n",
    "\n",
    "with open('somefile.data', 'rb') as f:\n",
    "    records = iter(partial(f.read, RECORD_SIZE), b'')\n",
    "    for r in records:\n",
    "        ...\n",
    "这个例子中的 records 对象是一个可迭代对象，它会不断的产生固定大小的数据块，直到文件末尾。 要注意的是如果总记录大小不是块大小的整数倍的话，最后一个返回元素的字节数会比期望值少。\n",
    "\n",
    "讨论\n",
    "iter() 函数有一个鲜为人知的特性就是，如果你给它传递一个可调用对象和一个标记值，它会创建一\n",
    "个迭代器。 这个迭代器会一直调用传入的可调用对象直到它返回标记值为止，这时候迭代终止。\n",
    "\n",
    "在例子中， functools.partial 用来创建一个每次被调用时从文件中读取固定数目字节的可调用对象\n",
    "。 标记值 b'' 就是当到达文件结尾时的返回值。\n",
    "\n",
    "最后再提一点，上面的例子中的文件时以二进制模式打开的。 如果是读取固定大小的记录，这通常是\n",
    "最普遍的情况。 而对于文本文件，一行一行的读取(默认的迭代行为)更普遍点。\"\"\""
   ]
  }
 ],
 "metadata": {
  "kernelspec": {
   "display_name": "Python 3",
   "language": "python",
   "name": "python3"
  },
  "language_info": {
   "codemirror_mode": {
    "name": "ipython",
    "version": 3
   },
   "file_extension": ".py",
   "mimetype": "text/x-python",
   "name": "python",
   "nbconvert_exporter": "python",
   "pygments_lexer": "ipython3",
   "version": "3.6.4"
  }
 },
 "nbformat": 4,
 "nbformat_minor": 2
}
