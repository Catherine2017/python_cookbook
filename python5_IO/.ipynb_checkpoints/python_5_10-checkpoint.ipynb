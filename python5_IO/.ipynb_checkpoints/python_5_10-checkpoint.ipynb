{
 "cells": [
  {
   "cell_type": "code",
   "execution_count": 1,
   "metadata": {},
   "outputs": [],
   "source": [
    "# 5.10 内存映射的二进制文件\n",
    "\"\"\"问题\n",
    "你想内存映射一个二进制文件到一个可变字节数组中，目的可能是为了随机访问它的内容或者是原地\n",
    "做些修改。\n",
    "\n",
    "解决方案\n",
    "使用 mmap 模块来内存映射文件。 下面是一个工具函数，向你演示了如何打开一个文件并以一种便\n",
    "捷方式内存映射这个文件。\"\"\"\n",
    "import os\n",
    "import mmap\n",
    "\n",
    "def memory_map(filename, access=mmap.ACCESS_WRITE):\n",
    "    size = os.path.getsize(filename)\n",
    "    fd = os.open(filename, os.O_RDWR)\n",
    "    return mmap.mmap(fd, size, access=access)\n",
    "\"\"\"为了使用这个函数，你需要有一个已创建并且内容不为空的文件。 下面是一个例子，教你怎样初始创建一个文件并将其内容扩充到指定大小：\"\"\"\n",
    "size = 1000000\n",
    "with open('data', 'wb') as f:\n",
    "    f.seek(size-1)\n",
    "    f.write(b'\\x00')"
   ]
  },
  {
   "cell_type": "code",
   "execution_count": 2,
   "metadata": {},
   "outputs": [
    {
     "data": {
      "text/plain": [
       "1000000"
      ]
     },
     "execution_count": 2,
     "metadata": {},
     "output_type": "execute_result"
    }
   ],
   "source": [
    "\"\"\"下面是一个利用 memory_map() 函数类内存映射文件内容的例子：\"\"\"\n",
    "m = memory_map('data')\n",
    "len(m)"
   ]
  },
  {
   "cell_type": "code",
   "execution_count": 3,
   "metadata": {},
   "outputs": [
    {
     "data": {
      "text/plain": [
       "b'\\x00\\x00\\x00\\x00\\x00\\x00\\x00\\x00\\x00\\x00'"
      ]
     },
     "execution_count": 3,
     "metadata": {},
     "output_type": "execute_result"
    }
   ],
   "source": [
    "m[0:10]"
   ]
  },
  {
   "cell_type": "code",
   "execution_count": 4,
   "metadata": {},
   "outputs": [
    {
     "data": {
      "text/plain": [
       "0"
      ]
     },
     "execution_count": 4,
     "metadata": {},
     "output_type": "execute_result"
    }
   ],
   "source": [
    "m[0]"
   ]
  },
  {
   "cell_type": "code",
   "execution_count": 6,
   "metadata": {},
   "outputs": [],
   "source": [
    "m[0:11] = b'hello world'"
   ]
  },
  {
   "cell_type": "code",
   "execution_count": 7,
   "metadata": {},
   "outputs": [],
   "source": [
    "m.close()"
   ]
  },
  {
   "cell_type": "code",
   "execution_count": 8,
   "metadata": {},
   "outputs": [
    {
     "name": "stdout",
     "output_type": "stream",
     "text": [
      "b'hello world'\n"
     ]
    }
   ],
   "source": [
    "with open('data', 'rb') as f:\n",
    "    print(f.read(11))"
   ]
  },
  {
   "cell_type": "code",
   "execution_count": 10,
   "metadata": {},
   "outputs": [
    {
     "name": "stdout",
     "output_type": "stream",
     "text": [
      "1000000\n",
      "b'hello world'\n"
     ]
    }
   ],
   "source": [
    "\"\"\"mmap() 返回的 mmap 对象同样也可以作为一个上下文管理器来使用， 这时候底层的文件会被自动\n",
    "关闭。比如：\"\"\"\n",
    "with memory_map('data') as m:\n",
    "    print(len(m))\n",
    "    print(m[0:11])"
   ]
  },
  {
   "cell_type": "code",
   "execution_count": 11,
   "metadata": {},
   "outputs": [
    {
     "data": {
      "text/plain": [
       "True"
      ]
     },
     "execution_count": 11,
     "metadata": {},
     "output_type": "execute_result"
    }
   ],
   "source": [
    "m.closed"
   ]
  },
  {
   "cell_type": "code",
   "execution_count": null,
   "metadata": {},
   "outputs": [],
   "source": [
    "\"\"\"默认情况下， memeory_map() 函数打开的文件同时支持读和写操作。 任何的修改内容都会复制回\n",
    "原来的文件中。 如果需要只读的访问模式，可以给参数 access 赋值为 mmap.ACCESS_READ 。比\n",
    "如：\n",
    "m = memory_map(filename, mmap.ACCESS_READ)\n",
    "如果你想在本地修改数据，但是又不想将修改写回到原始文件中，可以使用 mmap.ACCESS_COPY ：\n",
    "\n",
    "m = memory_map(filename, mmap.ACCESS_COPY)\n",
    "讨论\n",
    "为了随机访问文件的内容，使用 mmap 将文件映射到内存中是一个高效和优雅的方法。 例如，你无需\n",
    "打开一个文件并执行大量的 seek() ， read() ， write() 调用， 只需要简单的映射文件并使用切\n",
    "片操作访问数据即可。\n",
    "\n",
    "一般来讲， mmap() 所暴露的内存看上去就是一个二进制数组对象。 但是，你可以使用一个内存视图\n",
    "来解析其中的数据。比如：\n",
    ">>> m = memory_map('data')\n",
    ">>> # Memoryview of unsigned integers\n",
    ">>> v = memoryview(m).cast('I')\n",
    ">>> v[0] = 7\n",
    ">>> m[0:4]\n",
    "b'\\x07\\x00\\x00\\x00'\n",
    ">>> m[0:4] = b'\\x07\\x01\\x00\\x00'\n",
    ">>> v[0]\n",
    "263\n",
    ">>>\n",
    "需要强调的一点是，内存映射一个文件并不会导致整个文件被读取到内存中。 也就是说，文件并没有\n",
    "被复制到内存缓存或数组中。相反，操作系统仅仅为文件内容保留了一段虚拟内存。 当你访问文件的不同区域时，这些区域的内容才根据需要被读取并映射到内存区域中。 而那些从没被访问到的部分还是留在磁盘上。所有这些过程是透明的，在幕后完成！\n",
    "\n",
    "如果多个Python解释器内存映射同一个文件，得到的 mmap 对象能够被用来在解释器直接交换数据。 也就是说，所有解释器都能同时读写数据，并且其中一个解释器所做的修改会自动呈现在其他解释器中。 很明显，这里需要考虑同步的问题。但是这种方法有时候可以用来在管道或套接字间传递数据。\n",
    "\n",
    "这一小节中函数尽量写得很通用，同时适用于Unix和Windows平台。 要注意的是使用 mmap() 函数时会在底层有一些平台的差异性。 另外，还有一些选项可以用来创建匿名的内存映射区域。 如果你对这个感兴趣，确保你仔细研读了Python文档中 这方面的内容 。\n",
    "\"\"\"\n"
   ]
  }
 ],
 "metadata": {
  "kernelspec": {
   "display_name": "Python 3",
   "language": "python",
   "name": "python3"
  },
  "language_info": {
   "codemirror_mode": {
    "name": "ipython",
    "version": 3
   },
   "file_extension": ".py",
   "mimetype": "text/x-python",
   "name": "python",
   "nbconvert_exporter": "python",
   "pygments_lexer": "ipython3",
   "version": "3.6.4"
  }
 },
 "nbformat": 4,
 "nbformat_minor": 2
}
