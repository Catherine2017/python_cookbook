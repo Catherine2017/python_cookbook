{
 "cells": [
  {
   "cell_type": "code",
   "execution_count": 2,
   "metadata": {},
   "outputs": [
    {
     "name": "stdout",
     "output_type": "stream",
     "text": [
      "ACM 50 91.5\n",
      "ACM,50,91.5\n",
      "ACM,50,91.5!!\n"
     ]
    }
   ],
   "source": [
    "# 5.3 使用其他分隔符或行终止符打印\n",
    "\"\"\"问题\n",
    "你想使用 print() 函数输出数据，但是想改变默认的分隔符或者行尾符。\n",
    "\n",
    "解决方案\n",
    "可以使用在 print() 函数中使用 sep 和 end 关键字参数，以你想要的方式输出。比如：\"\"\"\n",
    "print('ACM', 50, 91.5)\n",
    "print('ACM', 50, 91.5, sep=',')\n",
    "print('ACM', 50, 91.5, sep=',', end='!!\\n')"
   ]
  },
  {
   "cell_type": "code",
   "execution_count": 3,
   "metadata": {},
   "outputs": [
    {
     "name": "stdout",
     "output_type": "stream",
     "text": [
      "0\n",
      "1\n",
      "2\n",
      "3\n",
      "4\n",
      "0 1 2 3 4 "
     ]
    }
   ],
   "source": [
    "\"\"\"使用 end 参数也可以在输出中禁止换行。比如：\"\"\"\n",
    "for i in range(5):\n",
    "    print(i)\n",
    "for i in range(5):\n",
    "    print(i, end=' ')"
   ]
  },
  {
   "cell_type": "code",
   "execution_count": 4,
   "metadata": {},
   "outputs": [
    {
     "name": "stdout",
     "output_type": "stream",
     "text": [
      "ACME,50,91.5\n"
     ]
    }
   ],
   "source": [
    "\"\"\"讨论\n",
    "当你想使用非空格分隔符来输出数据的时候，给 print() 函数传递一个 sep 参数是最简单的方案。 \n",
    "有时候你会看到一些程序员会使用 str.join() 来完成同样的事情。比如：\"\"\"\n",
    "print(','.join(('ACME','50','91.5')))"
   ]
  },
  {
   "cell_type": "code",
   "execution_count": 5,
   "metadata": {},
   "outputs": [
    {
     "ename": "TypeError",
     "evalue": "sequence item 1: expected str instance, int found",
     "output_type": "error",
     "traceback": [
      "\u001b[1;31m---------------------------------------------------------------------------\u001b[0m",
      "\u001b[1;31mTypeError\u001b[0m                                 Traceback (most recent call last)",
      "\u001b[1;32m<ipython-input-5-127faff39420>\u001b[0m in \u001b[0;36m<module>\u001b[1;34m()\u001b[0m\n\u001b[0;32m      2\u001b[0m 常工作。比如：\"\"\"\n\u001b[0;32m      3\u001b[0m \u001b[0mrow\u001b[0m \u001b[1;33m=\u001b[0m \u001b[1;33m(\u001b[0m\u001b[1;34m'ACME'\u001b[0m\u001b[1;33m,\u001b[0m \u001b[1;36m50\u001b[0m\u001b[1;33m,\u001b[0m \u001b[1;36m91.5\u001b[0m\u001b[1;33m)\u001b[0m\u001b[1;33m\u001b[0m\u001b[0m\n\u001b[1;32m----> 4\u001b[1;33m \u001b[0mprint\u001b[0m\u001b[1;33m(\u001b[0m\u001b[1;34m','\u001b[0m\u001b[1;33m.\u001b[0m\u001b[0mjoin\u001b[0m\u001b[1;33m(\u001b[0m\u001b[0mrow\u001b[0m\u001b[1;33m)\u001b[0m\u001b[1;33m)\u001b[0m\u001b[1;33m\u001b[0m\u001b[0m\n\u001b[0m",
      "\u001b[1;31mTypeError\u001b[0m: sequence item 1: expected str instance, int found"
     ]
    }
   ],
   "source": [
    "\"\"\"str.join() 的问题在于它仅仅适用于字符串。这意味着你通常需要执行另外一些转换才能让它正\n",
    "常工作。比如：\"\"\"\n",
    "row = ('ACME', 50, 91.5)\n",
    "print(','.join(row))"
   ]
  },
  {
   "cell_type": "code",
   "execution_count": 6,
   "metadata": {},
   "outputs": [
    {
     "name": "stdout",
     "output_type": "stream",
     "text": [
      "ACME,50,91.5\n"
     ]
    }
   ],
   "source": [
    "print(','.join(str(x) for x in row))"
   ]
  },
  {
   "cell_type": "code",
   "execution_count": 7,
   "metadata": {},
   "outputs": [
    {
     "name": "stdout",
     "output_type": "stream",
     "text": [
      "ACME,50,91.5\n"
     ]
    }
   ],
   "source": [
    "#你当然可以不用那么麻烦，仅仅只需要像下面这样写：\n",
    "print(*row, sep=',')"
   ]
  },
  {
   "cell_type": "code",
   "execution_count": null,
   "metadata": {},
   "outputs": [],
   "source": []
  }
 ],
 "metadata": {
  "kernelspec": {
   "display_name": "Python 3",
   "language": "python",
   "name": "python3"
  },
  "language_info": {
   "codemirror_mode": {
    "name": "ipython",
    "version": 3
   },
   "file_extension": ".py",
   "mimetype": "text/x-python",
   "name": "python",
   "nbconvert_exporter": "python",
   "pygments_lexer": "ipython3",
   "version": "3.6.4"
  }
 },
 "nbformat": 4,
 "nbformat_minor": 2
}
