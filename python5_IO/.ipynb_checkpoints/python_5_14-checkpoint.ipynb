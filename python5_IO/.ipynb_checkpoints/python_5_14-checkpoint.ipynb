{
 "cells": [
  {
   "cell_type": "code",
   "execution_count": 1,
   "metadata": {},
   "outputs": [
    {
     "data": {
      "text/plain": [
       "'utf-8'"
      ]
     },
     "execution_count": 1,
     "metadata": {},
     "output_type": "execute_result"
    }
   ],
   "source": [
    "# 5.14 忽略文件名编码\n",
    "\"\"\"问题\n",
    "你想使用原始文件名执行文件的I/O操作，也就是说文件名并没有经过系统默认编码去解码或编码过。\n",
    "\n",
    "解决方案\n",
    "默认情况下，所有的文件名都会根据 sys.getfilesystemencoding() 返回的文本编码来编码或解码。比如：\"\"\"\n",
    "import sys\n",
    "sys.getfilesystemencoding()"
   ]
  },
  {
   "cell_type": "code",
   "execution_count": 2,
   "metadata": {},
   "outputs": [],
   "source": [
    "\"\"\"如果因为某种原因你想忽略这种编码，可以使用一个原始字节字符串来指定一个文件名即可。比如：\"\"\"\n",
    "with open('jalape\\xf1o.txt', 'w') as f:\n",
    "    f.write('Spicy!')"
   ]
  },
  {
   "cell_type": "code",
   "execution_count": 3,
   "metadata": {},
   "outputs": [
    {
     "data": {
      "text/plain": [
       "['.ipynb_checkpoints',\n",
       " 'data',\n",
       " 'jalapeño.txt',\n",
       " 'newsample.bin',\n",
       " 'python_5_1.ipynb',\n",
       " 'python_5_10.ipynb',\n",
       " 'python_5_11.ipynb',\n",
       " 'python_5_12.ipynb',\n",
       " 'python_5_13.ipynb',\n",
       " 'python_5_14.ipynb',\n",
       " 'python_5_2.ipynb',\n",
       " 'python_5_3.ipynb',\n",
       " 'python_5_4.ipynb',\n",
       " 'python_5_5.ipynb',\n",
       " 'python_5_6.ipynb',\n",
       " 'python_5_7.ipynb',\n",
       " 'python_5_8.ipynb',\n",
       " 'python_5_9.ipynb',\n",
       " 'sample.bin',\n",
       " 'somefile']"
      ]
     },
     "execution_count": 3,
     "metadata": {},
     "output_type": "execute_result"
    }
   ],
   "source": [
    "import os\n",
    "os.listdir('.')"
   ]
  },
  {
   "cell_type": "code",
   "execution_count": 4,
   "metadata": {},
   "outputs": [
    {
     "data": {
      "text/plain": [
       "[b'.ipynb_checkpoints',\n",
       " b'data',\n",
       " b'jalape\\xc3\\xb1o.txt',\n",
       " b'newsample.bin',\n",
       " b'python_5_1.ipynb',\n",
       " b'python_5_10.ipynb',\n",
       " b'python_5_11.ipynb',\n",
       " b'python_5_12.ipynb',\n",
       " b'python_5_13.ipynb',\n",
       " b'python_5_14.ipynb',\n",
       " b'python_5_2.ipynb',\n",
       " b'python_5_3.ipynb',\n",
       " b'python_5_4.ipynb',\n",
       " b'python_5_5.ipynb',\n",
       " b'python_5_6.ipynb',\n",
       " b'python_5_7.ipynb',\n",
       " b'python_5_8.ipynb',\n",
       " b'python_5_9.ipynb',\n",
       " b'sample.bin',\n",
       " b'somefile']"
      ]
     },
     "execution_count": 4,
     "metadata": {},
     "output_type": "execute_result"
    }
   ],
   "source": [
    "os.listdir(b'.')"
   ]
  },
  {
   "cell_type": "code",
   "execution_count": null,
   "metadata": {},
   "outputs": [],
   "source": [
    "\"\"\"正如你所见，在最后两个操作中，当你给文件相关函数如 open() 和 os.listdir() 传递字节字符串时，文件名的处理方式会稍有不同。\n",
    "\n",
    "讨论\n",
    "通常来讲，你不需要担心文件名的编码和解码，普通的文件名操作应该就没问题了。 但是，有些操作系统允许用户通过偶然或恶意方式去创建名字不符合默认编码的文件。 这些文件名可能会神秘地中断那些需要处理大量文件的Python程序。\n",
    "\n",
    "读取目录并通过原始未解码方式处理文件名可以有效的避免这样的问题， 尽管这样会带来一定的编程难度。\n",
    "\n",
    "关于打印不可解码的文件名，请参考5.15小节。\"\"\""
   ]
  }
 ],
 "metadata": {
  "kernelspec": {
   "display_name": "Python 3",
   "language": "python",
   "name": "python3"
  },
  "language_info": {
   "codemirror_mode": {
    "name": "ipython",
    "version": 3
   },
   "file_extension": ".py",
   "mimetype": "text/x-python",
   "name": "python",
   "nbconvert_exporter": "python",
   "pygments_lexer": "ipython3",
   "version": "3.6.4"
  }
 },
 "nbformat": 4,
 "nbformat_minor": 2
}
