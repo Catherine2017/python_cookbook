{
 "cells": [
  {
   "cell_type": "code",
   "execution_count": null,
   "metadata": {},
   "outputs": [],
   "source": [
    "# 5.11 文件路径名的操作\n",
    "\"\"\"\n",
    "问题\n",
    "你需要使用路径名来获取文件名，目录名，绝对路径等等。\n",
    "\n",
    "解决方案\n",
    "使用 os.path 模块中的函数来操作路径名。 下面是一个交互式例子来演示一些关键的特性：\n",
    "\n",
    ">>> import os\n",
    ">>> path = '/Users/beazley/Data/data.csv'\n",
    "\n",
    ">>> # Get the last component of the path\n",
    ">>> os.path.basename(path)\n",
    "'data.csv'\n",
    "\n",
    ">>> # Get the directory name\n",
    ">>> os.path.dirname(path)\n",
    "'/Users/beazley/Data'\n",
    "\n",
    ">>> # Join path components together\n",
    ">>> os.path.join('tmp', 'data', os.path.basename(path))\n",
    "'tmp/data/data.csv'\n",
    "\n",
    ">>> # Expand the user's home directory\n",
    ">>> path = '~/Data/data.csv'\n",
    ">>> os.path.expanduser(path)\n",
    "'/Users/beazley/Data/data.csv'\n",
    "\n",
    ">>> # Split the file extension\n",
    ">>> os.path.splitext(path)\n",
    "('~/Data/data', '.csv')\n",
    ">>>\n",
    "讨论\n",
    "对于任何的文件名的操作，你都应该使用 os.path 模块，而不是使用标准字符串操作来构造自己的代码。 特别是为了可移植性考虑的时候更应如此， 因为 os.path 模块知道Unix和Windows系统之间的差异并且能够可靠地处理类似 Data/data.csv 和 Data\\data.csv 这样的文件名。 其次，你真的不应该浪费时间去重复造轮子。通常最好是直接使用已经为你准备好的功能。\n",
    "\n",
    "要注意的是 os.path 还有更多的功能在这里并没有列举出来。 可以查阅官方文档来获取更多与文件测试，符号链接等相关的函数说明。\n",
    "\"\"\""
   ]
  }
 ],
 "metadata": {
  "kernelspec": {
   "display_name": "Python 3",
   "language": "python",
   "name": "python3"
  },
  "language_info": {
   "codemirror_mode": {
    "name": "ipython",
    "version": 3
   },
   "file_extension": ".py",
   "mimetype": "text/x-python",
   "name": "python",
   "nbconvert_exporter": "python",
   "pygments_lexer": "ipython3",
   "version": "3.6.4"
  }
 },
 "nbformat": 4,
 "nbformat_minor": 2
}
