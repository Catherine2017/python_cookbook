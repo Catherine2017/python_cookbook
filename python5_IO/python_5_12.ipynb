{
 "cells": [
  {
   "cell_type": "code",
   "execution_count": null,
   "metadata": {},
   "outputs": [],
   "source": [
    "\"\"\"5.12 测试文件是否存在\n",
    "问题\n",
    "你想测试一个文件或目录是否存在。\n",
    "\n",
    "解决方案\n",
    "使用 os.path 模块来测试一个文件或目录是否存在。比如：\n",
    "\n",
    ">>> import os\n",
    ">>> os.path.exists('/etc/passwd')\n",
    "True\n",
    ">>> os.path.exists('/tmp/spam')\n",
    "False\n",
    ">>>\n",
    "你还能进一步测试这个文件时什么类型的。 在下面这些测试中，如果测试的文件不存在的时候，结果都会返回False：\n",
    "\n",
    ">>> # Is a regular file\n",
    ">>> os.path.isfile('/etc/passwd')\n",
    "True\n",
    "\n",
    ">>> # Is a directory\n",
    ">>> os.path.isdir('/etc/passwd')\n",
    "False\n",
    "\n",
    ">>> # Is a symbolic link\n",
    ">>> os.path.islink('/usr/local/bin/python3')\n",
    "True\n",
    "\n",
    ">>> # Get the file linked to\n",
    ">>> os.path.realpath('/usr/local/bin/python3')\n",
    "'/usr/local/bin/python3.3'\n",
    ">>>\n",
    "如果你还想获取元数据(比如文件大小或者是修改日期)，也可以使用 os.path 模块来解决：\n",
    "\n",
    ">>> os.path.getsize('/etc/passwd')\n",
    "3669\n",
    ">>> os.path.getmtime('/etc/passwd')\n",
    "1272478234.0\n",
    ">>> import time\n",
    ">>> time.ctime(os.path.getmtime('/etc/passwd'))\n",
    "'Wed Apr 28 13:10:34 2010'\n",
    ">>>\n",
    "讨论\n",
    "使用 os.path 来进行文件测试是很简单的。 在写这些脚本时，可能唯一需要注意的就是你需要考虑文件权限的问题，特别是在获取元数据时候。比如：\n",
    "\n",
    ">>> os.path.getsize('/Users/guido/Desktop/foo.txt')\n",
    "Traceback (most recent call last):\n",
    "    File \"<stdin>\", line 1, in <module>\n",
    "    File \"/usr/local/lib/python3.3/genericpath.py\", line 49, in getsize\n",
    "        return os.stat(filename).st_size\n",
    "PermissionError: [Errno 13] Permission denied: '/Users/guido/Desktop/foo.txt'\n",
    ">>>\"\"\""
   ]
  }
 ],
 "metadata": {
  "kernelspec": {
   "display_name": "Python 3",
   "language": "python",
   "name": "python3"
  },
  "language_info": {
   "codemirror_mode": {
    "name": "ipython",
    "version": 3
   },
   "file_extension": ".py",
   "mimetype": "text/x-python",
   "name": "python",
   "nbconvert_exporter": "python",
   "pygments_lexer": "ipython3",
   "version": "3.6.4"
  }
 },
 "nbformat": 4,
 "nbformat_minor": 2
}
