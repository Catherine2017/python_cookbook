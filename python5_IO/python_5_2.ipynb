{
 "cells": [
  {
   "cell_type": "code",
   "execution_count": null,
   "metadata": {},
   "outputs": [],
   "source": [
    "\"\"\"5.2 打印输出至文件中\n",
    "问题\n",
    "你想将 print() 函数的输出重定向到一个文件中去。\n",
    "\n",
    "解决方案\n",
    "在 print() 函数中指定 file 关键字参数，像下面这样：\n",
    "\n",
    "with open('d:/work/test.txt', 'wt') as f:\n",
    "    print('Hello World!', file=f)\n",
    "讨论\n",
    "关于输出重定向到文件中就这些了。但是有一点要注意的就是文件必须是以文本模式打开。 如果文\n",
    "件是二进制模式的话，打印就会出错。\"\"\""
   ]
  }
 ],
 "metadata": {
  "kernelspec": {
   "display_name": "Python 3",
   "language": "python",
   "name": "python3"
  },
  "language_info": {
   "codemirror_mode": {
    "name": "ipython",
    "version": 3
   },
   "file_extension": ".py",
   "mimetype": "text/x-python",
   "name": "python",
   "nbconvert_exporter": "python",
   "pygments_lexer": "ipython3",
   "version": "3.6.4"
  }
 },
 "nbformat": 4,
 "nbformat_minor": 2
}
