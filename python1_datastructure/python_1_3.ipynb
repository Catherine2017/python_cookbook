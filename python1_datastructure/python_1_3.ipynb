{
 "cells": [
  {
   "cell_type": "code",
   "execution_count": 7,
   "metadata": {},
   "outputs": [
    {
     "name": "stdout",
     "output_type": "stream",
     "text": [
      "Duck, dynamic, strong since version 3.5:\n",
      "\n",
      "Gradual[4]\n",
      "License\tPython Software Foundation License\n",
      "Filename extensions\t.py, .pyc, .pyd, .pyo (prior to 3.5),[5] .pyw, .pyz (since 3.5)[6]\n",
      "Website\twww.python.org\n",
      "--------------------\n",
      "Duck, dynamic, strong since version 3.5:\n",
      "\n",
      "Gradual[4]\n",
      "License\tPython Software Foundation License\n",
      "Filename extensions\t.py, .pyc, .pyd, .pyo (prior to 3.5),[5] .pyw, .pyz (since 3.5)[6]\n",
      "Website\twww.python.org\n",
      "--------------------\n",
      "\n",
      "Python's developers strive to avoid premature optimization, and reject patches to non-critical parts of CPython that would offer marginal increases in speed at the cost of clarity.[51] When speed is important, a Python programmer can move time-critical functions to extension modules written in languages such as C, or use PyPy, a just-in-time compiler. Cython is also available, which translates a Python script into C and makes direct C-level API calls into the Python interpreter.\n",
      "\n",
      "An important goal of Python's developers is keeping it fun to use. This is reflected in the language's name—a tribute to the British comedy group Monty Python[52]—and in occasionally playful approaches to tutorials and reference materials, such as examples that refer to spam and eggs (from a famous Monty Python sketch) instead of the standard foo and bar.[53][54]\n",
      "\n",
      "A common neologism in the Python community is pythonic, which can have a wide range of meanings related to program style. To say that code is pythonic is to say that it uses Python idioms well, that it is natural or shows fluency in the language, that it conforms with Python's minimalist philosophy and emphasis on readability. In contrast, code that is difficult to understand or reads like a rough transcription from another programming language is called unpythonic.\n",
      "--------------------\n",
      "\n",
      "Python provides a round function for rounding a float to the nearest integer. For tie-breaking, versions before 3 use round-away-from-zero: round(0.5) is 1.0, round(-0.5) is −1.0.[84] Python 3 uses round to even: round(1.5) is 2, round(2.5) is 2.[85]\n",
      "\n",
      "Python allows boolean expressions with multiple equality relations in a manner that is consistent with general use in mathematics. For example, the expression a < b < c tests whether a is less than b and b is less than c.[86] C-derived languages interpret this expression differently: in C, the expression would first evaluate a < b, resulting in 0 or 1, and that result would then be compared with c.[87]\n",
      "\n",
      "Python has extensive built-in support for arbitrary precision arithmetic. Integers are transparently switched from the machine-supported maximum fixed-precision (usually 32 or 64 bits), belonging to the python type int, to arbitrary precision, belonging to the Python type long, where needed. The latter have an \"L\" suffix in their textual representation.[88] (In Python 3, the distinction between the int and long types was eliminated; this behavior is now entirely contained by the int class.) The Decimal type/class in module decimal (since version 2.4) provides decimal floating point numbers to arbitrary precision and several rounding modes.[89] The Fraction type in module fractions (since version 2.6) provides arbitrary precision for rational numbers.[90]\n",
      "--------------------\n",
      "A performance comparison of various Python implementations on a non-numerical (combinatorial) workload was presented at EuroSciPy '13.[107]\n",
      "\n",
      "Development\n",
      "Python's development is conducted largely through the Python Enhancement Proposal (PEP) process, the primary mechanism for proposing major new features, collecting community input on issues and documenting Python design decisions.[108] Outstanding PEPs are reviewed and commented on by the Python community and Guido Van Rossum, Python's Benevolent Dictator For Life.[108]\n",
      "\n",
      "Enhancement of the language corresponds with development of the CPython reference implementation. The mailing list python-dev is the primary forum for the language's development. Specific issues are discussed in the Roundup bug tracker maintained at python.org.[109] Development originally took place on a self-hosted source-code repository running Mercurial, until Python moved to GitHub in January 2017.[110]\n",
      "--------------------\n",
      "\n",
      "Large organizations that use Python include Wikipedia, Google,[122] Yahoo!,[123] CERN,[124] NASA,[125] Facebook,[126] Amazon, Instagram, Spotify[127] and some smaller entities like ILM[128] and ITA.[129] The social news networking site Reddit is written entirely in Python.\n",
      "\n",
      "Python can serve as a scripting language for web applications, e.g., via mod_wsgi for the Apache web server.[130] With Web Server Gateway Interface, a standard API has evolved to facilitate these applications. Web frameworks like Django, Pylons, Pyramid, TurboGears, web2py, Tornado, Flask, Bottle and Zope support developers in the design and maintenance of complex applications. Pyjs and IronPython can be used to develop the client-side of Ajax-based applications. SQLAlchemy can be used as data mapper to a relational database. Twisted is a framework to program communications between computers, and is used (for example) by Dropbox.\n",
      "\n",
      "Libraries such as NumPy, SciPy and Matplotlib allow the effective use of Python in scientific computing,[131][132] with specialized libraries such as Biopython and Astropy providing domain-specific functionality. SageMath is a mathematical software with a \"notebook\" programmable in Python: its library covers many aspects of mathematics, including algebra, combinatorics, numerical mathematics, number theory, and calculus.\n",
      "--------------------\n",
      "CoffeeScript, a programming language that cross-compiles to JavaScript, has Python-inspired syntax.\n",
      "ECMAScript borrowed iterators and generators from Python.[153]\n",
      "Go is designed for the \"speed of working in a dynamic language like Python\"[154] and shares the same syntax for slicing arrays.\n",
      "Groovy was motivated by the desire to bring the Python design philosophy to Java.[155]\n",
      "Julia was designed \"with true macros [.. and to be] as usable for general programming as Python [and] should be as fast as C\".[21] Calling to or from Julia is possible; to with PyCall.jl and a Python package pyjulia allows calling, in the other direction, from Python.\n",
      "Kotlin is a functional programming language with an interactive shell similar to python. However, Kotlin is strongly typed with access to standard Java libraries.[156]\n",
      "--------------------\n"
     ]
    }
   ],
   "source": [
    "# 1.3 保留最后N个元素\n",
    "from collections import deque\n",
    "def search(lines, pattern, history=5):\n",
    "    previous_lines = deque(maxlen=history)\n",
    "    for li in lines:\n",
    "        if pattern in li:\n",
    "            yield li, previous_lines\n",
    "        previous_lines.append(li)\n",
    "\n",
    "# Example use on a file\n",
    "if __name__ == '__main__':\n",
    "    with open('./data/somefile.txt', encoding='utf-8') as f:\n",
    "        for line, prevlines in search(f, 'python', 5):\n",
    "            for pline in prevlines:\n",
    "                print(pline, end='')\n",
    "            print(line, end='')\n",
    "            print('-' * 20)"
   ]
  },
  {
   "cell_type": "code",
   "execution_count": 8,
   "metadata": {},
   "outputs": [
    {
     "data": {
      "text/plain": [
       "deque([1, 2, 3])"
      ]
     },
     "execution_count": 8,
     "metadata": {},
     "output_type": "execute_result"
    }
   ],
   "source": [
    "q = deque(maxlen=3)\n",
    "q.append(1)\n",
    "q.append(2)\n",
    "q.append(3)\n",
    "q"
   ]
  },
  {
   "cell_type": "code",
   "execution_count": 9,
   "metadata": {},
   "outputs": [
    {
     "data": {
      "text/plain": [
       "deque([3, 4, 5])"
      ]
     },
     "execution_count": 9,
     "metadata": {},
     "output_type": "execute_result"
    }
   ],
   "source": [
    "q.append(4)\n",
    "q\n",
    "q.append(5)\n",
    "q"
   ]
  },
  {
   "cell_type": "code",
   "execution_count": 10,
   "metadata": {},
   "outputs": [
    {
     "name": "stdout",
     "output_type": "stream",
     "text": [
      "deque([1, 2, 3])\n",
      "deque([4, 1, 2, 3])\n",
      "deque([4, 1, 2])\n",
      "deque([1, 2])\n"
     ]
    }
   ],
   "source": [
    "q = deque()\n",
    "q.append(1)\n",
    "q.append(2)\n",
    "q.append(3)\n",
    "print(q)\n",
    "q.appendleft(4)\n",
    "print(q)\n",
    "q.pop()\n",
    "print(q)\n",
    "q.popleft()\n",
    "print(q)"
   ]
  },
  {
   "cell_type": "code",
   "execution_count": null,
   "metadata": {},
   "outputs": [],
   "source": []
  }
 ],
 "metadata": {
  "kernelspec": {
   "display_name": "Python 3",
   "language": "python",
   "name": "python3"
  },
  "language_info": {
   "codemirror_mode": {
    "name": "ipython",
    "version": 3
   },
   "file_extension": ".py",
   "mimetype": "text/x-python",
   "name": "python",
   "nbconvert_exporter": "python",
   "pygments_lexer": "ipython3",
   "version": "3.6.4"
  }
 },
 "nbformat": 4,
 "nbformat_minor": 2
}
