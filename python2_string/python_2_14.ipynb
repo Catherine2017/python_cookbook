{
 "cells": [
  {
   "cell_type": "code",
   "execution_count": 1,
   "metadata": {},
   "outputs": [
    {
     "data": {
      "text/plain": [
       "'Is Chicago Not Chicago?'"
      ]
     },
     "execution_count": 1,
     "metadata": {},
     "output_type": "execute_result"
    }
   ],
   "source": [
    "# 2.14 合并拼接字符串\n",
    "\"\"\"问题\n",
    "你想将几个小的字符串合并为一个大的字符串\n",
    "\n",
    "解决方案\n",
    "如果你想要合并的字符串是在一个序列或者 iterable 中，那么最快的方式就是使用 join() 方法。\n",
    "比如：\"\"\"\n",
    "parts = ['Is', 'Chicago', 'Not', 'Chicago?']\n",
    "' '.join(parts)"
   ]
  },
  {
   "cell_type": "code",
   "execution_count": 2,
   "metadata": {},
   "outputs": [
    {
     "data": {
      "text/plain": [
       "'Is Chicago Not Chicago'"
      ]
     },
     "execution_count": 2,
     "metadata": {},
     "output_type": "execute_result"
    }
   ],
   "source": [
    "\"\"\"初看起来，这种语法看上去会比较怪，但是 join() 被指定为字符串的一个方法。 这样做的部分\n",
    "原因是你想去连接的对象可能来自各种不同的数据序列(比如列表，元组，字典，文件，集合或生成\n",
    "器等)， 如果在所有这些对象上都定义一个 join() 方法明显是冗余的。 因此你只需要指定你想要\n",
    "的分割字符串并调用他的 join() 方法去将文本片段组合起来。\n",
    "\n",
    "如果你仅仅只是合并少数几个字符串，使用加号(+)通常已经足够了：\"\"\"\n",
    "a = 'Is Chicago'\n",
    "b = 'Not Chicago'\n",
    "a + ' ' + b"
   ]
  },
  {
   "cell_type": "code",
   "execution_count": 3,
   "metadata": {},
   "outputs": [
    {
     "name": "stdout",
     "output_type": "stream",
     "text": [
      "Is Chicago Not Chicago\n"
     ]
    }
   ],
   "source": [
    "print('{} {}'.format(a, b))"
   ]
  },
  {
   "cell_type": "code",
   "execution_count": 4,
   "metadata": {},
   "outputs": [
    {
     "data": {
      "text/plain": [
       "'HelloWorld'"
      ]
     },
     "execution_count": 4,
     "metadata": {},
     "output_type": "execute_result"
    }
   ],
   "source": [
    "a = 'Hello' 'World'\n",
    "a"
   ]
  },
  {
   "cell_type": "code",
   "execution_count": 5,
   "metadata": {},
   "outputs": [],
   "source": [
    "\"\"\"字符串合并可能看上去并不需要用一整节来讨论。 但是不应该小看这个问题，程序员通常在字符\n",
    "串格式化的时候因为选择不当而给应用程序带来严重性能损失。\n",
    "\n",
    "最重要的需要引起注意的是，当我们使用加号(+)操作符去连接大量的字符串的时候是非常低效率的\n",
    "， 因为加号连接会引起内存复制以及垃圾回收操作。 特别的，你永远都不应像下面这样写字符串\n",
    "连接代码：\"\"\"\n",
    "s = ''\n",
    "for p in parts:\n",
    "    s += p\n"
   ]
  },
  {
   "cell_type": "code",
   "execution_count": 6,
   "metadata": {},
   "outputs": [
    {
     "data": {
      "text/plain": [
       "'ACME,50,91.1'"
      ]
     },
     "execution_count": 6,
     "metadata": {},
     "output_type": "execute_result"
    }
   ],
   "source": [
    "\"\"\"这种写法会比使用 join() 方法运行的要慢一些，因为每一次执行+=操作的时候会创建一个新的字\n",
    "符串对象。 你最好是先收集所有的字符串片段然后再将它们连接起来。\n",
    "\n",
    "一个相对比较聪明的技巧是利用生成器表达式(参考1.19小节)转换数据为字符串的同时合并字符串，\n",
    "比如：\"\"\"\n",
    "data = ['ACME', 50, 91.1]\n",
    "','.join(str(d) for d in data)"
   ]
  },
  {
   "cell_type": "code",
   "execution_count": 8,
   "metadata": {},
   "outputs": [
    {
     "name": "stdout",
     "output_type": "stream",
     "text": [
      "yangxiaoxia:wanglina:guoxueqin\n",
      "yangxiaoxia:wanglina:guoxueqin\n",
      "yangxiaoxia:wanglina:guoxueqin\n"
     ]
    }
   ],
   "source": [
    "\"\"\"同样还得注意不必要的字符串连接操作。有时候程序员在没有必要做连接操作的时候仍然多此\n",
    "一举。比如在打印的时候：\"\"\"\n",
    "a, b, c = 'yangxiaoxia', 'wanglina', 'guoxueqin'\n",
    "print(a + ':' + b + ':' + c) # Ugly\n",
    "print(':'.join([a, b, c])) # Still ugly\n",
    "print(a, b, c, sep=':') # Better"
   ]
  },
  {
   "cell_type": "code",
   "execution_count": 11,
   "metadata": {},
   "outputs": [
    {
     "data": {
      "text/plain": [
       "'IsChicagoNotChicago?'"
      ]
     },
     "execution_count": 11,
     "metadata": {},
     "output_type": "execute_result"
    }
   ],
   "source": [
    "\"\"\"当混合使用I/O操作和字符串连接操作的时候，有时候需要仔细研究你的程序。 比如，考虑下面\n",
    "的两端代码片段：\n",
    "# Version 1 (string concatenation)\n",
    "f.write(chunk1 + chunk2)\n",
    "\n",
    "# Version 2 (separate I/O operations)\n",
    "f.write(chunk1)\n",
    "f.write(chunk2)\n",
    "如果两个字符串很小，那么第一个版本性能会更好些，因为I/O系统调用天生就慢。 另外一方面，\n",
    "如果两个字符串很大，那么第二个版本可能会更加高效， 因为它避免了创建一个很大的临时结果并且\n",
    "要复制大量的内存块数据。 还是那句话，有时候是需要根据你的应用程序特点来决定应该使用哪种方\n",
    "案。\n",
    "\n",
    "最后谈一下，如果你准备编写构建大量小字符串的输出代码， 你最好考虑下使用生成器函数，利用\n",
    "yield语句产生输出片段。比如：\"\"\"\n",
    "def sample():\n",
    "    yield 'Is'\n",
    "    yield 'Chicago'\n",
    "    yield 'Not'\n",
    "    yield 'Chicago?'\n",
    "text = ''.join(sample())\n",
    "text"
   ]
  },
  {
   "cell_type": "code",
   "execution_count": null,
   "metadata": {},
   "outputs": [],
   "source": [
    "\"\"\"\n",
    "def combine(source, maxsize):\n",
    "    parts = []\n",
    "    size = 0\n",
    "    for part in source:\n",
    "        parts.append(part)\n",
    "        size += len(part)\n",
    "        if size > maxsize:\n",
    "            yield ''.join(parts)\n",
    "            parts = []\n",
    "            size = 0\n",
    "        yield ''.join(parts)\n",
    "\n",
    "# 结合文件操作\n",
    "with open('filename', 'w') as f:\n",
    "    for part in combine(sample(), 32768):\n",
    "        f.write(part)\n",
    "\"\"\""
   ]
  }
 ],
 "metadata": {
  "kernelspec": {
   "display_name": "Python 3",
   "language": "python",
   "name": "python3"
  },
  "language_info": {
   "codemirror_mode": {
    "name": "ipython",
    "version": 3
   },
   "file_extension": ".py",
   "mimetype": "text/x-python",
   "name": "python",
   "nbconvert_exporter": "python",
   "pygments_lexer": "ipython3",
   "version": "3.6.4"
  }
 },
 "nbformat": 4,
 "nbformat_minor": 2
}
