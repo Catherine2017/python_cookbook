{
 "cells": [
  {
   "cell_type": "code",
   "execution_count": 2,
   "metadata": {},
   "outputs": [
    {
     "data": {
      "text/plain": [
       "'Guido has 37 messages.'"
      ]
     },
     "execution_count": 2,
     "metadata": {},
     "output_type": "execute_result"
    }
   ],
   "source": [
    "# 2.15 字符串中插入变量\n",
    "\"\"\"问题\n",
    "你想创建一个内嵌变量的字符串，变量被它的值所表示的字符串替换掉。\n",
    "\n",
    "解决方案\n",
    "Python并没有对在字符串中简单替换变量值提供直接的支持。 但是通过使用字符串的 format() \n",
    "方法来解决这个问题。比如：\"\"\"\n",
    "s = '{name} has {n} messages.'\n",
    "s.format(name='Guido', n=37)"
   ]
  },
  {
   "cell_type": "code",
   "execution_count": 3,
   "metadata": {},
   "outputs": [
    {
     "data": {
      "text/plain": [
       "'Guido has 37 messages.'"
      ]
     },
     "execution_count": 3,
     "metadata": {},
     "output_type": "execute_result"
    }
   ],
   "source": [
    "\"\"\"或者，如果要被替换的变量能在变量域中找到， 那么你可以结合使用 format_map() 和 vars() \n",
    "。就像下面这样：\"\"\"\n",
    "name = 'Guido'\n",
    "n = 37\n",
    "s.format_map(vars())"
   ]
  },
  {
   "cell_type": "code",
   "execution_count": 4,
   "metadata": {},
   "outputs": [
    {
     "data": {
      "text/plain": [
       "'Guido has 37 messages.'"
      ]
     },
     "execution_count": 4,
     "metadata": {},
     "output_type": "execute_result"
    }
   ],
   "source": [
    "\"\"\"vars() 还有一个有意思的特性就是它也适用于对象实例。比如：\"\"\"\n",
    "class Info:\n",
    "    def __init__(self, name, n):\n",
    "        self.name = name\n",
    "        self.n = n\n",
    "a = Info('Guido', 37)\n",
    "s.format_map(vars(a))"
   ]
  },
  {
   "cell_type": "code",
   "execution_count": 5,
   "metadata": {},
   "outputs": [
    {
     "ename": "KeyError",
     "evalue": "'n'",
     "output_type": "error",
     "traceback": [
      "\u001b[1;31m---------------------------------------------------------------------------\u001b[0m",
      "\u001b[1;31mKeyError\u001b[0m                                  Traceback (most recent call last)",
      "\u001b[1;32m<ipython-input-5-40d022d7a106>\u001b[0m in \u001b[0;36m<module>\u001b[1;34m()\u001b[0m\n\u001b[0;32m      1\u001b[0m \u001b[1;34m\"\"\"format 和 format_map() 的一个缺陷就是它们并不能很好的处理变量缺失的情况，比如：\"\"\"\u001b[0m\u001b[1;33m\u001b[0m\u001b[0m\n\u001b[1;32m----> 2\u001b[1;33m \u001b[0ms\u001b[0m\u001b[1;33m.\u001b[0m\u001b[0mformat\u001b[0m\u001b[1;33m(\u001b[0m\u001b[0mname\u001b[0m\u001b[1;33m=\u001b[0m\u001b[1;34m'Guido'\u001b[0m\u001b[1;33m)\u001b[0m\u001b[1;33m\u001b[0m\u001b[0m\n\u001b[0m",
      "\u001b[1;31mKeyError\u001b[0m: 'n'"
     ]
    }
   ],
   "source": [
    "\"\"\"format 和 format_map() 的一个缺陷就是它们并不能很好的处理变量缺失的情况，比如：\"\"\"\n",
    "s.format(name='Guido')"
   ]
  },
  {
   "cell_type": "code",
   "execution_count": 6,
   "metadata": {},
   "outputs": [
    {
     "data": {
      "text/plain": [
       "{'In': ['',\n",
       "  '\"\"\"format 和 format_map() 的一个缺陷就是它们并不能很好的处理变量缺失的情况，比如：\"\"\"\\ns.format(name=\\'Guido\\')',\n",
       "  '# 2.15 字符串中插入变量\\n\"\"\"问题\\n你想创建一个内嵌变量的字符串，变量被它的值所表示的字符串替换掉。\\n\\n解决方案\\nPython并没有对在字符串中简单替换变量值提供直接的支持。 但是通过使用字符串的 format() \\n方法来解决这个问题。比如：\"\"\"\\ns = \\'{name} has {n} messages.\\'\\ns.format(name=\\'Guido\\', n=37)',\n",
       "  '\"\"\"或者，如果要被替换的变量能在变量域中找到， 那么你可以结合使用 format_map() 和 vars() \\n。就像下面这样：\"\"\"\\nname = \\'Guido\\'\\nn = 37\\ns.format_map(vars())',\n",
       "  '\"\"\"vars() 还有一个有意思的特性就是它也适用于对象实例。比如：\"\"\"\\nclass Info:\\n    def __init__(self, name, n):\\n        self.name = name\\n        self.n = n\\na = Info(\\'Guido\\', 37)\\ns.format_map(vars(a))',\n",
       "  '\"\"\"format 和 format_map() 的一个缺陷就是它们并不能很好的处理变量缺失的情况，比如：\"\"\"\\ns.format(name=\\'Guido\\')',\n",
       "  \"class safesub(dict):\\n    def __missing__(self, key):\\n        return '{%s}' % key\\ndel n\\nvars()\"],\n",
       " 'Info': __main__.Info,\n",
       " 'Out': {2: 'Guido has 37 messages.',\n",
       "  3: 'Guido has 37 messages.',\n",
       "  4: 'Guido has 37 messages.'},\n",
       " '_': 'Guido has 37 messages.',\n",
       " '_2': 'Guido has 37 messages.',\n",
       " '_3': 'Guido has 37 messages.',\n",
       " '_4': 'Guido has 37 messages.',\n",
       " '__': 'Guido has 37 messages.',\n",
       " '___': 'Guido has 37 messages.',\n",
       " '__builtin__': <module 'builtins' (built-in)>,\n",
       " '__builtins__': <module 'builtins' (built-in)>,\n",
       " '__doc__': 'format 和 format_map() 的一个缺陷就是它们并不能很好的处理变量缺失的情况，比如：',\n",
       " '__loader__': None,\n",
       " '__name__': '__main__',\n",
       " '__package__': None,\n",
       " '__spec__': None,\n",
       " '_dh': ['C:\\\\Users\\\\admin\\\\python_cookbook\\\\python2_string'],\n",
       " '_i': '\"\"\"format 和 format_map() 的一个缺陷就是它们并不能很好的处理变量缺失的情况，比如：\"\"\"\\ns.format(name=\\'Guido\\')',\n",
       " '_i1': '\"\"\"format 和 format_map() 的一个缺陷就是它们并不能很好的处理变量缺失的情况，比如：\"\"\"\\ns.format(name=\\'Guido\\')',\n",
       " '_i2': '# 2.15 字符串中插入变量\\n\"\"\"问题\\n你想创建一个内嵌变量的字符串，变量被它的值所表示的字符串替换掉。\\n\\n解决方案\\nPython并没有对在字符串中简单替换变量值提供直接的支持。 但是通过使用字符串的 format() \\n方法来解决这个问题。比如：\"\"\"\\ns = \\'{name} has {n} messages.\\'\\ns.format(name=\\'Guido\\', n=37)',\n",
       " '_i3': '\"\"\"或者，如果要被替换的变量能在变量域中找到， 那么你可以结合使用 format_map() 和 vars() \\n。就像下面这样：\"\"\"\\nname = \\'Guido\\'\\nn = 37\\ns.format_map(vars())',\n",
       " '_i4': '\"\"\"vars() 还有一个有意思的特性就是它也适用于对象实例。比如：\"\"\"\\nclass Info:\\n    def __init__(self, name, n):\\n        self.name = name\\n        self.n = n\\na = Info(\\'Guido\\', 37)\\ns.format_map(vars(a))',\n",
       " '_i5': '\"\"\"format 和 format_map() 的一个缺陷就是它们并不能很好的处理变量缺失的情况，比如：\"\"\"\\ns.format(name=\\'Guido\\')',\n",
       " '_i6': \"class safesub(dict):\\n    def __missing__(self, key):\\n        return '{%s}' % key\\ndel n\\nvars()\",\n",
       " '_ih': ['',\n",
       "  '\"\"\"format 和 format_map() 的一个缺陷就是它们并不能很好的处理变量缺失的情况，比如：\"\"\"\\ns.format(name=\\'Guido\\')',\n",
       "  '# 2.15 字符串中插入变量\\n\"\"\"问题\\n你想创建一个内嵌变量的字符串，变量被它的值所表示的字符串替换掉。\\n\\n解决方案\\nPython并没有对在字符串中简单替换变量值提供直接的支持。 但是通过使用字符串的 format() \\n方法来解决这个问题。比如：\"\"\"\\ns = \\'{name} has {n} messages.\\'\\ns.format(name=\\'Guido\\', n=37)',\n",
       "  '\"\"\"或者，如果要被替换的变量能在变量域中找到， 那么你可以结合使用 format_map() 和 vars() \\n。就像下面这样：\"\"\"\\nname = \\'Guido\\'\\nn = 37\\ns.format_map(vars())',\n",
       "  '\"\"\"vars() 还有一个有意思的特性就是它也适用于对象实例。比如：\"\"\"\\nclass Info:\\n    def __init__(self, name, n):\\n        self.name = name\\n        self.n = n\\na = Info(\\'Guido\\', 37)\\ns.format_map(vars(a))',\n",
       "  '\"\"\"format 和 format_map() 的一个缺陷就是它们并不能很好的处理变量缺失的情况，比如：\"\"\"\\ns.format(name=\\'Guido\\')',\n",
       "  \"class safesub(dict):\\n    def __missing__(self, key):\\n        return '{%s}' % key\\ndel n\\nvars()\"],\n",
       " '_ii': '\"\"\"vars() 还有一个有意思的特性就是它也适用于对象实例。比如：\"\"\"\\nclass Info:\\n    def __init__(self, name, n):\\n        self.name = name\\n        self.n = n\\na = Info(\\'Guido\\', 37)\\ns.format_map(vars(a))',\n",
       " '_iii': '\"\"\"或者，如果要被替换的变量能在变量域中找到， 那么你可以结合使用 format_map() 和 vars() \\n。就像下面这样：\"\"\"\\nname = \\'Guido\\'\\nn = 37\\ns.format_map(vars())',\n",
       " '_oh': {2: 'Guido has 37 messages.',\n",
       "  3: 'Guido has 37 messages.',\n",
       "  4: 'Guido has 37 messages.'},\n",
       " 'a': <__main__.Info at 0x21f0ab519e8>,\n",
       " 'exit': <IPython.core.autocall.ZMQExitAutocall at 0x21f099f9da0>,\n",
       " 'get_ipython': <bound method InteractiveShell.get_ipython of <ipykernel.zmqshell.ZMQInteractiveShell object at 0x0000021F099A8080>>,\n",
       " 'name': 'Guido',\n",
       " 'quit': <IPython.core.autocall.ZMQExitAutocall at 0x21f099f9da0>,\n",
       " 's': '{name} has {n} messages.',\n",
       " 'safesub': __main__.safesub}"
      ]
     },
     "execution_count": 6,
     "metadata": {},
     "output_type": "execute_result"
    }
   ],
   "source": [
    "class safesub(dict):\n",
    "    def __missing__(self, key):\n",
    "        return '{%s}' % key\n",
    "del n\n",
    "vars()"
   ]
  },
  {
   "cell_type": "code",
   "execution_count": 7,
   "metadata": {},
   "outputs": [
    {
     "data": {
      "text/plain": [
       "'Guido has {n} messages.'"
      ]
     },
     "execution_count": 7,
     "metadata": {},
     "output_type": "execute_result"
    }
   ],
   "source": [
    "s.format_map(safesub(vars()))"
   ]
  },
  {
   "cell_type": "code",
   "execution_count": 8,
   "metadata": {},
   "outputs": [],
   "source": [
    "import sys\n",
    "def sub(text):\n",
    "    return text.format_map(safesub(sys._getframe(1).f_locals))"
   ]
  },
  {
   "cell_type": "code",
   "execution_count": 9,
   "metadata": {},
   "outputs": [
    {
     "name": "stdout",
     "output_type": "stream",
     "text": [
      "Hello Guido\n"
     ]
    }
   ],
   "source": [
    "name = 'Guido'\n",
    "n = 37\n",
    "print(sub('Hello {name}'))"
   ]
  },
  {
   "cell_type": "code",
   "execution_count": null,
   "metadata": {},
   "outputs": [],
   "source": [
    "\"\"\"然而， format() 和 format_map() 相比较上面这些方案而已更加先进，因此应该被优先选择。 使用 format() 方法还有一\n",
    "个好处就是你可以获得对字符串格式化的所有支持(对齐，填充，数字格式化等待)， 而这些特性是使用像模板字符串之类的方案\n",
    "不可能获得的。\n",
    "\n",
    "本机还部分介绍了一些高级特性。映射或者字典类中鲜为人知的 __missing__() 方法可以让你定义如何处理缺失的值。 在 \n",
    "SafeSub 类中，这个方法被定义为对缺失的值返回一个占位符。 你可以发现缺失的值会出现在结果字符串中(在调试的时候可能\n",
    "很有用)，而不是产生一个 KeyError 异常。\n",
    "\n",
    "sub() 函数使用 sys._getframe(1) 返回调用者的栈帧。可以从中访问属性 f_locals 来获得局部变量。 毫无疑问绝大部分\n",
    "情况下在代码中去直接操作栈帧应该是不推荐的。 但是，对于像字符串替换工具函数而言它是非常有用的。 另外，值得注\n",
    "意的是 f_locals 是一个复制调用函数的本地变量的字典。 尽管你可以改变 f_locals 的内容，但是这个修改对于后面的变\n",
    "量访问没有任何影响。 所以，虽说访问一个栈帧看上去很邪恶，但是对它的任何操作不会覆盖和改变调用者本地变量的值。\"\"\""
   ]
  }
 ],
 "metadata": {
  "kernelspec": {
   "display_name": "Python 3",
   "language": "python",
   "name": "python3"
  },
  "language_info": {
   "codemirror_mode": {
    "name": "ipython",
    "version": 3
   },
   "file_extension": ".py",
   "mimetype": "text/x-python",
   "name": "python",
   "nbconvert_exporter": "python",
   "pygments_lexer": "ipython3",
   "version": "3.6.4"
  }
 },
 "nbformat": 4,
 "nbformat_minor": 2
}
