{
 "cells": [
  {
   "cell_type": "markdown",
   "metadata": {},
   "source": [
    "# 11.3 创建UDP服务器\n",
    "## 问题\n",
    "你想实现一个基于UDP协议的服务器来与客户端通信。\n",
    "## 解决方案\n",
    "跟TCP一样，UDP服务器也可以通过使用 socketserver 库很容易的被创建。 例如，下面是一个简单的时间服务器：\n",
    "```\n",
    "from socketserver import BaseRequestHandler, UDPServer\n",
    "import time\n",
    "\n",
    "class TimeHandler(BaseRequestHandler):\n",
    "    def handle(self):\n",
    "        print('Got connection from', self.client_address)\n",
    "        # Get message and client socket\n",
    "        msg, sock = self.request\n",
    "        resp = time.ctime()\n",
    "        sock.sendto(resp.encode('ascii'), self.client_address)\n",
    "\n",
    "if __name__ == '__main__':\n",
    "    serv = UDPServer(('', 20000), TimeHandler)\n",
    "    serv.serve_forever()\n",
    "```\n",
    "跟之前一样，你先定义一个实现 handle() 特殊方法的类，为客户端连接服务。 这个类的 request 属性是一个包含了数据报和底层socket对象的元组。client_address 包含了客户端地址。\n",
    "\n",
    "我们来测试下这个服务器，首先运行它，然后打开另外一个Python进程向服务器发送消息："
   ]
  },
  {
   "cell_type": "code",
   "execution_count": null,
   "metadata": {},
   "outputs": [],
   "source": []
  }
 ],
 "metadata": {
  "kernelspec": {
   "display_name": "Python 3",
   "language": "python",
   "name": "python3"
  },
  "language_info": {
   "codemirror_mode": {
    "name": "ipython",
    "version": 3
   },
   "file_extension": ".py",
   "mimetype": "text/x-python",
   "name": "python",
   "nbconvert_exporter": "python",
   "pygments_lexer": "ipython3",
   "version": "3.6.4"
  }
 },
 "nbformat": 4,
 "nbformat_minor": 2
}
