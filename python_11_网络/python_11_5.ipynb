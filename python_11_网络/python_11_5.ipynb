{
 "cells": [
  {
   "cell_type": "markdown",
   "metadata": {},
   "source": [
    "# 11.5 创建一个简单的REST接口\n",
    "## 问题\n",
    "你想使用一个简单的REST接口通过网络远程控制或访问你的应用程序，但是你又不想自己去安装一个完整的web框架。\n",
    "## 解决方案\n",
    "构建一个REST风格的接口最简单的方法是创建一个基于WSGI标准（PEP 3333）的很小的库，下面是一个例子：\n"
   ]
  },
  {
   "cell_type": "markdown",
   "metadata": {},
   "source": [
    "```\n",
    "# resty.py\n",
    "\n",
    "import cgi\n",
    "\n",
    "def notfound_404(environ, start_response):\n",
    "    start_response('404 Not Found', [ ('Content-type', 'text/plain') ])\n",
    "    return [b'Not Found']\n",
    "\n",
    "class PathDispatcher:\n",
    "    def __init__(self):\n",
    "        self.pathmap = { }\n",
    "\n",
    "    def __call__(self, environ, start_response):\n",
    "        path = environ['PATH_INFO']\n",
    "        params = cgi.FieldStorage(environ['wsgi.input'],\n",
    "                                  environ=environ)\n",
    "        method = environ['REQUEST_METHOD'].lower()\n",
    "        environ['params'] = { key: params.getvalue(key) for key in params }\n",
    "        handler = self.pathmap.get((method,path), notfound_404)\n",
    "        return handler(environ, start_response)\n",
    "\n",
    "    def register(self, method, path, function):\n",
    "        self.pathmap[method.lower(), path] = function\n",
    "```"
   ]
  },
  {
   "cell_type": "markdown",
   "metadata": {},
   "source": []
  }
 ],
 "metadata": {
  "kernelspec": {
   "display_name": "Python 3",
   "language": "python",
   "name": "python3"
  },
  "language_info": {
   "codemirror_mode": {
    "name": "ipython",
    "version": 3
   },
   "file_extension": ".py",
   "mimetype": "text/x-python",
   "name": "python",
   "nbconvert_exporter": "python",
   "pygments_lexer": "ipython3",
   "version": "3.6.4"
  }
 },
 "nbformat": 4,
 "nbformat_minor": 2
}
