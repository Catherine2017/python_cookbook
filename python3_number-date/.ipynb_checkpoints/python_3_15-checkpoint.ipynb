{
 "cells": [
  {
   "cell_type": "code",
   "execution_count": 1,
   "metadata": {},
   "outputs": [
    {
     "data": {
      "text/plain": [
       "datetime.timedelta(2219, 33140, 352761)"
      ]
     },
     "execution_count": 1,
     "metadata": {},
     "output_type": "execute_result"
    }
   ],
   "source": [
    "# 3.15 字符串转换为日期\n",
    "\"\"\"问题\n",
    "你的应用程序接受字符串格式的输入，但是你想将它们转换为 datetime 对象以便在上面执行非字符\n",
    "串操作。\n",
    "\n",
    "解决方案\n",
    "使用Python的标准模块 datetime 可以很容易的解决这个问题。比如：\"\"\"\n",
    "from datetime import datetime\n",
    "text = '2012-09-20'\n",
    "y = datetime.strptime(text,'%Y-%m-%d')\n",
    "z = datetime.now()\n",
    "diff = z-y\n",
    "diff"
   ]
  },
  {
   "cell_type": "code",
   "execution_count": 2,
   "metadata": {},
   "outputs": [
    {
     "data": {
      "text/plain": [
       "datetime.datetime(2018, 10, 18, 9, 12, 20, 352761)"
      ]
     },
     "execution_count": 2,
     "metadata": {},
     "output_type": "execute_result"
    }
   ],
   "source": [
    "\"\"\"讨论\n",
    "datetime.strptime() 方法支持很多的格式化代码， 比如 %Y 代表4位数年份， %m 代表两位数月份\n",
    "。 还有一点值得注意的是这些格式化占位符也可以反过来使用，将日期输出为指定的格式字符串形\n",
    "式。\n",
    "\n",
    "比如，假设你的代码中生成了一个 datetime 对象， 你想将它格式化为漂亮易读形式后放在自动生\n",
    "成的信件或者报告的顶部：\"\"\"\n",
    "z"
   ]
  },
  {
   "cell_type": "code",
   "execution_count": 3,
   "metadata": {},
   "outputs": [
    {
     "data": {
      "text/plain": [
       "'Thursday October 18 2018'"
      ]
     },
     "execution_count": 3,
     "metadata": {},
     "output_type": "execute_result"
    }
   ],
   "source": [
    "nice_z = datetime.strftime(z, '%A %B %d %Y')\n",
    "nice_z"
   ]
  },
  {
   "cell_type": "code",
   "execution_count": 4,
   "metadata": {},
   "outputs": [],
   "source": [
    "\"\"\"还有一点需要注意的是， strptime() 的性能要比你想象中的差很多， 因为它是使用纯Python\n",
    "实现，并且必须处理所有的系统本地设置。 如果你要在代码中需要解析大量的日期并且已经知道了\n",
    "日期字符串的确切格式，可以自己实现一套解析方案来获取更好的性能。 比如，如果你已经知道所\n",
    "以日期格式是 YYYY-MM-DD ，你可以像下面这样实现一个解析函数：\"\"\"\n",
    "from datetime import datetime\n",
    "def parse_ymd(s):\n",
    "    year_s, mon_s, day_s = s.split('-')\n",
    "    return datetime(int(year_s), int(mon_s), int(day_s))"
   ]
  },
  {
   "cell_type": "code",
   "execution_count": null,
   "metadata": {},
   "outputs": [],
   "source": [
    "\"\"\"实际测试中，这个函数比 datetime.strptime() 快7倍多。 如果你要处理大量的涉及到日期的数\n",
    "据的话，那么最好考虑下这个方案！\"\"\""
   ]
  }
 ],
 "metadata": {
  "kernelspec": {
   "display_name": "Python 3",
   "language": "python",
   "name": "python3"
  },
  "language_info": {
   "codemirror_mode": {
    "name": "ipython",
    "version": 3
   },
   "file_extension": ".py",
   "mimetype": "text/x-python",
   "name": "python",
   "nbconvert_exporter": "python",
   "pygments_lexer": "ipython3",
   "version": "3.6.4"
  }
 },
 "nbformat": 4,
 "nbformat_minor": 2
}
