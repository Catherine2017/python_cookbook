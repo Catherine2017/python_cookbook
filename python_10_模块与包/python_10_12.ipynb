{
 "cells": [
  {
   "cell_type": "code",
   "execution_count": 1,
   "metadata": {},
   "outputs": [],
   "source": [
    "# 10.12 导入模块的同时修改模块\n",
    "\"\"\"问题\n",
    "你想给某个已存在模块中的函数添加装饰器。 不过，前提是这个模块已经被导入并且被使用过。\n",
    "\n",
    "解决方案\n",
    "这里问题的本质就是你想在模块被加载时执行某个动作。 可能是你想在一个模块被加载时触发某个回调函数来通知你。\n",
    "\n",
    "这个问题可以使用10.11小节中同样的导入钩子机制来实现。下面是一个可能的方案：\"\"\"\n",
    "# postimport.py\n",
    "import importlib\n",
    "import sys\n",
    "from collections import defaultdict\n",
    "\n",
    "_post_import_hooks = defaultdict(list)\n",
    "\n",
    "class PostImportFinder:\n",
    "    def __init__(self):\n",
    "        self._skip = set()\n",
    "\n",
    "    def find_module(self, fullname, path=None):\n",
    "        if fullname in self._skip:\n",
    "            return None\n",
    "        self._skip.add(fullname)\n",
    "        return PostImportLoader(self)\n",
    "\n",
    "class PostImportLoader:\n",
    "    def __init__(self, finder):\n",
    "        self._finder = finder\n",
    "\n",
    "    def load_module(self, fullname):\n",
    "        importlib.import_module(fullname)\n",
    "        module = sys.modules[fullname]\n",
    "        for func in _post_import_hooks[fullname]:\n",
    "            func(module)\n",
    "        self._finder._skip.remove(fullname)\n",
    "        return module\n",
    "\n",
    "def when_imported(fullname):\n",
    "    def decorate(func):\n",
    "        if fullname in sys.modules:\n",
    "            func(sys.modules[fullname])\n",
    "        else:\n",
    "            _post_import_hooks[fullname].append(func)\n",
    "        return func\n",
    "    return decorate\n",
    "\n",
    "sys.meta_path.insert(0, PostImportFinder())"
   ]
  },
  {
   "cell_type": "code",
   "execution_count": 3,
   "metadata": {},
   "outputs": [
    {
     "name": "stdout",
     "output_type": "stream",
     "text": [
      "Threads? Are you crazy?\n"
     ]
    }
   ],
   "source": [
    "@when_imported('threading')\n",
    "def warn_threads(mod):\n",
    "    print('Threads? Are you crazy?')"
   ]
  },
  {
   "cell_type": "code",
   "execution_count": 4,
   "metadata": {},
   "outputs": [],
   "source": [
    "import threading"
   ]
  },
  {
   "cell_type": "code",
   "execution_count": 6,
   "metadata": {},
   "outputs": [],
   "source": [
    "\"\"\"作为一个更实际的例子，你可能想在已存在的定义上面添加装饰器，如下所示：\"\"\"\n",
    "from functools import wraps\n",
    "\n",
    "def logged(func):\n",
    "    @wraps(func)\n",
    "    def wrapper(*args, **kwargs):\n",
    "        print('Calling', func.__name__, args, kwargs)\n",
    "        return func(*args, **kwargs)\n",
    "    return wrapper\n",
    "\n",
    "# Example\n",
    "@when_imported('math')\n",
    "def add_logging(mod):\n",
    "    mod.cos = logged(mod.cos)\n",
    "    mod.sin = logged(mod.sin)"
   ]
  },
  {
   "cell_type": "markdown",
   "metadata": {},
   "source": [
    "\"\"\"讨论\n",
    "本节技术依赖于10.11小节中讲述过的导入钩子，并稍作修改。\n",
    "\n",
    "@when_imported 装饰器的作用是注册在导入时被激活的处理器函数。 该装饰器检查sys.modules来查看模块是否真的已经被加载了。 如果是的话，该处理器被立即调用。不然，处理器被添加到 _post_import_hooks 字典中的一个列表中去。 _post_import_hooks 的作用就是收集所有的为每个模块注册的处理器对象。 一个模块可以注册多个处理器。\n",
    "\n",
    "要让模块导入后触发添加的动作，PostImportFinder 类被设置为sys.meta_path第一个元素。 它会捕获所有模块导入操作。\n",
    "\n",
    "本节中的 PostImportFinder 的作用并不是加载模块，而是自带导入完成后触发相应的动作。 实际的导入被委派给位于sys.meta_path中的其他查找器。 PostImportLoader 类中的 imp.import_module() 函数被递归的调用。 为了避免陷入无线循环，PostImportFinder 保持了一个所有被加载过的模块集合。 如果一个模块名存在就会直接被忽略掉。\n",
    "\n",
    "当一个模块被 imp.import_module() 加载后， 所有在_post_import_hooks被注册的处理器被调用，使用新加载模块作为一个参数。\n",
    "\n",
    "有一点需要注意的是本机不适用于那些通过 imp.reload() 被显式加载的模块。 也就是说，如果你加载一个之前已被加载过的模块，那么导入处理器将不会再被触发。 另外，要是你从sys.modules中删除模块然后再重新导入，处理器又会再一次触发。\n",
    "\n",
    "更多关于导入后钩子信息请参考 PEP 369.\"\"\""
   ]
  },
  {
   "cell_type": "code",
   "execution_count": null,
   "metadata": {},
   "outputs": [],
   "source": []
  }
 ],
 "metadata": {
  "kernelspec": {
   "display_name": "Python 3",
   "language": "python",
   "name": "python3"
  },
  "language_info": {
   "codemirror_mode": {
    "name": "ipython",
    "version": 3
   },
   "file_extension": ".py",
   "mimetype": "text/x-python",
   "name": "python",
   "nbconvert_exporter": "python",
   "pygments_lexer": "ipython3",
   "version": "3.6.4"
  }
 },
 "nbformat": 4,
 "nbformat_minor": 2
}
