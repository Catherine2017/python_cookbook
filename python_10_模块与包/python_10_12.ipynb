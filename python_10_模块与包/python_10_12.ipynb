{
 "cells": [
  {
   "cell_type": "code",
   "execution_count": 4,
   "metadata": {},
   "outputs": [],
   "source": [
    "# 10.12 导入模块的同时修改模块\n",
    "\"\"\"问题\n",
    "你想给某个已存在模块中的函数添加装饰器。 不过，前提是这个模块已经被导入并且被使用过。\n",
    "\n",
    "解决方案\n",
    "这里问题的本质就是你想在模块被加载时执行某个动作。 可能是你想在一个模块被加载时触发某个回调函数来通知你。\n",
    "\n",
    "这个问题可以使用10.11小节中同样的导入钩子机制来实现。下面是一个可能的方案：\"\"\"\n",
    "# postimport.py\n",
    "import importlib\n",
    "import sys\n",
    "from collections import defaultdict\n",
    "\n",
    "_post_import_hooks = defaultdict(list)\n",
    "\n",
    "class PostImportFinder:\n",
    "    def __init__(self):\n",
    "        self._skip = set()\n",
    "\n",
    "    def find_module(self, fullname, path=None):\n",
    "        if fullname in self._skip:\n",
    "            return None\n",
    "        self._skip.add(fullname)\n",
    "        return PostImportLoader(self)\n",
    "\n",
    "class PostImportLoader:\n",
    "    def __init__(self, finder):\n",
    "        self._finder = finder\n",
    "\n",
    "    def load_module(self, fullname):\n",
    "        importlib.import_module(fullname)\n",
    "        module = sys.modules[fullname]\n",
    "        for func in _post_import_hooks[fullname]:\n",
    "            func(module)\n",
    "        self._finder._skip.remove(fullname)\n",
    "        return module\n",
    "\n",
    "def when_imported(fullname):\n",
    "    def decorate(func):\n",
    "        if fullname in sys.modules:\n",
    "            func(sys.modules[fullname])\n",
    "        else:\n",
    "            _post_import_hooks[fullname].append(func)\n",
    "        return func\n",
    "    return decorate\n",
    "\n",
    "sys.meta_path.insert(0, PostImportFinder())\n",
    "sys.meta_path.insert(0, PostImportFinder)"
   ]
  },
  {
   "cell_type": "code",
   "execution_count": 7,
   "metadata": {},
   "outputs": [
    {
     "ename": "AttributeError",
     "evalue": "'str' object has no attribute '_skip'",
     "output_type": "error",
     "traceback": [
      "\u001b[1;31m---------------------------------------------------------------------------\u001b[0m",
      "\u001b[1;31mAttributeError\u001b[0m                            Traceback (most recent call last)",
      "\u001b[1;32mD:\\Program Files\\Anaconda3.5.1.0\\lib\\importlib\\_bootstrap.py\u001b[0m in \u001b[0;36m_find_spec\u001b[1;34m(name, path, target)\u001b[0m\n",
      "\u001b[1;31mAttributeError\u001b[0m: type object 'PostImportFinder' has no attribute 'find_spec'",
      "\nDuring handling of the above exception, another exception occurred:\n",
      "\u001b[1;31mAttributeError\u001b[0m                            Traceback (most recent call last)",
      "\u001b[1;32m<ipython-input-7-8b6d48105e35>\u001b[0m in \u001b[0;36m<module>\u001b[1;34m()\u001b[0m\n\u001b[1;32m----> 1\u001b[1;33m \u001b[1;32mfrom\u001b[0m \u001b[0mpostimport\u001b[0m \u001b[1;32mimport\u001b[0m \u001b[0mwhen_imported\u001b[0m\u001b[1;33m\u001b[0m\u001b[0m\n\u001b[0m\u001b[0;32m      2\u001b[0m \u001b[1;33m@\u001b[0m\u001b[0mwhen_imported\u001b[0m\u001b[1;33m(\u001b[0m\u001b[1;34m'threading'\u001b[0m\u001b[1;33m)\u001b[0m\u001b[1;33m\u001b[0m\u001b[0m\n\u001b[0;32m      3\u001b[0m \u001b[1;32mdef\u001b[0m \u001b[0mwarn_threads\u001b[0m\u001b[1;33m(\u001b[0m\u001b[0mmod\u001b[0m\u001b[1;33m)\u001b[0m\u001b[1;33m:\u001b[0m\u001b[1;33m\u001b[0m\u001b[0m\n\u001b[0;32m      4\u001b[0m     \u001b[0mprint\u001b[0m\u001b[1;33m(\u001b[0m\u001b[1;34m'Threads? Are you crazy?'\u001b[0m\u001b[1;33m)\u001b[0m\u001b[1;33m\u001b[0m\u001b[0m\n",
      "\u001b[1;32mD:\\Program Files\\Anaconda3.5.1.0\\lib\\importlib\\_bootstrap.py\u001b[0m in \u001b[0;36m_find_and_load\u001b[1;34m(name, import_)\u001b[0m\n",
      "\u001b[1;32mD:\\Program Files\\Anaconda3.5.1.0\\lib\\importlib\\_bootstrap.py\u001b[0m in \u001b[0;36m_find_and_load_unlocked\u001b[1;34m(name, import_)\u001b[0m\n",
      "\u001b[1;32mD:\\Program Files\\Anaconda3.5.1.0\\lib\\importlib\\_bootstrap.py\u001b[0m in \u001b[0;36m_find_spec\u001b[1;34m(name, path, target)\u001b[0m\n",
      "\u001b[1;32mD:\\Program Files\\Anaconda3.5.1.0\\lib\\importlib\\_bootstrap.py\u001b[0m in \u001b[0;36m_find_spec_legacy\u001b[1;34m(finder, name, path)\u001b[0m\n",
      "\u001b[1;32m<ipython-input-4-744e7fb99c45>\u001b[0m in \u001b[0;36mfind_module\u001b[1;34m(self, fullname, path)\u001b[0m\n\u001b[0;32m     19\u001b[0m \u001b[1;33m\u001b[0m\u001b[0m\n\u001b[0;32m     20\u001b[0m     \u001b[1;32mdef\u001b[0m \u001b[0mfind_module\u001b[0m\u001b[1;33m(\u001b[0m\u001b[0mself\u001b[0m\u001b[1;33m,\u001b[0m \u001b[0mfullname\u001b[0m\u001b[1;33m,\u001b[0m \u001b[0mpath\u001b[0m\u001b[1;33m=\u001b[0m\u001b[1;32mNone\u001b[0m\u001b[1;33m)\u001b[0m\u001b[1;33m:\u001b[0m\u001b[1;33m\u001b[0m\u001b[0m\n\u001b[1;32m---> 21\u001b[1;33m         \u001b[1;32mif\u001b[0m \u001b[0mfullname\u001b[0m \u001b[1;32min\u001b[0m \u001b[0mself\u001b[0m\u001b[1;33m.\u001b[0m\u001b[0m_skip\u001b[0m\u001b[1;33m:\u001b[0m\u001b[1;33m\u001b[0m\u001b[0m\n\u001b[0m\u001b[0;32m     22\u001b[0m             \u001b[1;32mreturn\u001b[0m \u001b[1;32mNone\u001b[0m\u001b[1;33m\u001b[0m\u001b[0m\n\u001b[0;32m     23\u001b[0m         \u001b[0mself\u001b[0m\u001b[1;33m.\u001b[0m\u001b[0m_skip\u001b[0m\u001b[1;33m.\u001b[0m\u001b[0madd\u001b[0m\u001b[1;33m(\u001b[0m\u001b[0mfullname\u001b[0m\u001b[1;33m)\u001b[0m\u001b[1;33m\u001b[0m\u001b[0m\n",
      "\u001b[1;31mAttributeError\u001b[0m: 'str' object has no attribute '_skip'"
     ]
    }
   ],
   "source": [
    "from postimport import when_imported\n",
    "@when_imported('threading')\n",
    "def warn_threads(mod):\n",
    "    print('Threads? Are you crazy?')"
   ]
  },
  {
   "cell_type": "code",
   "execution_count": 6,
   "metadata": {},
   "outputs": [],
   "source": [
    "import threading"
   ]
  },
  {
   "cell_type": "code",
   "execution_count": null,
   "metadata": {},
   "outputs": [],
   "source": []
  }
 ],
 "metadata": {
  "kernelspec": {
   "display_name": "Python 3",
   "language": "python",
   "name": "python3"
  },
  "language_info": {
   "codemirror_mode": {
    "name": "ipython",
    "version": 3
   },
   "file_extension": ".py",
   "mimetype": "text/x-python",
   "name": "python",
   "nbconvert_exporter": "python",
   "pygments_lexer": "ipython3",
   "version": "3.6.4"
  }
 },
 "nbformat": 4,
 "nbformat_minor": 2
}
