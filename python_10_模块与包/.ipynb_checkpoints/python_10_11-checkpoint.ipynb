{
 "cells": [
  {
   "cell_type": "code",
   "execution_count": 1,
   "metadata": {},
   "outputs": [
    {
     "name": "stdout",
     "output_type": "stream",
     "text": [
      "I'm spam\n",
      "I'm fib\n",
      "I'm grok.__init__\n",
      "I'm grok.blah\n",
      "print(\"I'm fib\")\n",
      "\n",
      "def fib(n):\n",
      "    if n < 2:\n",
      "        return 1\n",
      "    else:\n",
      "        return fib(n-1) + fib(n-2)\n",
      "\n"
     ]
    }
   ],
   "source": [
    "# 10.11 通过钩子远程加载模块\n",
    "\"\"\"问题\n",
    "你想自定义Python的import语句，使得它能从远程机器上面透明的加载模块。\n",
    "\n",
    "解决方案\n",
    "首先要提出来的是安全问题。本节讨论的思想如果没有一些额外的安全和认知机制的话会很糟糕。 也就是说，我们的主要目的是深入分析Python的import语句机制。 如果你理解了本节内部原理，你就能够为其他任何目的而自定义import。 有了这些，让我们继续向前走。\n",
    "\n",
    "本节核心是设计导入语句的扩展功能。有很多种方法可以做这个， 不过为了演示的方便，我们开始先构造下面这个Python代码结构：\n",
    "\n",
    "testcode/\n",
    "    spam.py\n",
    "    fib.py\n",
    "    grok/\n",
    "        __init__.py\n",
    "        blah.py\n",
    "这些文件的内容并不重要，不过我们在每个文件中放入了少量的简单语句和函数， 这样你可以测试它们并查看当它们被导入时的输出。例如：\n",
    "\"\"\"\n",
    "# spam.py\n",
    "print(\"I'm spam\")\n",
    "\n",
    "def hello(name):\n",
    "    print('Hello %s' % name)\n",
    "\n",
    "# fib.py\n",
    "print(\"I'm fib\")\n",
    "\n",
    "def fib(n):\n",
    "    if n < 2:\n",
    "        return 1\n",
    "    else:\n",
    "        return fib(n-1) + fib(n-2)\n",
    "\n",
    "# grok/__init__.py\n",
    "print(\"I'm grok.__init__\")\n",
    "\n",
    "# grok/blah.py\n",
    "print(\"I'm grok.blah\")\n",
    "\"\"\"这里的目的是允许这些文件作为模块被远程访问。 也许最简单的方式就是将它们发布到一个web服务器上面。在testcode目录中像下面这样运行Python：\n",
    "\n",
    "bash % cd testcode\n",
    "bash % python3 -m http.server 15000\n",
    "Serving HTTP on 0.0.0.0 port 15000 ...\n",
    "服务器运行起来后再启动一个单独的Python解释器。 确保你可以使用 urllib 访问到远程文件。例如：\"\"\"\n",
    "from urllib.request import urlopen\n",
    "u = urlopen('http://localhost:15000/fib.py')\n",
    "data = u.read().decode('utf-8')\n",
    "print(data)"
   ]
  },
  {
   "cell_type": "code",
   "execution_count": 2,
   "metadata": {},
   "outputs": [
    {
     "name": "stdout",
     "output_type": "stream",
     "text": [
      "I'm fib\n"
     ]
    }
   ],
   "source": [
    "\"\"\"从这个服务器加载源代码是接下来本节的基础。 为了替代手动的通过 urlopen() 来收集源文件， 我们通过自定义import语句来在后台自动帮我们做到。\n",
    "\n",
    "加载远程模块的第一种方法是创建一个显示的加载函数来完成它。例如：\"\"\"\n",
    "import imp\n",
    "import urllib.request\n",
    "import sys\n",
    "def load_module(url):\n",
    "    u = urllib.request.urlopen(url)\n",
    "    source = u.read().decode('utf-8')\n",
    "    mod = sys.modules.setdefault(url, imp.new_module(url))\n",
    "    code = compile(source, url, 'exec')\n",
    "    mod.__file__ = url\n",
    "    mod.__package__ = ''\n",
    "    exec(code, mod.__dict__)\n",
    "    return mod\n",
    "\"\"\"这个函数会下载源代码，并使用 compile() 将其编译到一个代码对象中， 然后在一个新创建的模块对象的字典中来执行它。下面是使用这个函数的方式：\"\"\"\n",
    "fib = load_module('http://localhost:15000/fib.py')"
   ]
  },
  {
   "cell_type": "code",
   "execution_count": 3,
   "metadata": {},
   "outputs": [
    {
     "data": {
      "text/plain": [
       "89"
      ]
     },
     "execution_count": 3,
     "metadata": {},
     "output_type": "execute_result"
    }
   ],
   "source": [
    "fib.fib(10)"
   ]
  },
  {
   "cell_type": "code",
   "execution_count": 4,
   "metadata": {},
   "outputs": [
    {
     "name": "stdout",
     "output_type": "stream",
     "text": [
      "I'm spam\n"
     ]
    }
   ],
   "source": [
    "spam = load_module('http://localhost:15000/spam.py')"
   ]
  },
  {
   "cell_type": "code",
   "execution_count": 5,
   "metadata": {},
   "outputs": [
    {
     "name": "stdout",
     "output_type": "stream",
     "text": [
      "Hello Guido\n"
     ]
    }
   ],
   "source": [
    "spam.hello('Guido')"
   ]
  },
  {
   "cell_type": "code",
   "execution_count": 6,
   "metadata": {},
   "outputs": [
    {
     "data": {
      "text/plain": [
       "<module 'http://localhost:15000/fib.py' from 'http://localhost:15000/fib.py'>"
      ]
     },
     "execution_count": 6,
     "metadata": {},
     "output_type": "execute_result"
    }
   ],
   "source": [
    "fib"
   ]
  },
  {
   "cell_type": "code",
   "execution_count": 7,
   "metadata": {},
   "outputs": [
    {
     "data": {
      "text/plain": [
       "<module 'http://localhost:15000/spam.py' from 'http://localhost:15000/spam.py'>"
      ]
     },
     "execution_count": 7,
     "metadata": {},
     "output_type": "execute_result"
    }
   ],
   "source": [
    "spam"
   ]
  },
  {
   "cell_type": "code",
   "execution_count": 8,
   "metadata": {},
   "outputs": [],
   "source": [
    "\"\"\"正如你所见，对于简单的模块这个是行得通的。 不过它并没有嵌入到通常的import语句中，如果要支持更高级的结构比如包就需要更多的工作了。\n",
    "\n",
    "一个更酷的做法是创建一个自定义导入器。第一种方法是创建一个元路径导入器。如下：\"\"\"\n",
    "# urlimport.py\n",
    "import sys\n",
    "import importlib.abc\n",
    "import imp\n",
    "from urllib.request import urlopen\n",
    "from urllib.error import HTTPError, URLError\n",
    "from html.parser import HTMLParser\n",
    "\n",
    "# Debugging\n",
    "import logging\n",
    "log = logging.getLogger(__name__)\n",
    "\n",
    "# Get links from a given URL\n",
    "def _get_links(url):\n",
    "    class LinkParser(HTMLParser):\n",
    "        def handle_starttag(self, tag, attrs):\n",
    "            if tag == 'a':\n",
    "                attrs = dict(attrs)\n",
    "                links.add(attrs.get('href').rstrip('/'))\n",
    "    links = set()\n",
    "    try:\n",
    "        log.debug('Getting links from %s' % url)\n",
    "        u = urlopen(url)\n",
    "        parser = LinkParser()\n",
    "        parser.feed(u.read().decode('utf-8'))\n",
    "    except Exception as e:\n",
    "        log.debug('Could not get links. %s', e)\n",
    "    log.debug('links: %r', links)\n",
    "    return links\n",
    "\n",
    "\n",
    "class UrlMetaFinder(importlib.abc.MetaPathFinder):\n",
    "    def __init__(self, baseurl):\n",
    "        self._baseurl = baseurl\n",
    "        self._links = { }\n",
    "        self._loaders = {baseurl: UrlModuleLoader(baseurl)}\n",
    "        \n",
    "    def find_module(self, fullname, path=None):\n",
    "        log.debug('find module: fullname=%r, path=%r', fullname, path)\n",
    "        if path is None:\n",
    "            baseurl = self._baseurl\n",
    "        else:\n",
    "            if not path[0].startswith(self._baseurl):\n",
    "                return None\n",
    "            baseurl = path[0]\n",
    "        parts = fullname.split('.')\n",
    "        basename = parts[-1]\n",
    "        log.debug('find_module: baseurl=%r, basename=%r', baseurl, basename)\n",
    "        \n",
    "        #check link cache\n",
    "        if basename not in self._links:\n",
    "            self._links[baseurl] = _get_links(baseurl)\n",
    "            \n",
    "        # check if it's package\n",
    "        if basename in self._links[baseurl]:\n",
    "            log.debug('find_module: try package %r', fullname)\n",
    "            fullurl = self._baseurl + '/' + basename\n",
    "            # Attempt to load the package (which accesses __init__.py)\n",
    "            loader = UrlPackageLoader(fullurl)\n",
    "            try:\n",
    "                loader.load_module(fullname)\n",
    "                self._links[fullurl] = _get_links(fullurl)\n",
    "                self._loaders[fullurl] = UrlModuleLoader(fullurl)\n",
    "                log.debug('find_module: package %r loaded', fullname)\n",
    "            except ImportError as e:\n",
    "                log.debug('find_module: package failed. %s', e)\n",
    "                loader = None\n",
    "            return loader\n",
    "        # A normal module\n",
    "        # A normal module\n",
    "        filename = basename + '.py'\n",
    "        if filename in self._links[baseurl]:\n",
    "            log.debug('find_module: module %r found', fullname)\n",
    "            return self._loaders[baseurl]\n",
    "        else:\n",
    "            log.debug('find_module: module %r not found', fullname)\n",
    "            return None\n",
    "        \n",
    "    def invalidate_caches(self):\n",
    "        log.debug('invalidating link cache')\n",
    "        self._links.clear()\n",
    "        \n",
    "# Module Loader for a URL\n",
    "class UrlModuleLoader(importlib.abc.SourceLoader):\n",
    "    def __init__(self, baseurl):\n",
    "        self._baseurl = baseurl\n",
    "        self._source_cache = {}\n",
    "\n",
    "    def module_repr(self, module):\n",
    "        return '<urlmodule %r from %r>' % (module.__name__, module.__file__)\n",
    "\n",
    "    # Required method\n",
    "    def load_module(self, fullname):\n",
    "        code = self.get_code(fullname)\n",
    "        mod = sys.modules.setdefault(fullname, imp.new_module(fullname))\n",
    "        mod.__file__ = self.get_filename(fullname)\n",
    "        mod.__loader__ = self\n",
    "        mod.__package__ = fullname.rpartition('.')[0]\n",
    "        exec(code, mod.__dict__)\n",
    "        return mod\n",
    "\n",
    "    # Optional extensions\n",
    "    def get_code(self, fullname):\n",
    "        src = self.get_source(fullname)\n",
    "        return compile(src, self.get_filename(fullname), 'exec')\n",
    "\n",
    "    def get_data(self, path):\n",
    "        pass\n",
    "\n",
    "    def get_filename(self, fullname):\n",
    "        return self._baseurl + '/' + fullname.split('.')[-1] + '.py'\n",
    "\n",
    "    def get_source(self, fullname):\n",
    "        filename = self.get_filename(fullname)\n",
    "        log.debug('loader: reading %r', filename)\n",
    "        if filename in self._source_cache:\n",
    "            log.debug('loader: cached %r', filename)\n",
    "            return self._source_cache[filename]\n",
    "        try:\n",
    "            u = urlopen(filename)\n",
    "            source = u.read().decode('utf-8')\n",
    "            log.debug('loader: %r loaded', filename)\n",
    "            self._source_cache[filename] = source\n",
    "            return source\n",
    "        except (HTTPError, URLError) as e:\n",
    "            log.debug('loader: %r failed. %s', filename, e)\n",
    "            raise ImportError(\"Can't load %s\" % filename)\n",
    "\n",
    "    def is_package(self, fullname):\n",
    "        return False\n",
    "\n",
    "# Package loader for a URL\n",
    "class UrlPackageLoader(UrlModuleLoader):\n",
    "    def load_module(self, fullname):\n",
    "        mod = super().load_module(fullname)\n",
    "        mod.__path__ = [ self._baseurl ]\n",
    "        mod.__package__ = fullname\n",
    "\n",
    "    def get_filename(self, fullname):\n",
    "        return self._baseurl + '/' + '__init__.py'\n",
    "\n",
    "    def is_package(self, fullname):\n",
    "        return True\n",
    "\n",
    "# Utility functions for installing/uninstalling the loader\n",
    "_installed_meta_cache = { }\n",
    "def install_meta(address):\n",
    "    if address not in _installed_meta_cache:\n",
    "        finder = UrlMetaFinder(address)\n",
    "        _installed_meta_cache[address] = finder\n",
    "        sys.meta_path.append(finder)\n",
    "        log.debug('%r installed on sys.meta_path', finder)\n",
    "\n",
    "def remove_meta(address):\n",
    "    if address in _installed_meta_cache:\n",
    "        finder = _installed_meta_cache.pop(address)\n",
    "        sys.meta_path.remove(finder)\n",
    "        log.debug('%r removed from sys.meta_path', finder)\n",
    "            "
   ]
  },
  {
   "cell_type": "code",
   "execution_count": 9,
   "metadata": {},
   "outputs": [
    {
     "ename": "ModuleNotFoundError",
     "evalue": "No module named 'fib'",
     "output_type": "error",
     "traceback": [
      "\u001b[1;31m---------------------------------------------------------------------------\u001b[0m",
      "\u001b[1;31mModuleNotFoundError\u001b[0m                       Traceback (most recent call last)",
      "\u001b[1;32m<ipython-input-9-fa428e85f933>\u001b[0m in \u001b[0;36m<module>\u001b[1;34m()\u001b[0m\n\u001b[0;32m      1\u001b[0m \u001b[1;34m\"\"\"下面是一个交互会话，演示了如何使用前面的代码：\"\"\"\u001b[0m\u001b[1;33m\u001b[0m\u001b[0m\n\u001b[1;32m----> 2\u001b[1;33m \u001b[1;32mimport\u001b[0m \u001b[0mfib\u001b[0m\u001b[1;33m\u001b[0m\u001b[0m\n\u001b[0m",
      "\u001b[1;31mModuleNotFoundError\u001b[0m: No module named 'fib'"
     ]
    }
   ],
   "source": [
    "\"\"\"下面是一个交互会话，演示了如何使用前面的代码：\"\"\"\n",
    "import fib"
   ]
  },
  {
   "cell_type": "code",
   "execution_count": 11,
   "metadata": {},
   "outputs": [
    {
     "name": "stdout",
     "output_type": "stream",
     "text": [
      "I'm fib\n"
     ]
    }
   ],
   "source": [
    "import urlimport\n",
    "install_meta('http://localhost:15000')\n",
    "import fib"
   ]
  },
  {
   "cell_type": "code",
   "execution_count": 12,
   "metadata": {},
   "outputs": [],
   "source": [
    "import spam"
   ]
  },
  {
   "cell_type": "code",
   "execution_count": null,
   "metadata": {},
   "outputs": [],
   "source": []
  }
 ],
 "metadata": {
  "kernelspec": {
   "display_name": "Python 3",
   "language": "python",
   "name": "python3"
  },
  "language_info": {
   "codemirror_mode": {
    "name": "ipython",
    "version": 3
   },
   "file_extension": ".py",
   "mimetype": "text/x-python",
   "name": "python",
   "nbconvert_exporter": "python",
   "pygments_lexer": "ipython3",
   "version": "3.6.4"
  }
 },
 "nbformat": 4,
 "nbformat_minor": 2
}
