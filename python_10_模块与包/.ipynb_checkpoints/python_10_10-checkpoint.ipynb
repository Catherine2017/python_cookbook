{
 "cells": [
  {
   "cell_type": "code",
   "execution_count": 1,
   "metadata": {},
   "outputs": [
    {
     "data": {
      "text/plain": [
       "0.9092974268256817"
      ]
     },
     "execution_count": 1,
     "metadata": {},
     "output_type": "execute_result"
    }
   ],
   "source": [
    "# 10.10 通过字符串名导入模块\n",
    "\"\"\"问题\n",
    "你想导入一个模块，但是模块的名字在字符串里。你想对字符串调用导入命令。\n",
    "\n",
    "解决方案\n",
    "使用importlib.import_module()函数来手动导入名字为字符串给出的一个模块或者包的一部分。举个例子：\"\"\"\n",
    "import importlib\n",
    "math = importlib.import_module('math')\n",
    "math.sin(2)"
   ]
  },
  {
   "cell_type": "code",
   "execution_count": null,
   "metadata": {},
   "outputs": [],
   "source": [
    "\"\"\"import_module只是简单地执行和import相同的步骤，但是返回生成的模块对象。你只需要将其存储在一个变量，然后像正常的模块一样使用。\n",
    "\n",
    "如果你正在使用的包，import_module()也可用于相对导入。但是，你需要给它一个额外的参数。例如：\n",
    "import importlib\n",
    "# Same as 'from . import b'\n",
    "b = importlib.import_module('.b', __package__)\n",
    "讨论\n",
    "使用import_module()手动导入模块的问题通常出现在以某种方式编写修改或覆盖模块的代码时候。例如，也许你正在执行某种自定义导入机制，需要通过名称来加载一个模块，通过补丁加载代码。\n",
    "\n",
    "在旧的代码，有时你会看到用于导入的内建函数__import__()。尽管它能工作，但是importlib.import_module() 通常更容易使用。\n",
    "\n",
    "自定义导入过程的高级实例见10.11小节\"\"\"\n",
    "\n"
   ]
  }
 ],
 "metadata": {
  "kernelspec": {
   "display_name": "Python 3",
   "language": "python",
   "name": "python3"
  },
  "language_info": {
   "codemirror_mode": {
    "name": "ipython",
    "version": 3
   },
   "file_extension": ".py",
   "mimetype": "text/x-python",
   "name": "python",
   "nbconvert_exporter": "python",
   "pygments_lexer": "ipython3",
   "version": "3.6.4"
  }
 },
 "nbformat": 4,
 "nbformat_minor": 2
}
