{
 "cells": [
  {
   "cell_type": "code",
   "execution_count": 1,
   "metadata": {},
   "outputs": [
    {
     "name": "stdout",
     "output_type": "stream",
     "text": [
      "Encountered a start tag: html\n",
      "Encountered a start tag: head\n",
      "Encountered a start tag: title\n",
      "Encountered some data  : Test\n",
      "Encountered an end tag : title\n",
      "Encountered an end tag : head\n",
      "Encountered a start tag: body\n",
      "Encountered a start tag: h1\n",
      "Encountered some data  : Parse me!\n",
      "Encountered an end tag : h1\n",
      "Encountered startendtag : img\n",
      "Encountered comment :  comment \n",
      "Encountered an end tag : body\n",
      "Encountered an end tag : html\n"
     ]
    }
   ],
   "source": [
    "# HTMLParser\n",
    "\"\"\"HtmlParser，是python自带的一个解析html/xml等结构化数据的工具。\n",
    "一、常用属性和方法介绍\n",
    "HtmlParser是一个类，在使用时一般继承它然后重载它的方法，来达到解析出需要的数据的目的。\n",
    "1.常用属性：\n",
    "lasttag，保存上一个解析的标签名，是字符串。\n",
    "\n",
    "2.常用方法：\n",
    "handle_starttag(tag, attrs) ，处理开始标签，比如<div>；这里的attrs获取到的是属性列表，属性以元组的方式展示\n",
    "\n",
    "handle_endtag(tag) ，处理结束标签,比如</div>\n",
    "\n",
    "handle_startendtag(tag, attrs) ，处理自己结束的标签，如<img />\n",
    "\n",
    "handle_data(data) ，处理数据，标签之间的文本\n",
    "\n",
    "handle_comment(data) ，处理注释，<!-- -->之间的文本\n",
    "\n",
    "作者：马小跳_\n",
    "链接：https://www.jianshu.com/p/8322c0bbc2ca\n",
    "来源：简书\n",
    "简书著作权归作者所有，任何形式的转载都请联系作者获得授权并注明出处。\"\"\"\n",
    "\"\"\"二、基本使用\"\"\"\n",
    "from html.parser import HTMLParser\n",
    "\n",
    "\n",
    "class MyHTMLParser(HTMLParser):\n",
    "\n",
    "    def handle_starttag(self, tag, attrs):\n",
    "        \"\"\"\n",
    "        recognize start tag, like <div>\n",
    "        :param tag:\n",
    "        :param attrs:\n",
    "        :return:\n",
    "        \"\"\"\n",
    "        print(\"Encountered a start tag:\", tag)\n",
    "\n",
    "    def handle_endtag(self, tag):\n",
    "        \"\"\"\n",
    "        recognize end tag, like </div>\n",
    "        :param tag:\n",
    "        :return:\n",
    "        \"\"\"\n",
    "        print(\"Encountered an end tag :\", tag)\n",
    "\n",
    "    def handle_data(self, data):\n",
    "        \"\"\"\n",
    "        recognize data, html content string\n",
    "        :param data:\n",
    "        :return:\n",
    "        \"\"\"\n",
    "        print(\"Encountered some data  :\", data)\n",
    "\n",
    "    def handle_startendtag(self, tag, attrs):\n",
    "        \"\"\"\n",
    "        recognize tag that without endtag, like <img />\n",
    "        :param tag:\n",
    "        :param attrs:\n",
    "        :return:\n",
    "        \"\"\"\n",
    "        print(\"Encountered startendtag :\", tag)\n",
    "\n",
    "    def handle_comment(self,data):\n",
    "        \"\"\"\n",
    "\n",
    "        :param data:\n",
    "        :return:\n",
    "        \"\"\"\n",
    "        print(\"Encountered comment :\", data)\n",
    "\n",
    "\n",
    "parser = MyHTMLParser()\n",
    "parser.feed('<html><head><title>Test</title></head>'\n",
    "            '<body><h1>Parse me!</h1><img src = \"\" />'\n",
    "            '<!-- comment --></body></html>')"
   ]
  },
  {
   "cell_type": "code",
   "execution_count": 2,
   "metadata": {},
   "outputs": [
    {
     "name": "stdout",
     "output_type": "stream",
     "text": [
      "<module 'http' from 'D:\\\\Program Files\\\\Anaconda3.5.1.0\\\\lib\\\\http\\\\__init__.py'>\n"
     ]
    }
   ],
   "source": [
    "# Python 探针实现原理\n",
    "## sys.meta_path\n",
    "# https://mozillazg.com/2016/04/apm-python-agent-principle.html\n",
    "\"\"\"sys.meta_path 这个简单的来说就是可以实现 import hook 的功能， 当执行 import 相关的操作时，会触发 sys.meta_path 列表中定义的对象。 关于 sys.meta_path 更详细的资料请查阅 python 文档中 sys.meta_path 相关内容以及 PEP 0302 。\n",
    "\n",
    "sys.meta_path 中的对象需要实现一个 find_module 方法， 这个 find_module 方法返回 None 或一个实现了 load_module 方法的对象 (代码可以从 github 上下载 part1) :\"\"\"\n",
    "import sys\n",
    "class MetaPathFinder:\n",
    "    def find_module(self, fullname, path=None):\n",
    "        print('find_module {}'.format(fullname))\n",
    "        return MetaPathLoader()\n",
    "    \n",
    "class MetaPathLoader:\n",
    "    def load_module(self, fullname):\n",
    "        print('load_module {}'.format(fullname))\n",
    "        sys.modules[fullname] = sys\n",
    "        return sys\n",
    "\n",
    "sys.meta_path.insert(0, MetaPathFinder())\n",
    "import http\n",
    "print(http)"
   ]
  },
  {
   "cell_type": "code",
   "execution_count": 3,
   "metadata": {},
   "outputs": [
    {
     "ename": "AttributeError",
     "evalue": "module 'http' has no attribute 'version_info'",
     "output_type": "error",
     "traceback": [
      "\u001b[1;31m---------------------------------------------------------------------------\u001b[0m",
      "\u001b[1;31mAttributeError\u001b[0m                            Traceback (most recent call last)",
      "\u001b[1;32m<ipython-input-3-7dace3d40fbb>\u001b[0m in \u001b[0;36m<module>\u001b[1;34m()\u001b[0m\n\u001b[1;32m----> 1\u001b[1;33m \u001b[0mprint\u001b[0m\u001b[1;33m(\u001b[0m\u001b[0mhttp\u001b[0m\u001b[1;33m.\u001b[0m\u001b[0mversion_info\u001b[0m\u001b[1;33m)\u001b[0m\u001b[1;33m\u001b[0m\u001b[0m\n\u001b[0m",
      "\u001b[1;31mAttributeError\u001b[0m: module 'http' has no attribute 'version_info'"
     ]
    },
    {
     "name": "stdout",
     "output_type": "stream",
     "text": [
      "find_module zmq.backend.cython.zmq\n",
      "load_module zmq.backend.cython.zmq\n"
     ]
    }
   ],
   "source": [
    "print(http.version_info)"
   ]
  },
  {
   "cell_type": "code",
   "execution_count": null,
   "metadata": {},
   "outputs": [],
   "source": []
  }
 ],
 "metadata": {
  "kernelspec": {
   "display_name": "Python 3",
   "language": "python",
   "name": "python3"
  },
  "language_info": {
   "codemirror_mode": {
    "name": "ipython",
    "version": 3
   },
   "file_extension": ".py",
   "mimetype": "text/x-python",
   "name": "python",
   "nbconvert_exporter": "python",
   "pygments_lexer": "ipython3",
   "version": "3.6.4"
  }
 },
 "nbformat": 4,
 "nbformat_minor": 2
}
