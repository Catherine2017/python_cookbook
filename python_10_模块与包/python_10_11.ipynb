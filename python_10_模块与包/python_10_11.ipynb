{
 "cells": [
  {
   "cell_type": "code",
   "execution_count": 1,
   "metadata": {},
   "outputs": [
    {
     "name": "stdout",
     "output_type": "stream",
     "text": [
      "I'm spam\n",
      "I'm fib\n",
      "I'm grok.__init__\n",
      "I'm grok.blah\n",
      "print(\"I'm fib\")\n",
      "\n",
      "def fib(n):\n",
      "    if n < 2:\n",
      "        return 1\n",
      "    else:\n",
      "        return fib(n-1) + fib(n-2)\n",
      "\n"
     ]
    }
   ],
   "source": [
    "# 10.11 通过钩子远程加载模块\n",
    "\"\"\"问题\n",
    "你想自定义Python的import语句，使得它能从远程机器上面透明的加载模块。\n",
    "\n",
    "解决方案\n",
    "首先要提出来的是安全问题。本节讨论的思想如果没有一些额外的安全和认知机制的话会很糟糕。 也就是说，我们的主要目的是深入分析Python的import语句机制。 如果你理解了本节内部原理，你就能够为其他任何目的而自定义import。 有了这些，让我们继续向前走。\n",
    "\n",
    "本节核心是设计导入语句的扩展功能。有很多种方法可以做这个， 不过为了演示的方便，我们开始先构造下面这个Python代码结构：\n",
    "\n",
    "testcode/\n",
    "    spam.py\n",
    "    fib.py\n",
    "    grok/\n",
    "        __init__.py\n",
    "        blah.py\n",
    "这些文件的内容并不重要，不过我们在每个文件中放入了少量的简单语句和函数， 这样你可以测试它们并查看当它们被导入时的输出。例如：\n",
    "\"\"\"\n",
    "# spam.py\n",
    "print(\"I'm spam\")\n",
    "\n",
    "def hello(name):\n",
    "    print('Hello %s' % name)\n",
    "\n",
    "# fib.py\n",
    "print(\"I'm fib\")\n",
    "\n",
    "def fib(n):\n",
    "    if n < 2:\n",
    "        return 1\n",
    "    else:\n",
    "        return fib(n-1) + fib(n-2)\n",
    "\n",
    "# grok/__init__.py\n",
    "print(\"I'm grok.__init__\")\n",
    "\n",
    "# grok/blah.py\n",
    "print(\"I'm grok.blah\")\n",
    "\"\"\"这里的目的是允许这些文件作为模块被远程访问。 也许最简单的方式就是将它们发布到一个web服务器上面。在testcode目录中像下面这样运行Python：\n",
    "\n",
    "bash % cd testcode\n",
    "bash % python3 -m http.server 15000\n",
    "Serving HTTP on 0.0.0.0 port 15000 ...\n",
    "服务器运行起来后再启动一个单独的Python解释器。 确保你可以使用 urllib 访问到远程文件。例如：\"\"\"\n",
    "from urllib.request import urlopen\n",
    "u = urlopen('http://localhost:15000/fib.py')\n",
    "data = u.read().decode('utf-8')\n",
    "print(data)"
   ]
  },
  {
   "cell_type": "code",
   "execution_count": 2,
   "metadata": {},
   "outputs": [
    {
     "name": "stdout",
     "output_type": "stream",
     "text": [
      "I'm fib\n"
     ]
    }
   ],
   "source": [
    "\"\"\"从这个服务器加载源代码是接下来本节的基础。 为了替代手动的通过 urlopen() 来收集源文件， 我们通过自定义import语句来在后台自动帮我们做到。\n",
    "\n",
    "加载远程模块的第一种方法是创建一个显示的加载函数来完成它。例如：\"\"\"\n",
    "import imp\n",
    "import urllib.request\n",
    "import sys\n",
    "def load_module(url):\n",
    "    u = urllib.request.urlopen(url)\n",
    "    source = u.read().decode('utf-8')\n",
    "    mod = sys.modules.setdefault(url, imp.new_module(url))\n",
    "    code = compile(source, url, 'exec')\n",
    "    mod.__file__ = url\n",
    "    mod.__package__ = ''\n",
    "    exec(code, mod.__dict__)\n",
    "    return mod\n",
    "\"\"\"这个函数会下载源代码，并使用 compile() 将其编译到一个代码对象中， 然后在一个新创建的模块对象的字典中来执行它。下面是使用这个函数的方式：\"\"\"\n",
    "fib = load_module('http://localhost:15000/fib.py')"
   ]
  },
  {
   "cell_type": "code",
   "execution_count": 3,
   "metadata": {},
   "outputs": [
    {
     "data": {
      "text/plain": [
       "89"
      ]
     },
     "execution_count": 3,
     "metadata": {},
     "output_type": "execute_result"
    }
   ],
   "source": [
    "fib.fib(10)"
   ]
  },
  {
   "cell_type": "code",
   "execution_count": 4,
   "metadata": {},
   "outputs": [
    {
     "name": "stdout",
     "output_type": "stream",
     "text": [
      "I'm spam\n"
     ]
    }
   ],
   "source": [
    "spam = load_module('http://localhost:15000/spam.py')"
   ]
  },
  {
   "cell_type": "code",
   "execution_count": 5,
   "metadata": {},
   "outputs": [
    {
     "name": "stdout",
     "output_type": "stream",
     "text": [
      "Hello Guido\n"
     ]
    }
   ],
   "source": [
    "spam.hello('Guido')"
   ]
  },
  {
   "cell_type": "code",
   "execution_count": 6,
   "metadata": {},
   "outputs": [
    {
     "data": {
      "text/plain": [
       "<module 'http://localhost:15000/fib.py' from 'http://localhost:15000/fib.py'>"
      ]
     },
     "execution_count": 6,
     "metadata": {},
     "output_type": "execute_result"
    }
   ],
   "source": [
    "fib"
   ]
  },
  {
   "cell_type": "code",
   "execution_count": 7,
   "metadata": {},
   "outputs": [
    {
     "data": {
      "text/plain": [
       "<module 'http://localhost:15000/spam.py' from 'http://localhost:15000/spam.py'>"
      ]
     },
     "execution_count": 7,
     "metadata": {},
     "output_type": "execute_result"
    }
   ],
   "source": [
    "spam"
   ]
  },
  {
   "cell_type": "code",
   "execution_count": null,
   "metadata": {},
   "outputs": [],
   "source": [
    "\"\"\"正如你所见，对于简单的模块这个是行得通的。 不过它并没有嵌入到通常的import语句中，如果要支持更高级的结构比如包就需要更多的工作了。\n",
    "\n",
    "一个更酷的做法是创建一个自定义导入器。第一种方法是创建一个元路径导入器。如下：\"\"\"\n"
   ]
  }
 ],
 "metadata": {
  "kernelspec": {
   "display_name": "Python 3",
   "language": "python",
   "name": "python3"
  },
  "language_info": {
   "codemirror_mode": {
    "name": "ipython",
    "version": 3
   },
   "file_extension": ".py",
   "mimetype": "text/x-python",
   "name": "python",
   "nbconvert_exporter": "python",
   "pygments_lexer": "ipython3",
   "version": "3.6.5"
  }
 },
 "nbformat": 4,
 "nbformat_minor": 2
}
